{
 "cells": [
  {
   "cell_type": "markdown",
   "id": "4f2c106a",
   "metadata": {},
   "source": [
    "# In-Class Exercises, Session 1"
   ]
  },
  {
   "cell_type": "markdown",
   "id": "6654fef2",
   "metadata": {},
   "source": [
    "COMMAND LINE AND ZIP FILE"
   ]
  },
  {
   "cell_type": "markdown",
   "id": "2c2ba28b",
   "metadata": {},
   "source": [
    "<B>1.1:  Open a Anaconda Prompt (Windows) or a Terminal window (Mac).  (To reach the Anaconda prompt, do a search for <B>Anaconda</B> and click <B>Anaconda Prompt</B>.)</B>"
   ]
  },
  {
   "cell_type": "markdown",
   "id": "3d211090",
   "metadata": {},
   "source": [
    "<UL>\n",
    "  <LI> (Unix only) Use <B>pwd</B> to see the \"present working directory\"</LI>\n",
    "  <LI> Use <B>ls</B> (Mac) or <B>dir</B> (Windows) to see a listing of the files and directories in this directory</LI>\n",
    "  <LI> Use <B>cd</B> to move into a directory you see listed in the present working directory (for example <B>cd Downloads</B>)</LI>\n",
    "  <LI> Use <B>cd ..</B> to move into the \"parent\" directory of the one you are in (this will take you back to the parent of <B>Downlaods</B></LI>\n",
    "  <LI> Use <B>cd /Users/[yourhomedir]/Desktop</B> to move into the <B>Desktop</B> directory</LI>\n",
    "  <LI> Use <B>cd ../Downloads</B> to move from the <B>Desktop</B> directory to the <B>Downloads</B> directory</LI>\n",
    "  <LI> Use <B>cd</B> (Mac) or <B>cd %HOMEPATH%</B> (Windows) to move back into the home directory</LI>\n",
    "</UL>"
   ]
  },
  {
   "cell_type": "markdown",
   "id": "7f51007f",
   "metadata": {},
   "source": [
    " "
   ]
  },
  {
   "cell_type": "markdown",
   "id": "6c0d86bd",
   "metadata": {},
   "source": [
    "FILE PARSING"
   ]
  },
  {
   "cell_type": "markdown",
   "id": "42976bfc",
   "metadata": {},
   "source": [
    "NOTE THAT the data files read from these exercises is located in the \"parent\" directory.  Thus any filename in these exercises should be preceded with <B>../</B>.  (If you create a script in the same directory as the data file, this would not be necessary.)"
   ]
  },
  {
   "cell_type": "markdown",
   "id": "f8a294ae",
   "metadata": {},
   "source": [
    " "
   ]
  },
  {
   "cell_type": "markdown",
   "id": "3895c06d",
   "metadata": {},
   "source": [
    "<B>1.2:  <U>Loop through a file and count lines</U>.  Take the following steps, running the program and verifying the result after each step:</B>"
   ]
  },
  {
   "cell_type": "markdown",
   "id": "180543e9",
   "metadata": {},
   "source": [
    "<OL>\n",
    "  <LI>Loop through the file <B>pyku.txt</B> (located in the parent directory) and print each line.</LI>\n",
    "  <LI>Add an integer counter to count the lines, reporting the count at the end (3).</LI>\n",
    "</OL>\n"
   ]
  },
  {
   "cell_type": "code",
   "execution_count": null,
   "id": "75295e78",
   "metadata": {},
   "outputs": [],
   "source": [
    "fname = '../pyku.txt'\n",
    "\n"
   ]
  },
  {
   "cell_type": "markdown",
   "id": "a4c7b5db",
   "metadata": {},
   "source": [
    " "
   ]
  },
  {
   "cell_type": "markdown",
   "id": "b2f28c3c",
   "metadata": {},
   "source": [
    "<B>1.3:  <U>Loop through a file, split out a column and add to a sum</U>.  Take the following steps, running the program and verifying the result after each step:</B>"
   ]
  },
  {
   "cell_type": "markdown",
   "id": "99e6a445",
   "metadata": {},
   "source": [
    "<OL>\n",
    "  <LI>Loop through the file <B>revenue.csv</B> and print each line.  Note that there is an extra blank line after each printed line (this is the newline character)</LI>\n",
    "  <LI>Before printing, use <B>.rstrip()</B> to strip the line of its newline character.  Print the line to see that the blank line has been omitted.</LI>\n",
    "  <LI>Split each line on a comma, and print the resulting list.</LI>\n",
    "  <LI>Subscript each list for the float value, and print the value from each line.</LI>\n",
    "  <LI>Set a float variable to 0 before the loop begins, and add each split value to the float variable (make sure to convert to float first).</LI>\n",
    "  <LI>Print the resulting sum.</LI>\n",
    "</OL>\n",
    "\n",
    "The result should be <B>662.0100000000001</B> --\n",
    "your remainder may be slightly different.\n"
   ]
  },
  {
   "cell_type": "code",
   "execution_count": null,
   "id": "54afea97",
   "metadata": {},
   "outputs": [],
   "source": [
    "fname = '../revenue.csv'\n",
    "\n",
    "fh = open(fname)\n",
    "\n",
    "for line in fh:\n",
    "    line = line.rstrip()\n",
    "    # your loop code here\n",
    "\n"
   ]
  },
  {
   "cell_type": "markdown",
   "id": "d4231c9e",
   "metadata": {},
   "source": [
    "(Note:  use the <B>next()</B> function with the filehandle to advance the file pointer past the first row, which are headers)"
   ]
  },
  {
   "cell_type": "markdown",
   "id": "307fc4a4",
   "metadata": {},
   "source": [
    " "
   ]
  },
  {
   "cell_type": "markdown",
   "id": "8294244b",
   "metadata": {},
   "source": [
    "<B>1.4:  <U>Loop through a file, split out a column and append to a list</U>.  Before the loop begins, initialize an empty list.  Perform the same operations as in previous, but add each <B>id</B> value (the first field value in each line) to the list.  </B>"
   ]
  },
  {
   "cell_type": "code",
   "execution_count": null,
   "id": "2c530733",
   "metadata": {},
   "outputs": [],
   "source": [
    "fname = '../student_db.txt'\n",
    "\n",
    "fh = open(fname)\n",
    "headers = next(fh)             # retrieve next (first) line from file\n",
    "\n",
    "for line in fh:\n",
    "    line = line.rstrip()\n",
    "    items = line.split(':')\n",
    "\n"
   ]
  },
  {
   "cell_type": "markdown",
   "id": "bc39c6cc",
   "metadata": {},
   "source": [
    " "
   ]
  },
  {
   "cell_type": "markdown",
   "id": "b066240b",
   "metadata": {},
   "source": [
    "<B>1.5:  <U>Loop through a file, split out a column and add to a set</U>.  Similar to previous, use a <B>set</B> to collect a unique collection of states found in <B>revenue.csv</B></B>"
   ]
  },
  {
   "cell_type": "code",
   "execution_count": null,
   "id": "6c7df723",
   "metadata": {},
   "outputs": [],
   "source": [
    "fname = '../revenue.csv'\n",
    "\n",
    "fh = open(fname)\n",
    "\n",
    "for line in fh:\n",
    "    line = line.rstrip()\n",
    "    items = line.split(',')\n",
    "\n"
   ]
  },
  {
   "cell_type": "markdown",
   "id": "affae33d",
   "metadata": {},
   "source": [
    " "
   ]
  },
  {
   "cell_type": "markdown",
   "id": "91bc5ab7",
   "metadata": {},
   "source": [
    "<B>1.6:  <U>Use a dict to build a lookup table</U>.  Perform the following steps, testing as you go:</B>"
   ]
  },
  {
   "cell_type": "markdown",
   "id": "94176962",
   "metadata": {},
   "source": [
    "<OL>\n",
    "  <LI>split the line on a comma</LI>\n",
    "  <LI>from the split list, retrieve the 1st (student id) and 4th (state) values</LI>\n",
    "  <LI>initialize a dict before the loop begins</LI>\n",
    "  <LI>subscript the line for student id and state</LI>\n",
    "  <LI>add student id and state to dict as key/value pair</LI>\n",
    "  <LI>when the loop is complete, print the completed dict</LI>\n",
    "  <LI>take user input for an id (for example, <B>ap172</B>); use the <B>in</B> operator to test to see if the id is a key in the dict; if it is, print the value for that key</LI>\n",
    "</OL>\n"
   ]
  },
  {
   "cell_type": "code",
   "execution_count": null,
   "id": "acd12f59",
   "metadata": {},
   "outputs": [],
   "source": [
    "fh = open('../student_db.txt')\n",
    "next(fh)                        # skip next (first) line in file\n",
    "\n",
    "for line in fh:\n",
    "    items = line.split(':')\n",
    "    stu_id = items[0]\n",
    "    state = items[3]\n"
   ]
  },
  {
   "cell_type": "markdown",
   "id": "12956639",
   "metadata": {},
   "source": [
    " "
   ]
  },
  {
   "cell_type": "markdown",
   "id": "1e77caf6",
   "metadata": {},
   "source": [
    "<B>1.7:  <U>Use a dict to build an aggregation (count or sum)</U>.  Use a dict to count the number of occurrences of each state in <B>revenue.csv</B>.  </B>"
   ]
  },
  {
   "cell_type": "code",
   "execution_count": null,
   "id": "a7450aa7",
   "metadata": {},
   "outputs": [],
   "source": [
    "fh = open('../revenue.csv')\n",
    "\n",
    "for row in fh:\n",
    "    print(row)\n",
    "\n"
   ]
  },
  {
   "cell_type": "markdown",
   "id": "400bb1a1",
   "metadata": {},
   "source": [
    " "
   ]
  },
  {
   "cell_type": "markdown",
   "id": "9e917688",
   "metadata": {},
   "source": [
    "<B>1.8:  <U>Process individual words from a file</U>.  Take the following steps, testing as you go:</B>"
   ]
  },
  {
   "cell_type": "markdown",
   "id": "4bda2f3d",
   "metadata": {},
   "source": [
    "<OL>\n",
    "  <LI>Use file <B>.read()</B> to read <B>pyku.txt</B> as a whole</LI>\n",
    "  <LI>Use string <B>.split()</B> to divide the file into words</LI>\n",
    "  <LI>Loop through each word</LI>\n",
    "  <LI>As you loop, lowercase each word and strip of punctuation</LI>\n",
    "  <LI>Initialize a set() at the top, and <B>.add()</B> each word to the set to build a set of unique words.  </LI>\n",
    "</OL>"
   ]
  },
  {
   "cell_type": "code",
   "execution_count": null,
   "id": "de575bc3",
   "metadata": {},
   "outputs": [],
   "source": [
    "fh = open('../pyku.txt')\n",
    "\n"
   ]
  },
  {
   "cell_type": "markdown",
   "id": "886449a8",
   "metadata": {},
   "source": [
    " "
   ]
  },
  {
   "cell_type": "markdown",
   "id": "ee3aba86",
   "metadata": {},
   "source": [
    "LAB EXERCISES 1"
   ]
  },
  {
   "cell_type": "markdown",
   "id": "598bc685",
   "metadata": {},
   "source": [
    "<U>Please remember</U> that to open files from this location (the location of these exercise files) you must prepend <B>'../'</B> to each data filename, since they are located in the parent directory of this location."
   ]
  },
  {
   "cell_type": "markdown",
   "id": "c1ccd285",
   "metadata": {},
   "source": [
    " "
   ]
  },
  {
   "cell_type": "markdown",
   "id": "cf81912b",
   "metadata": {},
   "source": [
    "<div style=\"background-color: #ccffcc; padding: 10px; border: 2px solid green\"><B>1.9:  <U>Use a 'for' loop to count lines in a file</U>.  Using an integer counter with a for loop, count and print the number of data lines in <B>ad\\_buys.csv</B> (hint:  use <B>next()</B> to skip the header line).  </B></div>"
   ]
  },
  {
   "cell_type": "code",
   "execution_count": null,
   "id": "36eca35f",
   "metadata": {},
   "outputs": [],
   "source": [
    "\n",
    "\n"
   ]
  },
  {
   "cell_type": "markdown",
   "id": "171eeda5",
   "metadata": {},
   "source": [
    "<U>Expected Output</U>:  "
   ]
  },
  {
   "cell_type": "markdown",
   "id": "c703bdc9",
   "metadata": {},
   "source": [
    "<pre style=\"margin: 0; padding=0\"><DIV style=\"font-family: Courier; border: 1px solid #dbdbdb; padding: 7px\">15</DIV></pre>"
   ]
  },
  {
   "cell_type": "markdown",
   "id": "7762dfba",
   "metadata": {},
   "source": [
    " "
   ]
  },
  {
   "cell_type": "markdown",
   "id": "13e76358",
   "metadata": {},
   "source": [
    "<div style=\"background-color: #ccffcc; padding: 10px; border: 2px solid green\"><B>1.10:  <U>Use a 'for' loop to print selected lines</U>.  Loop through <B>ad\\_companies.csv</B> and print out only those lines with a state of <B>AZ</B>.  </B></div>"
   ]
  },
  {
   "cell_type": "code",
   "execution_count": null,
   "id": "4e752a1c",
   "metadata": {},
   "outputs": [],
   "source": [
    "\n"
   ]
  },
  {
   "cell_type": "markdown",
   "id": "c34ab252",
   "metadata": {},
   "source": [
    "<U>Expected Output</U>:  "
   ]
  },
  {
   "cell_type": "markdown",
   "id": "2b6d1609",
   "metadata": {},
   "source": [
    "<pre style=\"margin: 0; padding=0\"><DIV style=\"font-family: Courier; border: 1px solid #dbdbdb; padding: 7px\">3,Omni Media,Phoenix,AZ\n",
    "5,Addy Ads,Tempe,AZ</DIV></pre>"
   ]
  },
  {
   "cell_type": "markdown",
   "id": "9246dcbd",
   "metadata": {},
   "source": [
    "Please note that there is no blank line printed after each line."
   ]
  },
  {
   "cell_type": "markdown",
   "id": "a59d7fdb",
   "metadata": {},
   "source": [
    " "
   ]
  },
  {
   "cell_type": "markdown",
   "id": "34d5c820",
   "metadata": {},
   "source": [
    "<div style=\"background-color: #ccffcc; padding: 10px; border: 2px solid green\"><B>1.11:  <U>Use a 'for' loop to print first word from each line in a file</U>.  Loop through and print just the first word from the file <B>pyku.txt</B>.  </B></div>"
   ]
  },
  {
   "cell_type": "code",
   "execution_count": null,
   "id": "348fc7fe",
   "metadata": {},
   "outputs": [],
   "source": [
    "\n"
   ]
  },
  {
   "cell_type": "markdown",
   "id": "1d8d61cd",
   "metadata": {},
   "source": [
    "<U>Expected Output</U>:  "
   ]
  },
  {
   "cell_type": "markdown",
   "id": "c97960ae",
   "metadata": {},
   "source": [
    "<pre style=\"margin: 0; padding=0\"><DIV style=\"font-family: Courier; border: 1px solid #dbdbdb; padding: 7px\">We're\n",
    "This\n",
    "Spam</DIV></pre>"
   ]
  },
  {
   "cell_type": "markdown",
   "id": "9ec4a231",
   "metadata": {},
   "source": [
    "Please note that there is no comma after the word 'Spam'"
   ]
  },
  {
   "cell_type": "markdown",
   "id": "c94debfe",
   "metadata": {},
   "source": [
    " "
   ]
  },
  {
   "cell_type": "markdown",
   "id": "74e4b914",
   "metadata": {},
   "source": [
    "<div style=\"background-color: #ccffcc; padding: 10px; border: 2px solid green\"><B>1.12:  <U>Use a 'for' loop to sum up int/float values in a file</U>.  Sum up the 'volume' values in the file <B>ad\\_buys.csv</B>.  </B></div>"
   ]
  },
  {
   "cell_type": "code",
   "execution_count": null,
   "id": "ae2069b9",
   "metadata": {},
   "outputs": [],
   "source": [
    "\n"
   ]
  },
  {
   "cell_type": "markdown",
   "id": "b3fa5c5d",
   "metadata": {},
   "source": [
    "<U>Expected Output</U>:  "
   ]
  },
  {
   "cell_type": "markdown",
   "id": "8a2c69bb",
   "metadata": {},
   "source": [
    "<pre style=\"margin: 0; padding=0\"><DIV style=\"font-family: Courier; border: 1px solid #dbdbdb; padding: 7px\">150</DIV></pre>"
   ]
  },
  {
   "cell_type": "markdown",
   "id": "4fe14923",
   "metadata": {},
   "source": [
    " "
   ]
  },
  {
   "cell_type": "markdown",
   "id": "b261e140",
   "metadata": {},
   "source": [
    "<div style=\"background-color: #ccffcc; padding: 10px; border: 2px solid green\"><B>1.13:  <U>Use a 'for' loop to collect a value from each line in a file</U>.  Collect a list of states from <B>ad\\_companies.csv</B>.  </B></div>"
   ]
  },
  {
   "cell_type": "code",
   "execution_count": null,
   "id": "2afa6ee1",
   "metadata": {},
   "outputs": [],
   "source": [
    "\n"
   ]
  },
  {
   "cell_type": "markdown",
   "id": "13f6c6fe",
   "metadata": {},
   "source": [
    "Keep in mind that since the state value is the last on each line, we must <B>.rstrip()</B> the line the remove the newline so that it doesn't remain attached to the state value.\n"
   ]
  },
  {
   "cell_type": "markdown",
   "id": "ddcaa79d",
   "metadata": {},
   "source": [
    "<U>Expected Output</U>:  "
   ]
  },
  {
   "cell_type": "markdown",
   "id": "d438fc56",
   "metadata": {},
   "source": [
    "<pre style=\"margin: 0; padding=0\"><DIV style=\"font-family: Courier; border: 1px solid #dbdbdb; padding: 7px\">['OR', 'OR', 'AZ', 'PA', 'AZ']</DIV></pre>"
   ]
  },
  {
   "cell_type": "markdown",
   "id": "c1fe9ec4",
   "metadata": {},
   "source": [
    " "
   ]
  },
  {
   "cell_type": "markdown",
   "id": "e34b5c66",
   "metadata": {},
   "source": [
    "<div style=\"background-color: #ccffcc; padding: 10px; border: 2px solid green\"><B>1.14:  <U>Evaluate each word in a file</U>.  Split <B>pyku.txt</B> into words, then use a 'for' loop to print each word that has more than 4 letters (after stripping punctuation)</U>.  </B></div>"
   ]
  },
  {
   "cell_type": "code",
   "execution_count": null,
   "id": "44cc340a",
   "metadata": {},
   "outputs": [],
   "source": [
    "\n"
   ]
  },
  {
   "cell_type": "markdown",
   "id": "67aa6492",
   "metadata": {},
   "source": [
    "<U>Expected Output</U>:  "
   ]
  },
  {
   "cell_type": "markdown",
   "id": "a24cb324",
   "metadata": {},
   "source": [
    "<pre style=\"margin: 0; padding=0\"><DIV style=\"font-family: Courier; border: 1px solid #dbdbdb; padding: 7px\">We're\n",
    "gouda\n",
    "parrot\n",
    "ceased</DIV></pre>"
   ]
  },
  {
   "cell_type": "markdown",
   "id": "4de75581",
   "metadata": {},
   "source": [
    " "
   ]
  },
  {
   "cell_type": "markdown",
   "id": "211ab132",
   "metadata": {},
   "source": [
    "SUMMARY STATISTICS FROM LIST OF VALUES"
   ]
  },
  {
   "cell_type": "markdown",
   "id": "6e37c533",
   "metadata": {},
   "source": [
    "<B>1.15:  <U>Derive statistical information from a list of values</U>.  Given the list of revenue values, use functions to calculate count (7), sum of values (662.01), maximum and minimum values (239.5, 5.98) in the list.  </B>"
   ]
  },
  {
   "cell_type": "code",
   "execution_count": null,
   "id": "6f36c614",
   "metadata": {},
   "outputs": [],
   "source": [
    "vals = [239.5, 53.9, 211.5, 11.98, 5.98, 23.95, 115.2]\n",
    "\n"
   ]
  },
  {
   "cell_type": "markdown",
   "id": "bd040938",
   "metadata": {},
   "source": [
    " "
   ]
  },
  {
   "cell_type": "markdown",
   "id": "e97a8155",
   "metadata": {},
   "source": [
    "<B>1.16:  <U>Evaluate objects in a boolean context</U>.  </B>"
   ]
  },
  {
   "cell_type": "markdown",
   "id": "191354cc",
   "metadata": {},
   "source": [
    "First, run the below code to see how each of the below variables converts to <B>bool()</B>, a function for converting to boolean (True/False) value.\n",
    "\n",
    "Then, uncomment the code to see how each of the variables behaves in an <B>if</B> statement (boolean context, i.e. evaluating as True/False)\n"
   ]
  },
  {
   "cell_type": "code",
   "execution_count": null,
   "id": "66e69eb9",
   "metadata": {},
   "outputs": [],
   "source": [
    "list_empty = []\n",
    "list_full = [0, 0, 0]\n",
    "\n",
    "dict_empty = {}\n",
    "dict_full = {'a': None, 'b': None}\n",
    "\n",
    "int_empty = 0\n",
    "int_full = -1\n",
    "\n",
    "for item in [list_empty, list_full, dict_empty, dict_full,\n",
    "             int_empty, int_full]:\n",
    "\n",
    "    print(f'{item} in boolean context:  {bool(item)}')\n",
    "    #if item:\n",
    "    #    print(f'{item} resolves to True in an if test')\n",
    "    #else:\n",
    "    #    print(f'{item} resolves to False in an if test')\n",
    "    print()"
   ]
  },
  {
   "cell_type": "markdown",
   "id": "ac6b631f",
   "metadata": {},
   "source": [
    " "
   ]
  },
  {
   "cell_type": "markdown",
   "id": "f4f7d7eb",
   "metadata": {},
   "source": [
    "<B>1.17:  <U>Sort and slice a list to derive a ranking</U>.  Given the list of temperature values, use <B>sorted()</B> to put them in order and list slicing to determine top 3 and bottom 2 values in the list.  </B>"
   ]
  },
  {
   "cell_type": "code",
   "execution_count": null,
   "id": "b88fa8ff",
   "metadata": {},
   "outputs": [],
   "source": [
    "temps = [38, 52, 46, 70, 48, 75, 73, 75, 74, 59, 49, 48]\n",
    "\n"
   ]
  },
  {
   "cell_type": "markdown",
   "id": "74c3f3e2",
   "metadata": {},
   "source": [
    " "
   ]
  },
  {
   "cell_type": "markdown",
   "id": "b46ad2d5",
   "metadata": {},
   "source": [
    "<B>1.18:  <U>Sort a dict by value</U>.  Given the below dict, sort the keys by value, highest to lowest, and then loop through the sorted keys, printing each value as you go.  (Hint:  use <B>key=valdict.get</B> to sort a key by value.)  </B>"
   ]
  },
  {
   "cell_type": "code",
   "execution_count": null,
   "id": "2560ea70",
   "metadata": {},
   "outputs": [],
   "source": [
    "valdict = {'Acme': 0.09, 'Beta': 1.13, 'Gamma': 4.07, 'Delta': 2.7}\n"
   ]
  },
  {
   "cell_type": "markdown",
   "id": "f6edfd96",
   "metadata": {},
   "source": [
    " "
   ]
  },
  {
   "cell_type": "markdown",
   "id": "c2ee629f",
   "metadata": {},
   "source": [
    "CSV MODULE"
   ]
  },
  {
   "cell_type": "markdown",
   "id": "a6502c18",
   "metadata": {},
   "source": [
    "<B>1.19:  <U>Use csv module to read a file</U>.  Take the following steps, testing as you go:</B>"
   ]
  },
  {
   "cell_type": "markdown",
   "id": "36c6d8a3",
   "metadata": {},
   "source": [
    "<OL>\n",
    "  <LI>Open a file and pass the file object to <B>csv.reader()</B></LI>\n",
    "  <LI>Loop through the <B>reader</B> object line by line, printing each line.  Note the type of the object representing each row.</LI>\n",
    "  <LI>Subscript the float value from each list and convert to float.</LI>\n",
    "  <LI>Initialize a float variable <B>0.0</B> at the top and add each float value to it inside the loop, producing a sum.\n",
    "</OL>"
   ]
  },
  {
   "cell_type": "code",
   "execution_count": null,
   "id": "9f6573c2",
   "metadata": {},
   "outputs": [],
   "source": [
    "import csv\n",
    "\n",
    "fh = open('../revenue.csv')\n"
   ]
  },
  {
   "cell_type": "markdown",
   "id": "3e82fb2b",
   "metadata": {},
   "source": [
    " "
   ]
  },
  {
   "cell_type": "markdown",
   "id": "190631b0",
   "metadata": {},
   "source": [
    "<B>1.20:  <U>Write individual rows to a CSV file</U>.  Take the following steps, testing as you go:</B>"
   ]
  },
  {
   "cell_type": "markdown",
   "id": "01329a4a",
   "metadata": {},
   "source": [
    "<OL>\n",
    "  <LI>Open a file for writing and pass the filehandle to <B>csv.writer()</B> (when opening the file for writing, include the <B>newline=''</B> argument to <B>open()</B> so newlines will be written properly).</LI>\n",
    "  <LI>Use <B>.writerow()</B> on the writer object to write each list to the file, starting with the <B>header</B> list.</LI>\n",
    "  <LI>Close the file, then open and view <B>newfile.csv</B> in the session directory.</LI>\n",
    "</OL>"
   ]
  },
  {
   "cell_type": "code",
   "execution_count": null,
   "id": "1c4146ca",
   "metadata": {},
   "outputs": [],
   "source": [
    "import csv\n",
    "\n",
    "header = ['name', 'address', 'state', 'zip']\n",
    "\n",
    "row1 = ['Joe', '123 Main', 'CA', '91603']\n",
    "row2 = ['Marie', '234 Camarino', 'NJ', '92325']\n",
    "\n",
    "fname = '../newfile.csv'     # a new file, or replacing old if exists\n",
    "\n",
    "wfh = open(fname, 'w', newline='')\n"
   ]
  },
  {
   "cell_type": "markdown",
   "id": "df4ecae1",
   "metadata": {},
   "source": [
    " "
   ]
  },
  {
   "cell_type": "markdown",
   "id": "24b001c9",
   "metadata": {},
   "source": [
    "<B>1.21:  <U>Write multiple rows to a CSV file</U>.  Follow the same steps as above, but use <B>.writerows()</B> to write the entire list of lists to the file.  Close the file, then look for <B>newfile2.csv</B> in the session directory.  </B>"
   ]
  },
  {
   "cell_type": "code",
   "execution_count": null,
   "id": "723c2a1f",
   "metadata": {},
   "outputs": [],
   "source": [
    "rows = [\n",
    "         [ 'date', 'temp', 'wind' ],\n",
    "         [ '2020-06-13', '78.3', '6' ],\n",
    "         [ '2020-06-14', '77.0', '8' ],\n",
    "       ]\n",
    "\n",
    "fname = '../newfile2.csv'\n",
    "\n",
    "wfh = open(fname, 'w', newline='')\n",
    "\n",
    "writer = csv.writer(wfh)\n",
    "\n"
   ]
  },
  {
   "cell_type": "markdown",
   "id": "3bd48b2f",
   "metadata": {},
   "source": [
    " "
   ]
  },
  {
   "cell_type": "markdown",
   "id": "b89a60e6",
   "metadata": {},
   "source": [
    "<B>1.22:  <U>Selectively write rows to a CSV</U>.  Loop through the list of lists and write only the <B>US</B> rows to the file.  Also write the header as the first row.  Close the file, then look for <B>newfile3.csv</B> in the session directory.  </B>"
   ]
  },
  {
   "cell_type": "code",
   "execution_count": null,
   "id": "927e82eb",
   "metadata": {},
   "outputs": [],
   "source": [
    "rows = [\n",
    "         [ 'company', 'state/province', 'country' ],\n",
    "         [ 'Acme', 'Caliornia', 'US' ],\n",
    "         [ 'Bento', 'Toledo', 'SP' ],\n",
    "         [ 'OuiOui', 'Bourges', 'FR' ],\n",
    "         [ 'Beta', 'New York', 'US' ]\n",
    "       ]\n",
    "\n",
    "fname = '../newfile3.csv'\n",
    "\n",
    "wfh = open(fname, 'w', newline='')\n",
    "writer = csv.writer(wfh)\n",
    "\n"
   ]
  },
  {
   "cell_type": "markdown",
   "id": "bbfe1f57",
   "metadata": {},
   "source": [
    " "
   ]
  },
  {
   "cell_type": "markdown",
   "id": "c90225e7",
   "metadata": {},
   "source": [
    "<B>1.23:  <U>Selectively write columns to a CSV</U>.  Loop through the list of lists and write only the <B>company</B> and <B>country</B> columns to the file.  Include the header.  Close the file, then look for <B>newfile4.csv</B> in the session directory.  </B>"
   ]
  },
  {
   "cell_type": "code",
   "execution_count": null,
   "id": "db28b3df",
   "metadata": {},
   "outputs": [],
   "source": [
    "rows = [\n",
    "         [ 'company', 'state/province', 'country' ],\n",
    "         [ 'Acme', 'Caliornia', 'US' ],\n",
    "         [ 'Bento', 'Toledo', 'SP' ],\n",
    "         [ 'OuiOui', 'Bourges', 'FR' ],\n",
    "         [ 'Beta', 'New York', 'US' ]\n",
    "       ]\n",
    "\n",
    "fname = '../newfile4.csv'\n",
    "\n",
    "wfh = open(fname, 'w', newline='')\n",
    "writer = csv.writer(wfh)\n",
    "\n",
    "\n",
    "\n"
   ]
  },
  {
   "cell_type": "markdown",
   "id": "76983d3b",
   "metadata": {},
   "source": [
    " "
   ]
  },
  {
   "cell_type": "markdown",
   "id": "815703d2",
   "metadata": {},
   "source": [
    "FUNCTIONS"
   ]
  },
  {
   "cell_type": "markdown",
   "id": "0b081323",
   "metadata": {},
   "source": [
    "<B>1.24:  What is the correct way to call this function?</B>"
   ]
  },
  {
   "cell_type": "code",
   "execution_count": null,
   "id": "04ded261",
   "metadata": {},
   "outputs": [],
   "source": [
    "def do():\n",
    "    print('ok')\n"
   ]
  },
  {
   "cell_type": "markdown",
   "id": "90669384",
   "metadata": {},
   "source": [
    " "
   ]
  },
  {
   "cell_type": "markdown",
   "id": "f88a5970",
   "metadata": {},
   "source": [
    "<B>1.25:  What is the correct way to call this function?</B>"
   ]
  },
  {
   "cell_type": "code",
   "execution_count": null,
   "id": "6909ed05",
   "metadata": {},
   "outputs": [],
   "source": [
    "def do(arg):\n",
    "    print(arg)\n",
    "\n"
   ]
  },
  {
   "cell_type": "markdown",
   "id": "5a17309f",
   "metadata": {},
   "source": [
    " "
   ]
  },
  {
   "cell_type": "markdown",
   "id": "ec5d3c00",
   "metadata": {},
   "source": [
    "<B>1.26:  What is the correct way to call this function?</B>"
   ]
  },
  {
   "cell_type": "code",
   "execution_count": null,
   "id": "47f9e1f9",
   "metadata": {},
   "outputs": [],
   "source": [
    "def do(arg):\n",
    "    darg = arg * 2\n",
    "    return darg\n",
    "\n"
   ]
  },
  {
   "cell_type": "markdown",
   "id": "e5b97421",
   "metadata": {},
   "source": [
    " "
   ]
  },
  {
   "cell_type": "markdown",
   "id": "1029bf63",
   "metadata": {},
   "source": [
    "<B>1.27:  What is the correct way to call this function?</B>"
   ]
  },
  {
   "cell_type": "code",
   "execution_count": null,
   "id": "d08abfc6",
   "metadata": {},
   "outputs": [],
   "source": [
    "import random\n",
    "\n",
    "def do():\n",
    "    num = random.randint(0, 10)\n",
    "    return num\n",
    "\n"
   ]
  },
  {
   "cell_type": "markdown",
   "id": "c9d7e8f2",
   "metadata": {},
   "source": [
    " "
   ]
  },
  {
   "cell_type": "markdown",
   "id": "a74cdc99",
   "metadata": {},
   "source": [
    "<B>1.28:  What is the correct way to call this function?</B>"
   ]
  },
  {
   "cell_type": "code",
   "execution_count": null,
   "id": "4f1a8ef6",
   "metadata": {},
   "outputs": [],
   "source": [
    "def do(arg, otherarg):\n",
    "    svals = arg + otherarg\n",
    "    return svals\n",
    "\n"
   ]
  },
  {
   "cell_type": "markdown",
   "id": "1ddf33fc",
   "metadata": {},
   "source": [
    " "
   ]
  },
  {
   "cell_type": "markdown",
   "id": "bffdfefa",
   "metadata": {},
   "source": [
    "<B>1.29:  What is the correct way to call this function?</B>"
   ]
  },
  {
   "cell_type": "code",
   "execution_count": null,
   "id": "d5df9f39",
   "metadata": {},
   "outputs": [],
   "source": [
    "def do(arg, otherarg):\n",
    "    darg = arg * 2\n",
    "    dotherarg = otherarg * 2\n",
    "    return darg, dotherarg\n",
    "\n"
   ]
  },
  {
   "cell_type": "markdown",
   "id": "05e80ecd",
   "metadata": {},
   "source": [
    " "
   ]
  },
  {
   "cell_type": "markdown",
   "id": "d012b793",
   "metadata": {},
   "source": [
    "<B>1.30:  Write a function callme() that prints \"function called\" every time you call it.  Call the function with the following code:</B>"
   ]
  },
  {
   "cell_type": "code",
   "execution_count": null,
   "id": "05dae164",
   "metadata": {},
   "outputs": [],
   "source": [
    "# your code here\n",
    "\n",
    "callme()\n",
    "callme()\n",
    "callme()"
   ]
  },
  {
   "cell_type": "markdown",
   "id": "e064b806",
   "metadata": {},
   "source": [
    "<U>Expected Output</U>:  "
   ]
  },
  {
   "cell_type": "markdown",
   "id": "96ed8694",
   "metadata": {},
   "source": [
    "<pre style=\"margin: 0; padding=0\"><DIV style=\"font-family: Courier; border: 1px solid #dbdbdb; padding: 7px\">function called...\n",
    "function called...\n",
    "function called...</DIV></pre>"
   ]
  },
  {
   "cell_type": "markdown",
   "id": "b15036ef",
   "metadata": {},
   "source": [
    " "
   ]
  },
  {
   "cell_type": "markdown",
   "id": "6b535c5f",
   "metadata": {},
   "source": [
    "<B>1.31:  Write a function printupper() that takes one argument, a string, and prints that string uppercased.  Call it with the following code:</B>"
   ]
  },
  {
   "cell_type": "code",
   "execution_count": null,
   "id": "319424d9",
   "metadata": {},
   "outputs": [],
   "source": [
    "# your code here\n",
    "\n",
    "printupper('hello')\n",
    "printupper('my you are loud')\n",
    "printupper('I am not loud.  You are.')"
   ]
  },
  {
   "cell_type": "markdown",
   "id": "3510ee77",
   "metadata": {},
   "source": [
    "<U>Expected Output</U>:  "
   ]
  },
  {
   "cell_type": "markdown",
   "id": "a152119d",
   "metadata": {},
   "source": [
    "<pre style=\"margin: 0; padding=0\"><DIV style=\"font-family: Courier; border: 1px solid #dbdbdb; padding: 7px\">HELLO\n",
    "MY YOU ARE LOUD\n",
    "I AM NOT LOUD.  YOU ARE.</DIV></pre>"
   ]
  },
  {
   "cell_type": "markdown",
   "id": "7dd5c52c",
   "metadata": {},
   "source": [
    " "
   ]
  },
  {
   "cell_type": "markdown",
   "id": "bdabfaf4",
   "metadata": {},
   "source": [
    "<B>1.32:  Write a function addme() that takes two arguments, adds them together and returns the two arguments added / concatenated.  Call it thusly:</B>"
   ]
  },
  {
   "cell_type": "code",
   "execution_count": null,
   "id": "26a3324a",
   "metadata": {},
   "outputs": [],
   "source": [
    "# your code here\n",
    "\n",
    "x = addme(4, 5)\n",
    "print x\n",
    "\n",
    "y = addme('hey', 'you')\n",
    "print y"
   ]
  },
  {
   "cell_type": "markdown",
   "id": "9e9cbded",
   "metadata": {},
   "source": [
    "<U>Expected Output</U>:  "
   ]
  },
  {
   "cell_type": "markdown",
   "id": "9ee01da1",
   "metadata": {},
   "source": [
    "<pre style=\"margin: 0; padding=0\"><DIV style=\"font-family: Courier; border: 1px solid #dbdbdb; padding: 7px\">9\n",
    "heyyou</DIV></pre>"
   ]
  },
  {
   "cell_type": "markdown",
   "id": "33187dcd",
   "metadata": {},
   "source": [
    " "
   ]
  },
  {
   "cell_type": "markdown",
   "id": "74226f8f",
   "metadata": {},
   "source": [
    "<B>1.33:  Write a function printlist() that takes a list and loops through and prints each element of the list.  Call it thusly:</B>"
   ]
  },
  {
   "cell_type": "code",
   "execution_count": null,
   "id": "1ce44f5f",
   "metadata": {},
   "outputs": [],
   "source": [
    "# your code here\n",
    "\n",
    "printlist([1, 2, 'a', 'b'])\n"
   ]
  },
  {
   "cell_type": "markdown",
   "id": "d591dbe8",
   "metadata": {},
   "source": [
    "<U>Expected Output</U>:  "
   ]
  },
  {
   "cell_type": "markdown",
   "id": "dc13f241",
   "metadata": {},
   "source": [
    "<pre style=\"margin: 0; padding=0\"><DIV style=\"font-family: Courier; border: 1px solid #dbdbdb; padding: 7px\">1\n",
    "2\n",
    "a\n",
    "b</DIV></pre>"
   ]
  },
  {
   "cell_type": "markdown",
   "id": "3e5ff4f0",
   "metadata": {},
   "source": [
    " "
   ]
  },
  {
   "cell_type": "markdown",
   "id": "ec1b42f7",
   "metadata": {},
   "source": [
    "LAB EXERCISES 2"
   ]
  },
  {
   "cell_type": "markdown",
   "id": "f0fd835a",
   "metadata": {},
   "source": [
    "<div style=\"background-color: #ccffcc; padding: 10px; border: 2px solid green\"><B>1.34:  <U>Use <B>csv</B> module to parse a file</U>.  Read the file <B>ad\\_companies.csv</B> and build a set of company names that appear in the file.  Make sure to use the <B>csv</B> module.  </B></div>"
   ]
  },
  {
   "cell_type": "code",
   "execution_count": null,
   "id": "39ed62d6",
   "metadata": {},
   "outputs": [],
   "source": [
    "\n"
   ]
  },
  {
   "cell_type": "markdown",
   "id": "881f8d00",
   "metadata": {},
   "source": [
    "<U>Expected Output</U>:  "
   ]
  },
  {
   "cell_type": "markdown",
   "id": "992a28e1",
   "metadata": {},
   "source": [
    "<pre style=\"margin: 0; padding=0\"><DIV style=\"font-family: Courier; border: 1px solid #dbdbdb; padding: 7px\">{'Alpha Corp.', \"Mike's Ads\", 'Omni Media', 'Jones Kraft', 'Addy Ads'}</DIV></pre>"
   ]
  },
  {
   "cell_type": "markdown",
   "id": "c668fbcd",
   "metadata": {},
   "source": [
    "(Order of your set may be different.)"
   ]
  },
  {
   "cell_type": "markdown",
   "id": "f2e05b4a",
   "metadata": {},
   "source": [
    " "
   ]
  },
  {
   "cell_type": "markdown",
   "id": "3f3f355d",
   "metadata": {},
   "source": [
    "<div style=\"background-color: #ccffcc; padding: 10px; border: 2px solid green\"><B>1.35:  <U>Use <B>csv</B> module to parse a file</U>.  Read the file <B>ad\\_buys.csv</B> and build a list of float values from the file:  the 'volume' value.  Make sure they are compiled as integers, not as strings.  </B></div>"
   ]
  },
  {
   "cell_type": "code",
   "execution_count": null,
   "id": "78505db7",
   "metadata": {},
   "outputs": [],
   "source": [
    "\n"
   ]
  },
  {
   "cell_type": "markdown",
   "id": "dd713f78",
   "metadata": {},
   "source": [
    "<U>Expected Output</U>:  "
   ]
  },
  {
   "cell_type": "markdown",
   "id": "0ca70882",
   "metadata": {},
   "source": [
    "<pre style=\"margin: 0; padding=0\"><DIV style=\"font-family: Courier; border: 1px solid #dbdbdb; padding: 7px\">[20, 10, 8, 12, 14, 3, 6, 18, 16, 6, 14, 2, 10, 3, 8]</DIV></pre>"
   ]
  },
  {
   "cell_type": "markdown",
   "id": "f2126be9",
   "metadata": {},
   "source": [
    " "
   ]
  },
  {
   "cell_type": "markdown",
   "id": "27942a35",
   "metadata": {},
   "source": [
    "<div style=\"background-color: #ccffcc; padding: 10px; border: 2px solid green\"><B>1.36:  <U>Use the <B>csv</B> module to parse a file and write to a new file</U>.  Open file <B>ad\\_buys.csv</B> for reading and pass to <B>csv.reader()</B>, and new file <B>ad\\_buys\\_totals.csv</B> for writing and pass to <B>csv.writer()</B> (when opening the file for writing, include the <B>newline=''</B> parameter argument to write newlines properly).  As you loop through the read file, multiply the <B>volume</B> value by the <B>price</B> rounded to two places and add a new column, <B>total</B>, writing all columns to the new file.  Make sure to include the headers with the new column label.  </B></div>"
   ]
  },
  {
   "cell_type": "code",
   "execution_count": null,
   "id": "d9e339bd",
   "metadata": {},
   "outputs": [],
   "source": [
    "\n"
   ]
  },
  {
   "cell_type": "markdown",
   "id": "1fb6d1d7",
   "metadata": {},
   "source": [
    "<U>Expected Output</U>:  "
   ]
  },
  {
   "cell_type": "markdown",
   "id": "aec6ce9d",
   "metadata": {},
   "source": [
    "<pre style=\"margin: 0; padding=0\"><DIV style=\"font-family: Courier; border: 1px solid #dbdbdb; padding: 7px\"># at the end the file should contain:\n",
    "\n",
    "datetime,buyer_id,seller_id,volume,price,total\n",
    "1/14/18 8:33,1,2,20,0.083,1.66\n",
    "1/14/18 8:38,2,4,10,0.083,0.83\n",
    "1/14/18 8:41,1,2,8,0.061,0.49\n",
    "1/14/18 8:48,1,4,12,0.13,1.56\n",
    "1/14/18 8:59,2,1,14,0.072,1.01\n",
    "1/14/18 9:02,4,2,3,0.073,0.22\n",
    "1/14/18 9:06,2,4,6,0.098,0.59\n",
    "1/14/18 9:09,1,4,18,0.14,2.52\n",
    "1/14/18 9:15,4,1,16,0.1,1.6\n",
    "1/14/18 9:18,1,2,6,0.043,0.26\n",
    "1/14/18 9:22,2,1,14,0.033,0.46\n",
    "1/14/18 9:28,6,4,2,0.029,0.06\n",
    "1/14/18 9:38,2,4,10,0.083,0.83\n",
    "1/14/18 9:39,4,2,3,0.073,0.22\n",
    "1/14/18 9:41,1,2,8,0.061,0.49</DIV></pre>"
   ]
  },
  {
   "cell_type": "markdown",
   "id": "ae927aa7",
   "metadata": {},
   "source": [
    " "
   ]
  },
  {
   "cell_type": "markdown",
   "id": "f1d23299",
   "metadata": {},
   "source": [
    "<div style=\"background-color: #ccffcc; padding: 10px; border: 2px solid green\"><B>1.37:  Place the entire \"set of company names\" code (except for the imports, which should be outside the function) into new function <B>get\\_companies(filename)</B> that takes a filename as argument and returns the set of company names.</B></div>"
   ]
  },
  {
   "cell_type": "code",
   "execution_count": null,
   "id": "8dfbe6f7",
   "metadata": {},
   "outputs": [],
   "source": [
    "filename = '../ad_companies.csv'\n",
    "\n",
    "names = get_companies(filename)\n",
    "\n",
    "print(names)"
   ]
  },
  {
   "cell_type": "markdown",
   "id": "37acd10e",
   "metadata": {},
   "source": [
    "<U>Expected Output</U>:  "
   ]
  },
  {
   "cell_type": "markdown",
   "id": "3ccbe985",
   "metadata": {},
   "source": [
    "<pre style=\"margin: 0; padding=0\"><DIV style=\"font-family: Courier; border: 1px solid #dbdbdb; padding: 7px\">{'Alpha Corp.', \"Mike's Ads\", 'Omni Media', 'Jones Kraft', 'Addy Ads'}</DIV></pre>"
   ]
  },
  {
   "cell_type": "markdown",
   "id": "b420e406",
   "metadata": {},
   "source": [
    "(Order of your set may be different.)"
   ]
  },
  {
   "cell_type": "markdown",
   "id": "44a3ba5a",
   "metadata": {},
   "source": [
    " "
   ]
  }
 ],
 "metadata": {},
 "nbformat": 4,
 "nbformat_minor": 5
}
