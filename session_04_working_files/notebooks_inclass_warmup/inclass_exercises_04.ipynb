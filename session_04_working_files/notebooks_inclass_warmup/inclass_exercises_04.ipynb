{
 "cells": [
  {
   "cell_type": "markdown",
   "id": "abe7b8ea",
   "metadata": {},
   "source": [
    "# In-Class Exercises, Session 4"
   ]
  },
  {
   "cell_type": "markdown",
   "id": "8cdce2f6",
   "metadata": {},
   "source": [
    "ANCHORS and BOUNDARY"
   ]
  },
  {
   "cell_type": "markdown",
   "id": "3782b7f4",
   "metadata": {},
   "source": [
    " "
   ]
  },
  {
   "cell_type": "markdown",
   "id": "aea98e7f",
   "metadata": {},
   "source": [
    "<B>4.1:  <U>Match a simple character pattern</U>.  </B>"
   ]
  },
  {
   "cell_type": "markdown",
   "id": "1e366619",
   "metadata": {},
   "source": [
    "Search for 'Velas', then try 'Benter' and 'Acme'.\n"
   ]
  },
  {
   "cell_type": "code",
   "execution_count": null,
   "id": "2d23cbb9",
   "metadata": {},
   "outputs": [],
   "source": [
    "import re\n",
    "\n",
    "lines = [\n",
    "  'Acme Corporation is heded by CEO Joseph Benter, and ',\n",
    "  'President Maria Velas.  Mr. Benter focuses on R&D ',\n",
    "  'while Ms. Velas provides vision and major deals for ',\n",
    "  'Acme.  ']\n",
    "\n",
    "for line in lines:\n",
    "    if re.search(r'', line):\n",
    "        print(line)"
   ]
  },
  {
   "cell_type": "markdown",
   "id": "16172338",
   "metadata": {},
   "source": [
    "<U>Expected Output</U> (for <B>Velas</B>):"
   ]
  },
  {
   "cell_type": "markdown",
   "id": "f6f01812",
   "metadata": {},
   "source": [
    "<pre style=\"margin: 0; padding=0\"><DIV style=\"font-family: Courier; border: 1px solid #dbdbdb; padding: 7px\">President Maria Velas.  Mr. Benter focuses on R&D\n",
    "while Ms. Velas provides vision and major deals for</DIV></pre>"
   ]
  },
  {
   "cell_type": "markdown",
   "id": "03a75f2f",
   "metadata": {},
   "source": [
    " "
   ]
  },
  {
   "cell_type": "markdown",
   "id": "52b6f3f8",
   "metadata": {},
   "source": [
    "<B>4.2:  <U>'not' to negate a search</U>.  Execute previous pattern with 'not' in front of <B>re.search()</B></B>"
   ]
  },
  {
   "cell_type": "code",
   "execution_count": null,
   "id": "a209c106",
   "metadata": {},
   "outputs": [],
   "source": [
    "import re\n",
    "\n",
    "lines = [\n",
    "  'Acme Corporation is heded by CEO Joseph Benter, and ',\n",
    "  'President Maria Velas.  Mr. Benter focuses on R&D ',\n",
    "  'while Ms. Velas provides vision and major deals for ',\n",
    "  'Acme.  ']\n",
    "\n",
    "for line in lines:\n",
    "    if re.search(r'Benter', line):\n",
    "        print(line)"
   ]
  },
  {
   "cell_type": "markdown",
   "id": "4c420cbf",
   "metadata": {},
   "source": [
    "<U>Expected Output</U> (for <B>Benter</B>):"
   ]
  },
  {
   "cell_type": "markdown",
   "id": "1bc8b832",
   "metadata": {},
   "source": [
    "<pre style=\"margin: 0; padding=0\"><DIV style=\"font-family: Courier; border: 1px solid #dbdbdb; padding: 7px\">while Ms. Velas provides vision and major deals for\n",
    "Acme.</DIV></pre>"
   ]
  },
  {
   "cell_type": "markdown",
   "id": "a97c2044",
   "metadata": {},
   "source": [
    " "
   ]
  },
  {
   "cell_type": "markdown",
   "id": "a74de5bd",
   "metadata": {},
   "source": [
    "<B>4.3:  <U>Anchors - start of string</U>.  </B>"
   ]
  },
  {
   "cell_type": "markdown",
   "id": "a38ea382",
   "metadata": {},
   "source": [
    "Print only those lines that have 'TEL' at the start:"
   ]
  },
  {
   "cell_type": "code",
   "execution_count": null,
   "id": "a5fafaa8",
   "metadata": {},
   "outputs": [],
   "source": [
    "import re\n",
    "\n",
    "for text_line in ['AURORA HOTEL',\n",
    "                  'OPEN12:00 AM - 11:59 PM',\n",
    "                  '14200 E ALAMEDA AVE AURORA, CO 80012',\n",
    "                  'TEL (303) 344-9901']:\n",
    "    if re.search(r'', text_line):\n",
    "        print(text_line)"
   ]
  },
  {
   "cell_type": "markdown",
   "id": "60d1e6be",
   "metadata": {},
   "source": [
    "<U>Expected Output</U>:"
   ]
  },
  {
   "cell_type": "markdown",
   "id": "fa090087",
   "metadata": {},
   "source": [
    "<pre style=\"margin: 0; padding=0\"><DIV style=\"font-family: Courier; border: 1px solid #dbdbdb; padding: 7px\">TEL (303) 344-9901</DIV></pre>"
   ]
  },
  {
   "cell_type": "markdown",
   "id": "4bf7d992",
   "metadata": {},
   "source": [
    " "
   ]
  },
  {
   "cell_type": "markdown",
   "id": "f6a8b10a",
   "metadata": {},
   "source": [
    "<B>4.4:  <U>Anchors - end of string</U>.  </B>"
   ]
  },
  {
   "cell_type": "markdown",
   "id": "a5c8df4f",
   "metadata": {},
   "source": [
    "Print only those files that end in .jpg"
   ]
  },
  {
   "cell_type": "code",
   "execution_count": null,
   "id": "8ac5a0d7",
   "metadata": {},
   "outputs": [],
   "source": [
    "import re\n",
    "\n",
    "filenames = ['image.jpg', 'image.png', 'filejpg.txt', 'file2.doc',\n",
    "             'file3.pdf', 'image2.gif', 'image3.jpg', 'image4.jpg']\n",
    "\n",
    "for name in filenames:\n",
    "    if re.search(r'', name):\n",
    "        print(name)"
   ]
  },
  {
   "cell_type": "markdown",
   "id": "81f625da",
   "metadata": {},
   "source": [
    "<U>Expected Output</U>:"
   ]
  },
  {
   "cell_type": "markdown",
   "id": "fc9339b4",
   "metadata": {},
   "source": [
    "<pre style=\"margin: 0; padding=0\"><DIV style=\"font-family: Courier; border: 1px solid #dbdbdb; padding: 7px\">image.jpg\n",
    "image3.jpg\n",
    "image4.jpg</DIV></pre>"
   ]
  },
  {
   "cell_type": "markdown",
   "id": "b2b1a4a1",
   "metadata": {},
   "source": [
    " "
   ]
  },
  {
   "cell_type": "markdown",
   "id": "be2d32a2",
   "metadata": {},
   "source": [
    "BUILT-IN CHARACTER CLASSES"
   ]
  },
  {
   "cell_type": "markdown",
   "id": "fb3ce41c",
   "metadata": {},
   "source": [
    "<B>4.5:  <U>\"Digit\" character class</U>.   </B>"
   ]
  },
  {
   "cell_type": "markdown",
   "id": "ca9bd3c9",
   "metadata": {},
   "source": [
    "Match on each string that has a digit.\n"
   ]
  },
  {
   "cell_type": "code",
   "execution_count": null,
   "id": "b5324239",
   "metadata": {},
   "outputs": [],
   "source": [
    "import re\n",
    "\n",
    "match_strings = [\n",
    "    'hello world 00',\n",
    "    'goodbye world    ',\n",
    "    ' 23 bonjour',\n",
    "    'wilkommen23  ',\n",
    "    'aloha',\n",
    "    '99',\n",
    "    '00',\n",
    "    '88557799',\n",
    "    'Que 3 Tal!',\n",
    "    'myfile.jpg',\n",
    "    'yourfile.JPG'\n",
    "]\n",
    "\n",
    "count = 0\n",
    "for string in match_strings:\n",
    "    if re.search(r'', string):\n",
    "        print(string)\n",
    "        count += 1\n",
    "print(f'count:  {count}')"
   ]
  },
  {
   "cell_type": "markdown",
   "id": "2476956e",
   "metadata": {},
   "source": [
    "<U>Expected Output</U>:"
   ]
  },
  {
   "cell_type": "markdown",
   "id": "fa993d47",
   "metadata": {},
   "source": [
    "<pre style=\"margin: 0; padding=0\"><DIV style=\"font-family: Courier; border: 1px solid #dbdbdb; padding: 7px\">hello world 00\n",
    " 23 bonjour\n",
    "wilkommen23\n",
    "99\n",
    "00\n",
    "88557799\n",
    "Que 3 Tal!\n",
    "count: 7</DIV></pre>"
   ]
  },
  {
   "cell_type": "markdown",
   "id": "5975dba2",
   "metadata": {},
   "source": [
    " "
   ]
  },
  {
   "cell_type": "markdown",
   "id": "98fe4b71",
   "metadata": {},
   "source": [
    "<B>4.6:  <U>\"Word\" character class</U>.  </B>"
   ]
  },
  {
   "cell_type": "markdown",
   "id": "03d70e16",
   "metadata": {},
   "source": [
    "Match each string that has a letter, number or underscore.\n"
   ]
  },
  {
   "cell_type": "code",
   "execution_count": null,
   "id": "e29af513",
   "metadata": {},
   "outputs": [],
   "source": [
    "import re\n",
    "\n",
    "match_strings = [\n",
    "    'hello world 00',\n",
    "    'goodbye world    ',\n",
    "    ' 23 bonjour',\n",
    "    'wilkommen23  ',\n",
    "    'aloha',\n",
    "    '99',\n",
    "    '00',\n",
    "    '88557799',\n",
    "    'Que 3 Tal!',\n",
    "    'myfile.jpg',\n",
    "    'yourfile.JPG'\n",
    "]\n",
    "\n",
    "count = 0\n",
    "for string in match_strings:\n",
    "    if re.search(r'', string):\n",
    "        print(string)\n",
    "        count += 1\n",
    "print(f'count:  {count}')\n"
   ]
  },
  {
   "cell_type": "markdown",
   "id": "67edfd7a",
   "metadata": {},
   "source": [
    "<U>Expected Output</U>:"
   ]
  },
  {
   "cell_type": "markdown",
   "id": "1b03f3b0",
   "metadata": {},
   "source": [
    "<pre style=\"margin: 0; padding=0\"><DIV style=\"font-family: Courier; border: 1px solid #dbdbdb; padding: 7px\"></DIV></pre>"
   ]
  },
  {
   "cell_type": "markdown",
   "id": "b5bf91e7",
   "metadata": {},
   "source": [
    " "
   ]
  },
  {
   "cell_type": "markdown",
   "id": "45898250",
   "metadata": {},
   "source": [
    "<B>4.7:  <U>\"Space\" character class</U>.  </B>"
   ]
  },
  {
   "cell_type": "markdown",
   "id": "1bc5cf12",
   "metadata": {},
   "source": [
    "Match on each line that has a space.\n"
   ]
  },
  {
   "cell_type": "code",
   "execution_count": null,
   "id": "e757876d",
   "metadata": {},
   "outputs": [],
   "source": [
    "import re\n",
    "\n",
    "match_strings = [\n",
    "    'hello world 00',\n",
    "    'goodbye world    ',\n",
    "    ' 23 bonjour',\n",
    "    'wilkommen23  ',\n",
    "    'aloha',\n",
    "    '99',\n",
    "    '00',\n",
    "    '88557799',\n",
    "    'Que 3 Tal!',\n",
    "    'myfile.jpg',\n",
    "    'yourfile.JPG'\n",
    "]\n",
    "\n",
    "count = 0\n",
    "for string in match_strings:\n",
    "    if re.search(r'', string):\n",
    "        print(string)\n",
    "        count += 1\n",
    "print(f'count:  {count}')"
   ]
  },
  {
   "cell_type": "markdown",
   "id": "6e158c6f",
   "metadata": {},
   "source": [
    "<U>Expected Output</U>:"
   ]
  },
  {
   "cell_type": "markdown",
   "id": "f3ed751f",
   "metadata": {},
   "source": [
    "<pre style=\"margin: 0; padding=0\"><DIV style=\"font-family: Courier; border: 1px solid #dbdbdb; padding: 7px\"></DIV></pre>"
   ]
  },
  {
   "cell_type": "markdown",
   "id": "4b1cccb1",
   "metadata": {},
   "source": [
    " "
   ]
  },
  {
   "cell_type": "markdown",
   "id": "166835e1",
   "metadata": {},
   "source": [
    "INVERSE CHARACTER CLASSES"
   ]
  },
  {
   "cell_type": "markdown",
   "id": "6c689470",
   "metadata": {},
   "source": [
    "<B>4.8:  <U>\"Not a digit\" character class</U>.  </B>"
   ]
  },
  {
   "cell_type": "markdown",
   "id": "50153ce2",
   "metadata": {},
   "source": [
    "Match on each string that has a character that is not a digit."
   ]
  },
  {
   "cell_type": "code",
   "execution_count": null,
   "id": "34560f5e",
   "metadata": {},
   "outputs": [],
   "source": [
    "import re\n",
    "\n",
    "match_strings = [\n",
    "    'hello world 00',\n",
    "    'goodbye world    ',\n",
    "    ' 23 bonjour',\n",
    "    'wilkommen23  ',\n",
    "    'aloha',\n",
    "    '99',\n",
    "    '00',\n",
    "    '88557799',\n",
    "    'Que 3 Tal!',\n",
    "    'myfile.jpg',\n",
    "    'yourfile.JPG'\n",
    "]\n",
    "\n",
    "count = 0\n",
    "for string in match_strings:\n",
    "    if re.search(r'', string):\n",
    "        print(string)\n",
    "        count += 1\n",
    "print(f'count:  {count}')"
   ]
  },
  {
   "cell_type": "markdown",
   "id": "b96ccf28",
   "metadata": {},
   "source": [
    "<U>Expected Output</U>:"
   ]
  },
  {
   "cell_type": "markdown",
   "id": "16bf41ff",
   "metadata": {},
   "source": [
    "<pre style=\"margin: 0; padding=0\"><DIV style=\"font-family: Courier; border: 1px solid #dbdbdb; padding: 7px\">hello world 00\n",
    "goodbye world\n",
    " 23 bonjour\n",
    "wilkommen23\n",
    "aloha\n",
    "Que 3 Tal!\n",
    "myfile.jpg\n",
    "yourfile.JPG\n",
    "count: 8</DIV></pre>"
   ]
  },
  {
   "cell_type": "markdown",
   "id": "97645045",
   "metadata": {},
   "source": [
    " "
   ]
  },
  {
   "cell_type": "markdown",
   "id": "014abe59",
   "metadata": {},
   "source": [
    "<B>4.9:  <U>\"Not a space\" character class</U>.  </B>"
   ]
  },
  {
   "cell_type": "markdown",
   "id": "b29b82fe",
   "metadata": {},
   "source": [
    "Match on each string that has any non-spaces."
   ]
  },
  {
   "cell_type": "code",
   "execution_count": null,
   "id": "5e264982",
   "metadata": {},
   "outputs": [],
   "source": [
    "import re\n",
    "\n",
    "match_strings = [\n",
    "    'hello world 00',\n",
    "    'goodbye world    ',\n",
    "    ' 23 bonjour',\n",
    "    'wilkommen23  ',\n",
    "    '    ',\n",
    "    'aloha',\n",
    "    '99',\n",
    "    '00',\n",
    "    '88557799',\n",
    "    'Que 3 Tal!',\n",
    "    'myfile.jpg',\n",
    "    'yourfile.JPG'\n",
    "]\n",
    "\n",
    "count = 0\n",
    "for string in match_strings:\n",
    "    if re.search(r'', string):\n",
    "        print(string)\n",
    "        count += 1\n",
    "print(f'count:  {count}')"
   ]
  },
  {
   "cell_type": "markdown",
   "id": "afc0e128",
   "metadata": {},
   "source": [
    "<U>Expected Output</U>:"
   ]
  },
  {
   "cell_type": "markdown",
   "id": "cc0cc775",
   "metadata": {},
   "source": [
    "<pre style=\"margin: 0; padding=0\"><DIV style=\"font-family: Courier; border: 1px solid #dbdbdb; padding: 7px\">hello world 00\n",
    "goodbye world\n",
    " 23 bonjour\n",
    "wilkommen23\n",
    "aloha\n",
    "99\n",
    "00\n",
    "88557799\n",
    "Que 3 Tal!\n",
    "myfile.jpg\n",
    "yourfile.JPG\n",
    "count: 11</DIV></pre>"
   ]
  },
  {
   "cell_type": "markdown",
   "id": "c7c4db63",
   "metadata": {},
   "source": [
    " "
   ]
  },
  {
   "cell_type": "markdown",
   "id": "1f7bb120",
   "metadata": {},
   "source": [
    "CUSTOM CHARACTER CLASSES"
   ]
  },
  {
   "cell_type": "markdown",
   "id": "059409c2",
   "metadata": {},
   "source": [
    "<B>4.10:  <U>Custom character class</U>.  </B>"
   ]
  },
  {
   "cell_type": "markdown",
   "id": "ac12aec0",
   "metadata": {},
   "source": [
    "Match on each string that has a capital letter in it.\n"
   ]
  },
  {
   "cell_type": "code",
   "execution_count": null,
   "id": "49fe08b6",
   "metadata": {},
   "outputs": [],
   "source": [
    "import re\n",
    "\n",
    "match_strings = [\n",
    "    'hello world 00',\n",
    "    'goodbye world    ',\n",
    "    ' 23 bonjour',\n",
    "    'wilkommen23  ',\n",
    "    'aloha',\n",
    "    '99',\n",
    "    '00',\n",
    "    '88557799',\n",
    "    'Que 3 Tal!',\n",
    "    'myfile.jpg',\n",
    "    'yourfile.JPG'\n",
    "]\n",
    "\n",
    "count = 0\n",
    "for string in match_strings:\n",
    "    if re.search(r'', string):\n",
    "        print(string)\n",
    "        count += 1\n",
    "print(f'count:  {count}')"
   ]
  },
  {
   "cell_type": "markdown",
   "id": "8fcf8f82",
   "metadata": {},
   "source": [
    "<U>Expected Output</U>:"
   ]
  },
  {
   "cell_type": "markdown",
   "id": "3674b537",
   "metadata": {},
   "source": [
    "<pre style=\"margin: 0; padding=0\"><DIV style=\"font-family: Courier; border: 1px solid #dbdbdb; padding: 7px\">Que 3 Tal!\n",
    "yourfile.JPG\n",
    "count: 2</DIV></pre>"
   ]
  },
  {
   "cell_type": "markdown",
   "id": "f197f2ca",
   "metadata": {},
   "source": [
    " "
   ]
  },
  {
   "cell_type": "markdown",
   "id": "a4dd6389",
   "metadata": {},
   "source": [
    "<B>4.11:  <U>Using custom character class with built-in character class</U>.  </B>"
   ]
  },
  {
   "cell_type": "markdown",
   "id": "574bea19",
   "metadata": {},
   "source": [
    "Match on each string that has a letter followed by a number.\n"
   ]
  },
  {
   "cell_type": "code",
   "execution_count": null,
   "id": "546600da",
   "metadata": {},
   "outputs": [],
   "source": [
    "import re\n",
    "\n",
    "match_strings = [\n",
    "    'hello world 00',\n",
    "    'goodbye world    ',\n",
    "    ' 23 bonjour',\n",
    "    'wilkommen23  ',\n",
    "    'aloha',\n",
    "    '99',\n",
    "    '00',\n",
    "    '88557799',\n",
    "    'Que 3 Tal!',\n",
    "    'myfile.jpg',\n",
    "    'yourfile.JPG'\n",
    "]\n",
    "\n",
    "count = 0\n",
    "for string in match_strings:\n",
    "    if re.search(r'', string):\n",
    "        print(string)\n",
    "        count += 1\n",
    "print(f'count:  {count}')"
   ]
  },
  {
   "cell_type": "markdown",
   "id": "1b972a87",
   "metadata": {},
   "source": [
    "<U>Expected Output</U>:"
   ]
  },
  {
   "cell_type": "markdown",
   "id": "17aa7d98",
   "metadata": {},
   "source": [
    "<pre style=\"margin: 0; padding=0\"><DIV style=\"font-family: Courier; border: 1px solid #dbdbdb; padding: 7px\">wilkommen23\n",
    "count: 1</DIV></pre>"
   ]
  },
  {
   "cell_type": "markdown",
   "id": "e2ada6ff",
   "metadata": {},
   "source": [
    " "
   ]
  },
  {
   "cell_type": "markdown",
   "id": "3ee177a3",
   "metadata": {},
   "source": [
    "INVERSE CUSTOM CHARACTER CLASSES"
   ]
  },
  {
   "cell_type": "markdown",
   "id": "0edacb10",
   "metadata": {},
   "source": [
    "<B>4.12:  <U>Inverse Custom Character Class</U>. Match on each string that has any character that is not a letter.</B>"
   ]
  },
  {
   "cell_type": "code",
   "execution_count": null,
   "id": "0628fa94",
   "metadata": {},
   "outputs": [],
   "source": [
    "import re\n",
    "\n",
    "match_strings = [\n",
    "    'hello world 00',\n",
    "    'goodbye world    ',\n",
    "    ' 23 bonjour',\n",
    "    'wilkommen23  ',\n",
    "    'aloha',\n",
    "    '99',\n",
    "    '00',\n",
    "    '88557799',\n",
    "    'Que 3 Tal!',\n",
    "    'myfile.jpg',\n",
    "    'yourfile.JPG'\n",
    "]\n",
    "\n",
    "count = 0\n",
    "for string in match_strings:\n",
    "    if re.search(r'', string):\n",
    "        print(string)\n",
    "        count += 1\n",
    "print(f'count:  {count}')"
   ]
  },
  {
   "cell_type": "markdown",
   "id": "2ba51ad1",
   "metadata": {},
   "source": [
    "<U>Expected Output</U>:"
   ]
  },
  {
   "cell_type": "markdown",
   "id": "c7bb2091",
   "metadata": {},
   "source": [
    "<pre style=\"margin: 0; padding=0\"><DIV style=\"font-family: Courier; border: 1px solid #dbdbdb; padding: 7px\">hello world 00\n",
    "goodbye world\n",
    " 23 bonjour\n",
    "wilkommen23\n",
    "99\n",
    "00\n",
    "88557799\n",
    "Que 3 Tal!\n",
    "myfile.jpg\n",
    "yourfile.JPG\n",
    "count: 10</DIV></pre>"
   ]
  },
  {
   "cell_type": "markdown",
   "id": "ef9e85bd",
   "metadata": {},
   "source": [
    " "
   ]
  },
  {
   "cell_type": "markdown",
   "id": "26e794fc",
   "metadata": {},
   "source": [
    "THE WILDCARD"
   ]
  },
  {
   "cell_type": "markdown",
   "id": "7efac62d",
   "metadata": {},
   "source": [
    "<B>4.13:  Match on each string that ends with a character that is not a digit.</B>"
   ]
  },
  {
   "cell_type": "code",
   "execution_count": null,
   "id": "e2991b78",
   "metadata": {},
   "outputs": [],
   "source": [
    "import re\n",
    "\n",
    "match_strings = [\n",
    "    'hello world 00',\n",
    "    'goodbye world    ',\n",
    "    ' 23 bonjour',\n",
    "    'wilkommen23  ',\n",
    "    'aloha',\n",
    "    '99',\n",
    "    '00',\n",
    "    '88557799',\n",
    "    'Que 3 Tal!',\n",
    "    'myfile.jpg',\n",
    "    'yourfile.JPG'\n",
    "]\n",
    "\n",
    "count = 0\n",
    "for string in match_strings:\n",
    "    if re.search(r'', string):\n",
    "        print(string)\n",
    "        count += 1\n",
    "print(f'count:  {count}')"
   ]
  },
  {
   "cell_type": "markdown",
   "id": "49aa1b25",
   "metadata": {},
   "source": [
    "<U>Expected Output</U>:"
   ]
  },
  {
   "cell_type": "markdown",
   "id": "a485eb32",
   "metadata": {},
   "source": [
    "<pre style=\"margin: 0; padding=0\"><DIV style=\"font-family: Courier; border: 1px solid #dbdbdb; padding: 7px\">goodbye world\n",
    " 23 bonjour\n",
    "wilkommen23\n",
    "aloha\n",
    "Que 3 Tal!\n",
    "myfile.jpg\n",
    "yourfile.JPG\n",
    "count: 7</DIV></pre>"
   ]
  },
  {
   "cell_type": "markdown",
   "id": "c196e57f",
   "metadata": {},
   "source": [
    " "
   ]
  },
  {
   "cell_type": "markdown",
   "id": "ed550a19",
   "metadata": {},
   "source": [
    "<B>4.14:  <U>Demo:  match on any character</U>. </B>"
   ]
  },
  {
   "cell_type": "markdown",
   "id": "d99fd908",
   "metadata": {},
   "source": [
    "Use the wildcard (., a period) to see which strings match it.\n"
   ]
  },
  {
   "cell_type": "code",
   "execution_count": null,
   "id": "5f07f75e",
   "metadata": {},
   "outputs": [],
   "source": [
    "import re\n",
    "\n",
    "match_strings = [\n",
    "    'hello world 00',\n",
    "    'goodbye world    ',\n",
    "    ' 23 bonjour',\n",
    "    'wilkommen23  ',\n",
    "    'aloha',\n",
    "    '99',\n",
    "    '00',\n",
    "    '88557799',\n",
    "    'Que 3 Tal!',\n",
    "    'myfile.jpg',\n",
    "    'yourfile.JPG'\n",
    "]\n",
    "\n",
    "count = 0\n",
    "for string in match_strings:\n",
    "    if re.search(r'', string):\n",
    "        print(string)\n",
    "        count += 1\n",
    "print(f'count:  {count}')\n"
   ]
  },
  {
   "cell_type": "markdown",
   "id": "88d5e704",
   "metadata": {},
   "source": [
    " "
   ]
  },
  {
   "cell_type": "markdown",
   "id": "6d2dba6e",
   "metadata": {},
   "source": [
    "LAB 1"
   ]
  },
  {
   "cell_type": "markdown",
   "id": "95ceba27",
   "metadata": {},
   "source": [
    "<div style=\"background-color: #ccffcc; padding: 10px; border: 2px solid green\"><B>4.15:  Match on each string that starts with a digit.   </B></div>"
   ]
  },
  {
   "cell_type": "code",
   "execution_count": null,
   "id": "5b9da099",
   "metadata": {},
   "outputs": [],
   "source": [
    "import re\n",
    "\n",
    "match_strings = [\n",
    "    'hello world 00',\n",
    "    'goodbye world    ',\n",
    "    ' 23 bonjour',\n",
    "    'wilkommen23  ',\n",
    "    'aloha',\n",
    "    '99',\n",
    "    '00',\n",
    "    '88557799',\n",
    "    'Que 3 Tal!',\n",
    "    'myfile.jpg',\n",
    "    'yourfile.JPG'\n",
    "]\n",
    "\n",
    "count = 0\n",
    "for string in match_strings:\n",
    "    if re.search(r'', string):\n",
    "        print(string)\n",
    "        count += 1\n",
    "print(f'count:  {count}')"
   ]
  },
  {
   "cell_type": "markdown",
   "id": "2bf44690",
   "metadata": {},
   "source": [
    "<U>Expected Output</U>:"
   ]
  },
  {
   "cell_type": "markdown",
   "id": "f7492598",
   "metadata": {},
   "source": [
    "<pre style=\"margin: 0; padding=0\"><DIV style=\"font-family: Courier; border: 1px solid #dbdbdb; padding: 7px\">99\n",
    "00\n",
    "88557799\n",
    "count: 3</DIV></pre>"
   ]
  },
  {
   "cell_type": "markdown",
   "id": "210ef21e",
   "metadata": {},
   "source": [
    " "
   ]
  },
  {
   "cell_type": "markdown",
   "id": "3d3219f5",
   "metadata": {},
   "source": [
    "<div style=\"background-color: #ccffcc; padding: 10px; border: 2px solid green\"><B>4.16:  Match on each string that starts with a space.  </B></div>"
   ]
  },
  {
   "cell_type": "code",
   "execution_count": null,
   "id": "1e0889d7",
   "metadata": {},
   "outputs": [],
   "source": [
    "import re\n",
    "\n",
    "lines = [  'this is the first line,',\n",
    "           ' and this is the second line and',\n",
    "           ' this is the third line.  '     ]\n",
    "\n",
    "for line in lines:\n",
    "    if re.search(r'', line):\n",
    "        print(line)"
   ]
  },
  {
   "cell_type": "markdown",
   "id": "62f49f18",
   "metadata": {},
   "source": [
    "<U>Expected Output</U>:"
   ]
  },
  {
   "cell_type": "markdown",
   "id": "ec5f69dc",
   "metadata": {},
   "source": [
    "<pre style=\"margin: 0; padding=0\"><DIV style=\"font-family: Courier; border: 1px solid #dbdbdb; padding: 7px\"> and this is the second line and',\n",
    " this is the third line.  '     ]</DIV></pre>"
   ]
  },
  {
   "cell_type": "markdown",
   "id": "5a906058",
   "metadata": {},
   "source": [
    " "
   ]
  },
  {
   "cell_type": "markdown",
   "id": "c3ea2fd8",
   "metadata": {},
   "source": [
    "<div style=\"background-color: #ccffcc; padding: 10px; border: 2px solid green\"><B>4.17:  Loop through and print only lines with some text (not including spaces).  </B></div>"
   ]
  },
  {
   "cell_type": "code",
   "execution_count": null,
   "id": "03429e72",
   "metadata": {},
   "outputs": [],
   "source": [
    "import re\n",
    "\n",
    "text = \"\"\"line 1\n",
    "line 2,\n",
    "\n",
    "line 3...\n",
    "\n",
    "line4!\"\"\"\n",
    "\n",
    "lines = text.splitlines()\n",
    "\n",
    "for line in lines:\n",
    "    if re.search(r'', line):\n",
    "        print(line)"
   ]
  },
  {
   "cell_type": "markdown",
   "id": "9a8b654a",
   "metadata": {},
   "source": [
    "<U>Expected Output</U>:"
   ]
  },
  {
   "cell_type": "markdown",
   "id": "105f2965",
   "metadata": {},
   "source": [
    "<pre style=\"margin: 0; padding=0\"><DIV style=\"font-family: Courier; border: 1px solid #dbdbdb; padding: 7px\">line 1\n",
    "line 2,\n",
    "line 3...\n",
    "line4!</DIV></pre>"
   ]
  },
  {
   "cell_type": "markdown",
   "id": "7f81aa19",
   "metadata": {},
   "source": [
    " "
   ]
  },
  {
   "cell_type": "markdown",
   "id": "52c120aa",
   "metadata": {},
   "source": [
    "<div style=\"background-color: #ccffcc; padding: 10px; border: 2px solid green\"><B>4.18:  Match on each string that ends with a digit.</B></div>"
   ]
  },
  {
   "cell_type": "code",
   "execution_count": null,
   "id": "2a61a795",
   "metadata": {},
   "outputs": [],
   "source": [
    "import re\n",
    "\n",
    "match_strings = [\n",
    "    'hello world 00',\n",
    "    'goodbye world    ',\n",
    "    ' 23 bonjour',\n",
    "    'wilkommen23  ',\n",
    "    'aloha',\n",
    "    '99',\n",
    "    '00',\n",
    "    '88557799',\n",
    "    'Que 3 Tal!',\n",
    "    'myfile.jpg',\n",
    "    'yourfile.JPG'\n",
    "]\n",
    "\n",
    "count = 0\n",
    "for string in match_strings:\n",
    "    if re.search(r'', string):\n",
    "        print(string)\n",
    "        count += 1\n",
    "print(f'count:  {count}')"
   ]
  },
  {
   "cell_type": "markdown",
   "id": "87b6e925",
   "metadata": {},
   "source": [
    "<U>Expected Output</U>:"
   ]
  },
  {
   "cell_type": "markdown",
   "id": "9b9239d2",
   "metadata": {},
   "source": [
    "<pre style=\"margin: 0; padding=0\"><DIV style=\"font-family: Courier; border: 1px solid #dbdbdb; padding: 7px\">hello world 00\n",
    "99\n",
    "00\n",
    "88557799\n",
    "count: 4</DIV></pre>"
   ]
  },
  {
   "cell_type": "markdown",
   "id": "11c3885e",
   "metadata": {},
   "source": [
    " "
   ]
  },
  {
   "cell_type": "markdown",
   "id": "28c4d760",
   "metadata": {},
   "source": [
    "<div style=\"background-color: #ccffcc; padding: 10px; border: 2px solid green\"><B>4.19:  Match on each line that ends with a space.</B></div>"
   ]
  },
  {
   "cell_type": "code",
   "execution_count": null,
   "id": "40f6fd9e",
   "metadata": {},
   "outputs": [],
   "source": [
    "import re\n",
    "\n",
    "lines = [  'this is the first line, ',\n",
    "           'this is the second line and',\n",
    "           'this is the third line.  '     ]\n",
    "\n",
    "for line in lines:\n",
    "    if re.search(r'', line):\n",
    "        print(line)"
   ]
  },
  {
   "cell_type": "markdown",
   "id": "1ae11c8d",
   "metadata": {},
   "source": [
    "<U>Expected Output</U>:"
   ]
  },
  {
   "cell_type": "markdown",
   "id": "9194e080",
   "metadata": {},
   "source": [
    "<pre style=\"margin: 0; padding=0\"><DIV style=\"font-family: Courier; border: 1px solid #dbdbdb; padding: 7px\">this is the first line,\n",
    "this is the third line.</DIV></pre>"
   ]
  },
  {
   "cell_type": "markdown",
   "id": "4ca767f5",
   "metadata": {},
   "source": [
    " "
   ]
  },
  {
   "cell_type": "markdown",
   "id": "e36fbc50",
   "metadata": {},
   "source": [
    "<div style=\"background-color: #ccffcc; padding: 10px; border: 2px solid green\"><B>4.20:  Match on each string that consists only of a 2-digit number.</B></div>"
   ]
  },
  {
   "cell_type": "code",
   "execution_count": null,
   "id": "2d384e07",
   "metadata": {},
   "outputs": [],
   "source": [
    "import re\n",
    "\n",
    "match_strings = [\n",
    "    'hello world 00',\n",
    "    'goodbye world    ',\n",
    "    ' 23 bonjour',\n",
    "    'wilkommen23  ',\n",
    "    'aloha',\n",
    "    '99',\n",
    "    '00',\n",
    "    '88557799',\n",
    "    'Que 3 Tal!',\n",
    "    'myfile.jpg',\n",
    "    'yourfile.JPG'\n",
    "]\n",
    "\n",
    "count = 0\n",
    "for string in match_strings:\n",
    "    if re.search(r'', string):\n",
    "        print(string)\n",
    "        count += 1\n",
    "print(f'count:  {count}')"
   ]
  },
  {
   "cell_type": "markdown",
   "id": "c1367f81",
   "metadata": {},
   "source": [
    "<U>Expected Output</U>:"
   ]
  },
  {
   "cell_type": "markdown",
   "id": "edf0fb67",
   "metadata": {},
   "source": [
    "<pre style=\"margin: 0; padding=0\"><DIV style=\"font-family: Courier; border: 1px solid #dbdbdb; padding: 7px\">99\n",
    "00\n",
    "count: 2</DIV></pre>"
   ]
  },
  {
   "cell_type": "markdown",
   "id": "c675b2b5",
   "metadata": {},
   "source": [
    " "
   ]
  },
  {
   "cell_type": "markdown",
   "id": "eb392e65",
   "metadata": {},
   "source": [
    "<div style=\"background-color: #ccffcc; padding: 10px; border: 2px solid green\"><B>4.21:  Match on a capital letter followed by a lowercase letter.  </B></div>"
   ]
  },
  {
   "cell_type": "code",
   "execution_count": null,
   "id": "26ab3c58",
   "metadata": {},
   "outputs": [],
   "source": [
    "import re\n",
    "\n",
    "match_strings = [\n",
    "    'hello world 00',\n",
    "    'goodbye world    ',\n",
    "    ' 23 bonjour',\n",
    "    'wilkommen23  ',\n",
    "    'aloha',\n",
    "    '99',\n",
    "    '00',\n",
    "    'T8855',\n",
    "    'Que 3 Tal!',\n",
    "    'myfile.jpg',\n",
    "    'yourfile.JPG'\n",
    "]\n",
    "\n",
    "count = 0\n",
    "for string in match_strings:\n",
    "    if re.search(r'', string):\n",
    "        print(string)\n",
    "        count += 1\n",
    "print(f'count:  {count}')"
   ]
  },
  {
   "cell_type": "markdown",
   "id": "c312845e",
   "metadata": {},
   "source": [
    "<U>Expected Output</U>:"
   ]
  },
  {
   "cell_type": "markdown",
   "id": "6ab0f422",
   "metadata": {},
   "source": [
    "<pre style=\"margin: 0; padding=0\"><DIV style=\"font-family: Courier; border: 1px solid #dbdbdb; padding: 7px\">Que 3 Tal!</DIV></pre>"
   ]
  },
  {
   "cell_type": "markdown",
   "id": "2e1f5d6d",
   "metadata": {},
   "source": [
    " "
   ]
  },
  {
   "cell_type": "markdown",
   "id": "730e6b51",
   "metadata": {},
   "source": [
    "<div style=\"background-color: #ccffcc; padding: 10px; border: 2px solid green\"><B>4.22:  Match on date format YYYY-MM-DD.  </B></div>"
   ]
  },
  {
   "cell_type": "code",
   "execution_count": null,
   "id": "08518eb1",
   "metadata": {},
   "outputs": [],
   "source": [
    "import re\n",
    "\n",
    "dirlist = ('.', '..', '2010-12-15.txt', '2010-12-16.txt',\n",
    "           'testfile.txt', '20101-11-03.txt')\n",
    "\n",
    "for item in dirlist:\n",
    "    if re.search(r'', item):\n",
    "        print(item)"
   ]
  },
  {
   "cell_type": "markdown",
   "id": "945247b4",
   "metadata": {},
   "source": [
    "<U>Expected Output</U>:"
   ]
  },
  {
   "cell_type": "markdown",
   "id": "7b2400ac",
   "metadata": {},
   "source": [
    "<pre style=\"margin: 0; padding=0\"><DIV style=\"font-family: Courier; border: 1px solid #dbdbdb; padding: 7px\">2010-12-15.txt\n",
    "2010-12-16.txt</DIV></pre>"
   ]
  },
  {
   "cell_type": "markdown",
   "id": "71de1ac2",
   "metadata": {},
   "source": [
    " "
   ]
  },
  {
   "cell_type": "markdown",
   "id": "266183d4",
   "metadata": {},
   "source": [
    "<div style=\"background-color: #ccffcc; padding: 10px; border: 2px solid green\"><B>4.23:  Match on date format MM/DD/YY.  </B></div>"
   ]
  },
  {
   "cell_type": "code",
   "execution_count": null,
   "id": "c0538272",
   "metadata": {},
   "outputs": [],
   "source": [
    "import re\n",
    "\n",
    "dates = ['Jan. 3, 2018', '23-Mar-17', '12/02/98', '12/03/1998', '23.17.2018']\n",
    "for date in dates:\n",
    "    if re.search(r'', date):\n",
    "        print(date)"
   ]
  },
  {
   "cell_type": "markdown",
   "id": "5826a7b7",
   "metadata": {},
   "source": [
    "<U>Expected Output</U>:"
   ]
  },
  {
   "cell_type": "markdown",
   "id": "6f0c6f7d",
   "metadata": {},
   "source": [
    "<pre style=\"margin: 0; padding=0\"><DIV style=\"font-family: Courier; border: 1px solid #dbdbdb; padding: 7px\">12/02/98</DIV></pre>"
   ]
  },
  {
   "cell_type": "markdown",
   "id": "fefa292f",
   "metadata": {},
   "source": [
    " "
   ]
  },
  {
   "cell_type": "markdown",
   "id": "e1e90f60",
   "metadata": {},
   "source": [
    "<div style=\"background-color: #ccffcc; padding: 10px; border: 2px solid green\"><B>4.24:  Determine whether selected word begins with a vowel.  If so, prepend an 'an' rather an an 'a'.  </B></div>"
   ]
  },
  {
   "cell_type": "code",
   "execution_count": null,
   "id": "40b67808",
   "metadata": {},
   "outputs": [],
   "source": [
    "import re\n",
    "\n",
    "words = ['apple', 'pear', 'orange', 'kiwi', 'elderberry', 'carrot', 'ugli fruit']\n",
    "for word in words:\n",
    "    if re.search(r'', word):\n",
    "        prepend = 'an'\n",
    "    else:\n",
    "        prepend = 'a'\n",
    "    print(f\"{prepend} {word}\")"
   ]
  },
  {
   "cell_type": "markdown",
   "id": "c414c801",
   "metadata": {},
   "source": [
    "<U>Expected Output</U>:"
   ]
  },
  {
   "cell_type": "markdown",
   "id": "80c8886b",
   "metadata": {},
   "source": [
    "<pre style=\"margin: 0; padding=0\"><DIV style=\"font-family: Courier; border: 1px solid #dbdbdb; padding: 7px\">an apple\n",
    "a pear\n",
    "an orange\n",
    "a kiwi\n",
    "an elderberry\n",
    "a carrot\n",
    "an ugli fruit</DIV></pre>"
   ]
  },
  {
   "cell_type": "markdown",
   "id": "4b772dcd",
   "metadata": {},
   "source": [
    " "
   ]
  },
  {
   "cell_type": "markdown",
   "id": "16bee7c9",
   "metadata": {},
   "source": [
    "BUILT-IN QUANTIFIERS"
   ]
  },
  {
   "cell_type": "markdown",
   "id": "8009cd9e",
   "metadata": {},
   "source": [
    "<B>4.25:  <U>\"One or more\" quantifier</U>.  Match on each string that has one or more letters in it.</B>"
   ]
  },
  {
   "cell_type": "code",
   "execution_count": null,
   "id": "61310897",
   "metadata": {},
   "outputs": [],
   "source": [
    "import re\n",
    "\n",
    "match_strings = [\n",
    "    'hello world 00',\n",
    "    'goodbye world    ',\n",
    "    ' 23 bonjour',\n",
    "    'wilkommen23  ',\n",
    "    'aloha',\n",
    "    '99',\n",
    "    '00',\n",
    "    '88557799',\n",
    "    'Que 3 Tal!',\n",
    "    'myfile.jpg',\n",
    "    'yourfile.JPG'\n",
    "]\n",
    "\n",
    "count = 0\n",
    "for string in match_strings:\n",
    "    if re.search(r'', string):\n",
    "        print(string)\n",
    "        count += 1\n",
    "print(f'count:  {count}')"
   ]
  },
  {
   "cell_type": "markdown",
   "id": "08327d44",
   "metadata": {},
   "source": [
    "<U>Expected Output</U>:"
   ]
  },
  {
   "cell_type": "markdown",
   "id": "ae99c48c",
   "metadata": {},
   "source": [
    "<pre style=\"margin: 0; padding=0\"><DIV style=\"font-family: Courier; border: 1px solid #dbdbdb; padding: 7px\">hello world 00\n",
    "goodbye world\n",
    " 23 bonjour\n",
    "wilkommen23\n",
    "aloha\n",
    "Que 3 Tal!\n",
    "myfile.jpg\n",
    "yourfile.JPG\n",
    "count: 8</DIV></pre>"
   ]
  },
  {
   "cell_type": "markdown",
   "id": "80e51ec3",
   "metadata": {},
   "source": [
    " "
   ]
  },
  {
   "cell_type": "markdown",
   "id": "15dca8eb",
   "metadata": {},
   "source": [
    "<B>4.26:  <U>\"Zero or one\" quantifier</U>.  </B>"
   ]
  },
  {
   "cell_type": "markdown",
   "id": "89f7f4de",
   "metadata": {},
   "source": [
    "Without using a character class (or grouped alternates), use a single regex that matches on each string that has 'a' or 'an' followed by a space.\n"
   ]
  },
  {
   "cell_type": "code",
   "execution_count": null,
   "id": "f8a36130",
   "metadata": {},
   "outputs": [],
   "source": [
    "import re\n",
    "\n",
    "lines = [\n",
    "    'This is a wonderful thing. ',\n",
    "    \"I haven't seen anything like it. \",\n",
    "    \"Isn't it an exceptional experience? \"]\n",
    "\n",
    "for line in lines:\n",
    "    if re.search(r'', line):\n",
    "        print(line)"
   ]
  },
  {
   "cell_type": "markdown",
   "id": "a8d1b6be",
   "metadata": {},
   "source": [
    "<U>Expected Output</U>:"
   ]
  },
  {
   "cell_type": "markdown",
   "id": "15b0eda1",
   "metadata": {},
   "source": [
    "<pre style=\"margin: 0; padding=0\"><DIV style=\"font-family: Courier; border: 1px solid #dbdbdb; padding: 7px\">This is a wonderful thing.\n",
    "Isn't it an exceptional experience?</DIV></pre>"
   ]
  },
  {
   "cell_type": "markdown",
   "id": "2fe75013",
   "metadata": {},
   "source": [
    " "
   ]
  },
  {
   "cell_type": "markdown",
   "id": "76bcba0e",
   "metadata": {},
   "source": [
    "<B>4.27:  <U>\"Zero or more\" quantifier, quantifiers with anchor</U>.  </B>"
   ]
  },
  {
   "cell_type": "markdown",
   "id": "9ebaa099",
   "metadata": {},
   "source": [
    "Match on all strings that consist only of a 1 followed by zero or more digits.\n"
   ]
  },
  {
   "cell_type": "code",
   "execution_count": null,
   "id": "bba156aa",
   "metadata": {},
   "outputs": [],
   "source": [
    "import re\n",
    "\n",
    "numbers = [\n",
    "  '100',\n",
    "  '135',\n",
    "  '31',\n",
    "  '1',\n",
    "  '1 think',\n",
    "]\n",
    "\n",
    "for val in numbers:\n",
    "    if re.search(r'', val):\n",
    "        print(val)"
   ]
  },
  {
   "cell_type": "markdown",
   "id": "083c8027",
   "metadata": {},
   "source": [
    "<U>Expected Output</U>:"
   ]
  },
  {
   "cell_type": "markdown",
   "id": "4d03008e",
   "metadata": {},
   "source": [
    "<pre style=\"margin: 0; padding=0\"><DIV style=\"font-family: Courier; border: 1px solid #dbdbdb; padding: 7px\">100\n",
    "135\n",
    "1</DIV></pre>"
   ]
  },
  {
   "cell_type": "markdown",
   "id": "f3cec300",
   "metadata": {},
   "source": [
    " "
   ]
  },
  {
   "cell_type": "markdown",
   "id": "1acf393e",
   "metadata": {},
   "source": [
    "<B>4.28:  <U>Quantifiers with Anchor</U>.  Match on each string that consists only of one or more digit characters.</B>"
   ]
  },
  {
   "cell_type": "code",
   "execution_count": null,
   "id": "13d1dcb4",
   "metadata": {},
   "outputs": [],
   "source": [
    "import re\n",
    "\n",
    "match_strings = [\n",
    "    'hello world 00',\n",
    "    'goodbye world    ',\n",
    "    ' 23 bonjour',\n",
    "    'wilkommen23  ',\n",
    "    'aloha',\n",
    "    '99',\n",
    "    '00',\n",
    "    '88557799',\n",
    "    'Que 3 Tal!',\n",
    "    'myfile.jpg',\n",
    "    'yourfile.JPG'\n",
    "]\n",
    "\n",
    "count = 0\n",
    "for string in match_strings:\n",
    "    if re.search(r'', string):\n",
    "        print(string)\n",
    "        count += 1\n",
    "print(f'count:  {count}')"
   ]
  },
  {
   "cell_type": "markdown",
   "id": "f495cd86",
   "metadata": {},
   "source": [
    "<U>Expected Output</U>:"
   ]
  },
  {
   "cell_type": "markdown",
   "id": "cd27fe84",
   "metadata": {},
   "source": [
    "<pre style=\"margin: 0; padding=0\"><DIV style=\"font-family: Courier; border: 1px solid #dbdbdb; padding: 7px\">99\n",
    "00\n",
    "88557799\n",
    "count: 3</DIV></pre>"
   ]
  },
  {
   "cell_type": "markdown",
   "id": "4247784e",
   "metadata": {},
   "source": [
    " "
   ]
  },
  {
   "cell_type": "markdown",
   "id": "75d01c64",
   "metadata": {},
   "source": [
    "<B>4.29:  <U>Quantifiers with Anchor (3)</U>.  Match on each string that consists only of letters.</B>"
   ]
  },
  {
   "cell_type": "code",
   "execution_count": null,
   "id": "cb23da80",
   "metadata": {},
   "outputs": [],
   "source": [
    "import re\n",
    "\n",
    "match_strings = [\n",
    "    'hello world 00',\n",
    "    'goodbye world    ',\n",
    "    ' 23 bonjour',\n",
    "    'wilkommen23  ',\n",
    "    'aloha',\n",
    "    '99',\n",
    "    '00',\n",
    "    '88557799',\n",
    "    'Que 3 Tal!',\n",
    "    'myfile.jpg',\n",
    "    'yourfile.JPG'\n",
    "]\n",
    "\n",
    "count = 0\n",
    "for string in match_strings:\n",
    "    if re.search(r'', string):\n",
    "        print(string)\n",
    "        count += 1\n",
    "print(f'count:  {count}')"
   ]
  },
  {
   "cell_type": "markdown",
   "id": "ea389be1",
   "metadata": {},
   "source": [
    "<U>Expected Output</U>:"
   ]
  },
  {
   "cell_type": "markdown",
   "id": "f8262e87",
   "metadata": {},
   "source": [
    "<pre style=\"margin: 0; padding=0\"><DIV style=\"font-family: Courier; border: 1px solid #dbdbdb; padding: 7px\">aloha\n",
    "count: 1</DIV></pre>"
   ]
  },
  {
   "cell_type": "markdown",
   "id": "8e6ce4f0",
   "metadata": {},
   "source": [
    " "
   ]
  },
  {
   "cell_type": "markdown",
   "id": "fff8956a",
   "metadata": {},
   "source": [
    "<B>4.30:  <U>Quantifiers with custom character class</U>.  </B>"
   ]
  },
  {
   "cell_type": "markdown",
   "id": "96f508d7",
   "metadata": {},
   "source": [
    "Match each string that has a capital letter followed by one or more lowercase letters.\n"
   ]
  },
  {
   "cell_type": "code",
   "execution_count": null,
   "id": "6753e88b",
   "metadata": {},
   "outputs": [],
   "source": [
    "import re\n",
    "\n",
    "match_strings = [\n",
    "    'hello World 00',\n",
    "    'goodbye C world    ',\n",
    "    ' 23 bonjour',\n",
    "    'wilkommen23  ',\n",
    "    'Aloha',\n",
    "    '99',\n",
    "    '00',\n",
    "    '88557799',\n",
    "    'Que 3 Tal!',\n",
    "    'myfile.jpg',\n",
    "    'yourfile.JPG'\n",
    "]\n",
    "\n",
    "count = 0\n",
    "for string in match_strings:\n",
    "    if re.search(r'', string):\n",
    "        print(string)\n",
    "        count += 1\n",
    "print(f'count:  {count}')"
   ]
  },
  {
   "cell_type": "markdown",
   "id": "3ce73c68",
   "metadata": {},
   "source": [
    "<U>Expected Output</U>:"
   ]
  },
  {
   "cell_type": "markdown",
   "id": "9f4b19a7",
   "metadata": {},
   "source": [
    "<pre style=\"margin: 0; padding=0\"><DIV style=\"font-family: Courier; border: 1px solid #dbdbdb; padding: 7px\">hello World 00\n",
    "Aloha\n",
    "Que 3 Tal!\n",
    "count: 3</DIV></pre>"
   ]
  },
  {
   "cell_type": "markdown",
   "id": "2acc3c08",
   "metadata": {},
   "source": [
    " "
   ]
  },
  {
   "cell_type": "markdown",
   "id": "c46ce922",
   "metadata": {},
   "source": [
    "<B>4.31:  <U>Quantifiers with anchors</U>.  Match on each string that consists only of letters, numbers or the underscore.</B>"
   ]
  },
  {
   "cell_type": "code",
   "execution_count": null,
   "id": "de8135de",
   "metadata": {},
   "outputs": [],
   "source": [
    "import re\n",
    "\n",
    "match_strings = [\n",
    "    'hello world 00',\n",
    "    'goodbye world    ',\n",
    "    ' 23 bonjour',\n",
    "    'wilkommen23  ',\n",
    "    'aloha',\n",
    "    '99',\n",
    "    '00',\n",
    "    '88557799',\n",
    "    'Que 3 Tal!',\n",
    "    'myfile.jpg',\n",
    "    'yourfile.JPG'\n",
    "]\n",
    "\n",
    "count = 0\n",
    "for string in match_strings:\n",
    "    if re.search(r'', string):\n",
    "        print(string)\n",
    "        count += 1\n",
    "print(f'count:  {count}')"
   ]
  },
  {
   "cell_type": "markdown",
   "id": "1d406a62",
   "metadata": {},
   "source": [
    "<U>Expected Output</U>:"
   ]
  },
  {
   "cell_type": "markdown",
   "id": "9e73113f",
   "metadata": {},
   "source": [
    "<pre style=\"margin: 0; padding=0\"><DIV style=\"font-family: Courier; border: 1px solid #dbdbdb; padding: 7px\">aloha\n",
    "99\n",
    "00\n",
    "88557799\n",
    "count: 4</DIV></pre>"
   ]
  },
  {
   "cell_type": "markdown",
   "id": "d811892a",
   "metadata": {},
   "source": [
    " "
   ]
  },
  {
   "cell_type": "markdown",
   "id": "02b6ccb8",
   "metadata": {},
   "source": [
    "<B>4.32:  <U>Quantifiers with anchors (2)</U>.  Match on each string that consists only of non-digits.</B>"
   ]
  },
  {
   "cell_type": "code",
   "execution_count": null,
   "id": "6810b38c",
   "metadata": {},
   "outputs": [],
   "source": [
    "import re\n",
    "\n",
    "match_strings = [\n",
    "    'hello world 00',\n",
    "    'goodbye world    ',\n",
    "    ' 23 bonjour',\n",
    "    'wilkommen23  ',\n",
    "    'aloha',\n",
    "    '99',\n",
    "    '00',\n",
    "    '88557799',\n",
    "    'Que 3 Tal!',\n",
    "    'myfile.jpg',\n",
    "    'yourfile.JPG'\n",
    "]\n",
    "\n",
    "count = 0\n",
    "for string in match_strings:\n",
    "    if re.search(r'', string):\n",
    "        print(string)\n",
    "        count += 1\n",
    "print(f'count:  {count}')"
   ]
  },
  {
   "cell_type": "markdown",
   "id": "ccdcab57",
   "metadata": {},
   "source": [
    "<U>Expected Output</U>:"
   ]
  },
  {
   "cell_type": "markdown",
   "id": "f29dc799",
   "metadata": {},
   "source": [
    "<pre style=\"margin: 0; padding=0\"><DIV style=\"font-family: Courier; border: 1px solid #dbdbdb; padding: 7px\">goodbye world\n",
    "aloha\n",
    "myfile.jpg\n",
    "yourfile.JPG\n",
    "count: 4</DIV></pre>"
   ]
  },
  {
   "cell_type": "markdown",
   "id": "96536a3d",
   "metadata": {},
   "source": [
    " "
   ]
  },
  {
   "cell_type": "markdown",
   "id": "30687be9",
   "metadata": {},
   "source": [
    "<B>4.33:  <U>Quantifiers with anchors (3)</U>.  Match on each string that consists only of non-spaces.</B>"
   ]
  },
  {
   "cell_type": "code",
   "execution_count": null,
   "id": "fea8c943",
   "metadata": {},
   "outputs": [],
   "source": [
    "import re\n",
    "\n",
    "match_strings = [\n",
    "    'hello world 00',\n",
    "    'goodbye world    ',\n",
    "    ' 23 bonjour',\n",
    "    'wilkommen23  ',\n",
    "    'aloha',\n",
    "    '99',\n",
    "    '00',\n",
    "    '88557799',\n",
    "    'Que 3 Tal!',\n",
    "    'myfile.jpg',\n",
    "    'yourfile.JPG'\n",
    "]\n",
    "\n",
    "count = 0\n",
    "for string in match_strings:\n",
    "    if re.search(r'', string):\n",
    "        print(string)\n",
    "        count += 1\n",
    "print(f'count:  {count}')"
   ]
  },
  {
   "cell_type": "markdown",
   "id": "ca8badd4",
   "metadata": {},
   "source": [
    "<U>Expected Output</U>:"
   ]
  },
  {
   "cell_type": "markdown",
   "id": "a6c88b6c",
   "metadata": {},
   "source": [
    "<pre style=\"margin: 0; padding=0\"><DIV style=\"font-family: Courier; border: 1px solid #dbdbdb; padding: 7px\">aloha\n",
    "99\n",
    "00\n",
    "88557799\n",
    "myfile.jpg\n",
    "yourfile.JPG\n",
    "count: 6</DIV></pre>"
   ]
  },
  {
   "cell_type": "markdown",
   "id": "d3c275a1",
   "metadata": {},
   "source": [
    " "
   ]
  },
  {
   "cell_type": "markdown",
   "id": "d0f5a06a",
   "metadata": {},
   "source": [
    "CUSTOM QUANTIFIERS"
   ]
  },
  {
   "cell_type": "markdown",
   "id": "bd3f8325",
   "metadata": {},
   "source": [
    "<B>4.34:  <U>Custom quantifier</U>.  </B>"
   ]
  },
  {
   "cell_type": "markdown",
   "id": "47f32324",
   "metadata": {},
   "source": [
    "Match on each string that has two or more spaces at the end.\n"
   ]
  },
  {
   "cell_type": "code",
   "execution_count": null,
   "id": "3745235e",
   "metadata": {},
   "outputs": [],
   "source": [
    "import re\n",
    "\n",
    "match_strings = [\n",
    "    'hello world 00',\n",
    "    'goodbye world    ',\n",
    "    ' 23 bonjour',\n",
    "    'wilkommen23  ',\n",
    "    'aloha',\n",
    "    '99',\n",
    "    '00',\n",
    "    '88557799',\n",
    "    'Que 3 Tal!',\n",
    "    'myfile.jpg',\n",
    "    'yourfile.JPG'\n",
    "]\n",
    "\n",
    "count = 0\n",
    "for string in match_strings:\n",
    "    if re.search(r'', string):\n",
    "        print(string)\n",
    "        count += 1\n",
    "print(f'count:  {count}')"
   ]
  },
  {
   "cell_type": "markdown",
   "id": "d5b8614f",
   "metadata": {},
   "source": [
    "<U>Expected Output</U>:"
   ]
  },
  {
   "cell_type": "markdown",
   "id": "2a286ee7",
   "metadata": {},
   "source": [
    "<pre style=\"margin: 0; padding=0\"><DIV style=\"font-family: Courier; border: 1px solid #dbdbdb; padding: 7px\">goodbye world\n",
    "wilkommen23\n",
    "count: 2</DIV></pre>"
   ]
  },
  {
   "cell_type": "markdown",
   "id": "498b9f9e",
   "metadata": {},
   "source": [
    " "
   ]
  },
  {
   "cell_type": "markdown",
   "id": "a8d521a6",
   "metadata": {},
   "source": [
    "<B>4.35:  <U>Custom quantifier</U>.  </B>"
   ]
  },
  {
   "cell_type": "markdown",
   "id": "0d0229a8",
   "metadata": {},
   "source": [
    "Match on strings that have a capital letter followed by two or more lowercase letters.\n"
   ]
  },
  {
   "cell_type": "code",
   "execution_count": null,
   "id": "0255ad80",
   "metadata": {},
   "outputs": [],
   "source": [
    "import re\n",
    "\n",
    "match_strings = [\n",
    "    'hello World 00',\n",
    "    'goodbye As world    ',\n",
    "    'To 23 bonjour',\n",
    "    'wilkommen23  ',\n",
    "    'Aloha',\n",
    "    '99',\n",
    "    '00',\n",
    "    '88557799',\n",
    "    'Que 3 Tal!',\n",
    "    'myfile.jpg',\n",
    "    'yourfile.JPG'\n",
    "]\n",
    "\n",
    "count = 0\n",
    "for string in match_strings:\n",
    "    if re.search(r'', string):\n",
    "        print(string)\n",
    "        count += 1\n",
    "print(f'count:  {count}')"
   ]
  },
  {
   "cell_type": "markdown",
   "id": "d046cb27",
   "metadata": {},
   "source": [
    "<U>Expected Output</U>:"
   ]
  },
  {
   "cell_type": "markdown",
   "id": "e7108775",
   "metadata": {},
   "source": [
    "<pre style=\"margin: 0; padding=0\"><DIV style=\"font-family: Courier; border: 1px solid #dbdbdb; padding: 7px\">hello World 00\n",
    "Aloha\n",
    "Que 3 Tal!\n",
    "count: 3</DIV></pre>"
   ]
  },
  {
   "cell_type": "markdown",
   "id": "16fa15ab",
   "metadata": {},
   "source": [
    " "
   ]
  },
  {
   "cell_type": "markdown",
   "id": "7dae7284",
   "metadata": {},
   "source": [
    "<B>4.36:  <U>Custom quantifier</U>.  </B>"
   ]
  },
  {
   "cell_type": "markdown",
   "id": "ace3fa0d",
   "metadata": {},
   "source": [
    "Print those numbers that are in the millions (i.e., 7 or more digits)."
   ]
  },
  {
   "cell_type": "code",
   "execution_count": null,
   "id": "e23e3c76",
   "metadata": {},
   "outputs": [],
   "source": [
    "import re\n",
    "\n",
    "nums = [\n",
    "  '1',\n",
    "  '10',\n",
    "  '100',\n",
    "  '1000',\n",
    "  '10000',\n",
    "  '100000',\n",
    "  '1000000',\n",
    "  '10000000'\n",
    "]\n",
    "\n",
    "for num in nums:\n",
    "    if re.search(r'', num):\n",
    "        print(num)"
   ]
  },
  {
   "cell_type": "markdown",
   "id": "4230675c",
   "metadata": {},
   "source": [
    "<U>Expected Output</U>:"
   ]
  },
  {
   "cell_type": "markdown",
   "id": "c7b407d5",
   "metadata": {},
   "source": [
    "<pre style=\"margin: 0; padding=0\"><DIV style=\"font-family: Courier; border: 1px solid #dbdbdb; padding: 7px\">1000000\n",
    "10000000</DIV></pre>"
   ]
  },
  {
   "cell_type": "markdown",
   "id": "d8cb5261",
   "metadata": {},
   "source": [
    " "
   ]
  },
  {
   "cell_type": "markdown",
   "id": "4c6125d1",
   "metadata": {},
   "source": [
    "<B>4.37:  <U>Custom quantifier</U>.  Having split the text into words, show those words that are greater than 7 characters in size.  </B>"
   ]
  },
  {
   "cell_type": "code",
   "execution_count": null,
   "id": "0ea396d4",
   "metadata": {},
   "outputs": [],
   "source": [
    "import re\n",
    "\n",
    "text = \"\"\"This is the 1000th story, regarding a duck\n",
    "named Quack.  It was unlikely that Quack could have been\n",
    "given a name like that by his mother, so we can only conclude\n",
    "that he was named by the author, who has a cuteness problem.\"\"\"\n",
    "\n",
    "\n",
    "words = text.split()\n",
    "stripped = [ word.rstrip('.,') for word in words ]\n",
    "\n",
    "for word in stripped:\n",
    "    if re.search(r'', word):\n",
    "        print(word)"
   ]
  },
  {
   "cell_type": "markdown",
   "id": "50d4e0f2",
   "metadata": {},
   "source": [
    "<U>Expected Output</U>:"
   ]
  },
  {
   "cell_type": "markdown",
   "id": "5bf74617",
   "metadata": {},
   "source": [
    "<pre style=\"margin: 0; padding=0\"><DIV style=\"font-family: Courier; border: 1px solid #dbdbdb; padding: 7px\">regarding\n",
    "unlikely\n",
    "conclude\n",
    "cuteness\n",
    "problem</DIV></pre>"
   ]
  },
  {
   "cell_type": "markdown",
   "id": "452263c1",
   "metadata": {},
   "source": [
    " "
   ]
  },
  {
   "cell_type": "markdown",
   "id": "58c8b307",
   "metadata": {},
   "source": [
    "<B>4.38:  <U>Custom Quantifier</U>.  </B>"
   ]
  },
  {
   "cell_type": "markdown",
   "id": "511462ea",
   "metadata": {},
   "source": [
    "A password must be 3-8 characters in length (letters, numbers and underscores are permitted).  Validate the below password attempts.\n"
   ]
  },
  {
   "cell_type": "code",
   "execution_count": null,
   "id": "2983b95a",
   "metadata": {},
   "outputs": [],
   "source": [
    "import re\n",
    "\n",
    "attempts = [\n",
    "    '1234',\n",
    "    'hello_there',\n",
    "    'password',\n",
    "    'ok',\n",
    "    'what?',\n",
    "    'supercalifrag']\n",
    "\n",
    "for password in attempts:\n",
    "    if re.search(r'', password):\n",
    "        print(f'{password}:  validated')"
   ]
  },
  {
   "cell_type": "markdown",
   "id": "ae69e11f",
   "metadata": {},
   "source": [
    "<U>Expected Output</U>:"
   ]
  },
  {
   "cell_type": "markdown",
   "id": "4a7b8aa7",
   "metadata": {},
   "source": [
    "<pre style=\"margin: 0; padding=0\"><DIV style=\"font-family: Courier; border: 1px solid #dbdbdb; padding: 7px\">1234:  validated\n",
    "password:  validated</DIV></pre>"
   ]
  },
  {
   "cell_type": "markdown",
   "id": "7de7e7ce",
   "metadata": {},
   "source": [
    " "
   ]
  },
  {
   "cell_type": "markdown",
   "id": "b89393f7",
   "metadata": {},
   "source": [
    "ESCAPING SPECIAL CHARACTERS"
   ]
  },
  {
   "cell_type": "markdown",
   "id": "f1adf76e",
   "metadata": {},
   "source": [
    "<B>4.39:  <U>Escape wildcard (aka period)</U>.  Match on each string that has a letter, number or underscore followed by a period.</B>"
   ]
  },
  {
   "cell_type": "code",
   "execution_count": null,
   "id": "847ceae8",
   "metadata": {},
   "outputs": [],
   "source": [
    "import re\n",
    "\n",
    "match_strings = [\n",
    "    'hello world 00',\n",
    "    'goodbye world    ',\n",
    "    ' 23 bonjour',\n",
    "    'wilkommen23  ',\n",
    "    'aloha',\n",
    "    '99',\n",
    "    '00',\n",
    "    '88557799',\n",
    "    'Que 3 Tal!',\n",
    "    'myfile.jpg',\n",
    "    'yourfile.JPG'\n",
    "]\n",
    "\n",
    "count = 0\n",
    "for string in match_strings:\n",
    "    if re.search(r'', string):\n",
    "        print(string)\n",
    "        count += 1\n",
    "print(f'count:  {count}')"
   ]
  },
  {
   "cell_type": "markdown",
   "id": "a16f7e52",
   "metadata": {},
   "source": [
    "<U>Expected Output</U>:"
   ]
  },
  {
   "cell_type": "markdown",
   "id": "fd6779f5",
   "metadata": {},
   "source": [
    "<pre style=\"margin: 0; padding=0\"><DIV style=\"font-family: Courier; border: 1px solid #dbdbdb; padding: 7px\">myfile.jpg\n",
    "yourfile.JPG\n",
    "count: 2</DIV></pre>"
   ]
  },
  {
   "cell_type": "markdown",
   "id": "b015e905",
   "metadata": {},
   "source": [
    "Note:  why would this work without escaping the period?  Because"
   ]
  },
  {
   "cell_type": "markdown",
   "id": "5ebd1d1f",
   "metadata": {},
   "source": [
    " "
   ]
  },
  {
   "cell_type": "markdown",
   "id": "0f93a276",
   "metadata": {},
   "source": [
    "<B>4.40:  <U>Escape end anchor (aka dollar sign)</U>.  </B>"
   ]
  },
  {
   "cell_type": "markdown",
   "id": "590f04e1",
   "metadata": {},
   "source": [
    "Match on strings that have a dollar amount ($23.53).\n"
   ]
  },
  {
   "cell_type": "code",
   "execution_count": null,
   "id": "4b050698",
   "metadata": {},
   "outputs": [],
   "source": [
    "import re\n",
    "\n",
    "lines = [\n",
    "    'The coat cost $239.50.',\n",
    "    'The candy cost $1.93',\n",
    "    \"I didn't buy anything today.\",\n",
    "    '$1 sale',\n",
    "    'I dream of $$$'\n",
    "]\n",
    "\n",
    "for line in lines:\n",
    "    if re.search(r'', line):\n",
    "        print(line)\n"
   ]
  },
  {
   "cell_type": "markdown",
   "id": "cdb86794",
   "metadata": {},
   "source": [
    "<U>Expected Output</U>:"
   ]
  },
  {
   "cell_type": "markdown",
   "id": "f23805a1",
   "metadata": {},
   "source": [
    "<pre style=\"margin: 0; padding=0\"><DIV style=\"font-family: Courier; border: 1px solid #dbdbdb; padding: 7px\">The coat cost $239.50.\n",
    "The candy cost $1.93</DIV></pre>"
   ]
  },
  {
   "cell_type": "markdown",
   "id": "1186c0a6",
   "metadata": {},
   "source": [
    " "
   ]
  },
  {
   "cell_type": "markdown",
   "id": "c8200b56",
   "metadata": {},
   "source": [
    "<B>4.41:  <U>Escape quantifier character +</U>.  </B>"
   ]
  },
  {
   "cell_type": "markdown",
   "id": "2e63c446",
   "metadata": {},
   "source": [
    "Match on all lines with positive numbers.\n"
   ]
  },
  {
   "cell_type": "code",
   "execution_count": null,
   "id": "80b467d5",
   "metadata": {},
   "outputs": [],
   "source": [
    "import re\n",
    "\n",
    "numbers = [\n",
    "    'Amount:  -23.9',\n",
    "    'Amount:  +43.8',\n",
    "    'Amount:  -9.03',\n",
    "    'Amount:  +99.9',\n",
    "    'Amount:  +22.0'\n",
    "]\n",
    "for num in numbers:\n",
    "    if re.search(r'', num):\n",
    "        print(num)"
   ]
  },
  {
   "cell_type": "markdown",
   "id": "9846778b",
   "metadata": {},
   "source": [
    "<U>Expected Output</U>:"
   ]
  },
  {
   "cell_type": "markdown",
   "id": "d2dc6053",
   "metadata": {},
   "source": [
    "<pre style=\"margin: 0; padding=0\"><DIV style=\"font-family: Courier; border: 1px solid #dbdbdb; padding: 7px\">Amount:  +43.8\n",
    "Amount:  +99.9\n",
    "Amount:  +22.0</DIV></pre>"
   ]
  },
  {
   "cell_type": "markdown",
   "id": "3c283d79",
   "metadata": {},
   "source": [
    " "
   ]
  },
  {
   "cell_type": "markdown",
   "id": "7ef8350e",
   "metadata": {},
   "source": [
    "<B>4.42:  <U>Escape quantifier character *</U>.  </B>"
   ]
  },
  {
   "cell_type": "markdown",
   "id": "2aa3e838",
   "metadata": {},
   "source": [
    "Match on all lines with asterisked footnotes.\n"
   ]
  },
  {
   "cell_type": "code",
   "execution_count": null,
   "id": "f561b7c6",
   "metadata": {},
   "outputs": [],
   "source": [
    "import re\n",
    "\n",
    "numbers = [\n",
    "    'As Ibid* said,',\n",
    "    'there should be no greater good ',\n",
    "    'than compassion*, love, ',\n",
    "    'mutual benefit*',\n",
    "    'and the profit-making motive.',\n",
    "]\n",
    "for num in numbers:\n",
    "    if re.search(r'', num):\n",
    "        print(num)"
   ]
  },
  {
   "cell_type": "markdown",
   "id": "eb37d4ec",
   "metadata": {},
   "source": [
    "<U>Expected Output</U>:"
   ]
  },
  {
   "cell_type": "markdown",
   "id": "8639e5fd",
   "metadata": {},
   "source": [
    "<pre style=\"margin: 0; padding=0\"><DIV style=\"font-family: Courier; border: 1px solid #dbdbdb; padding: 7px\">As Ibid* said,\n",
    "than compasssion*, love,\n",
    "mutual benefit*</DIV></pre>"
   ]
  },
  {
   "cell_type": "markdown",
   "id": "3e69a341",
   "metadata": {},
   "source": [
    " "
   ]
  },
  {
   "cell_type": "markdown",
   "id": "6987637d",
   "metadata": {},
   "source": [
    "LAB 2"
   ]
  },
  {
   "cell_type": "markdown",
   "id": "2c94a010",
   "metadata": {},
   "source": [
    "<div style=\"background-color: #ccffcc; padding: 10px; border: 2px solid green\"><B>4.43:  Match on each string that has one or more \"word\" characters, followed by one or more spaces, followed by one or more \"word\" characters.</B></div>"
   ]
  },
  {
   "cell_type": "code",
   "execution_count": null,
   "id": "c78d6981",
   "metadata": {},
   "outputs": [],
   "source": [
    "import re\n",
    "\n",
    "match_strings = [\n",
    "    'hello world 00',\n",
    "    'goodbye world    ',\n",
    "    ' 23 bonjour',\n",
    "    'wilkommen23  ',\n",
    "    'aloha',\n",
    "    '99',\n",
    "    '00',\n",
    "    '88557799',\n",
    "    'Que 3 Tal!',\n",
    "    'myfile.jpg',\n",
    "    'yourfile.JPG'\n",
    "]\n",
    "\n",
    "count = 0\n",
    "for string in match_strings:\n",
    "    if re.search(r'', string):\n",
    "        print(string)\n",
    "        count += 1\n",
    "print(f'count:  {count}')"
   ]
  },
  {
   "cell_type": "markdown",
   "id": "45bf4c3c",
   "metadata": {},
   "source": [
    "<U>Expected Output</U>:"
   ]
  },
  {
   "cell_type": "markdown",
   "id": "29f2fba0",
   "metadata": {},
   "source": [
    "<pre style=\"margin: 0; padding=0\"><DIV style=\"font-family: Courier; border: 1px solid #dbdbdb; padding: 7px\">hello world 00\n",
    "goodbye world\n",
    " 23 bonjour\n",
    "Que 3 Tal!\n",
    "count: 4</DIV></pre>"
   ]
  },
  {
   "cell_type": "markdown",
   "id": "c68e8530",
   "metadata": {},
   "source": [
    " "
   ]
  },
  {
   "cell_type": "markdown",
   "id": "83d266d4",
   "metadata": {},
   "source": [
    "<div style=\"background-color: #ccffcc; padding: 10px; border: 2px solid green\"><B>4.44:  Ignore comment lines:  print only those lines that don't start with a comment (the first non-space character is a hash mark).  </B></div>"
   ]
  },
  {
   "cell_type": "code",
   "execution_count": null,
   "id": "77c0045c",
   "metadata": {},
   "outputs": [],
   "source": [
    "import re\n",
    "\n",
    "text = \"\"\"\n",
    "# this is a program to do stuff\n",
    "a = 5\n",
    "b = 10              # an int\n",
    "if True:\n",
    "    # multiply them\n",
    "    c = a * b\n",
    "\"\"\"\n",
    "\n",
    "for line in text.splitlines():\n",
    "    if re.search(r'', line) or re.search(r'', line):\n",
    "        continue\n",
    "    print(line)"
   ]
  },
  {
   "cell_type": "markdown",
   "id": "4e0df621",
   "metadata": {},
   "source": [
    "<U>Expected Output</U>:"
   ]
  },
  {
   "cell_type": "markdown",
   "id": "ec4d86f8",
   "metadata": {},
   "source": [
    "<pre style=\"margin: 0; padding=0\"><DIV style=\"font-family: Courier; border: 1px solid #dbdbdb; padding: 7px\">a = 5\n",
    "b = 10              # an int\n",
    "if True:\n",
    "    c = a * b</DIV></pre>"
   ]
  },
  {
   "cell_type": "markdown",
   "id": "33617a15",
   "metadata": {},
   "source": [
    " "
   ]
  },
  {
   "cell_type": "markdown",
   "id": "63a2983a",
   "metadata": {},
   "source": [
    "<div style=\"background-color: #ccffcc; padding: 10px; border: 2px solid green\"><B>4.45:  Match those lines that contain a 7-digit hex number (a-fA-F0-9).  </B></div>"
   ]
  },
  {
   "cell_type": "code",
   "execution_count": null,
   "id": "0d7a3e93",
   "metadata": {},
   "outputs": [],
   "source": [
    "import re\n",
    "\n",
    "lines = [\n",
    "    'The color code is #ABF2307.',\n",
    "    'Mr. Mxyzptlk is 999 years old today.',\n",
    "    'The memory address is fc9d223.'\n",
    "]\n",
    "\n",
    "for line in lines:\n",
    "    if re.search(r'', line):\n",
    "        print(line)"
   ]
  },
  {
   "cell_type": "markdown",
   "id": "88544448",
   "metadata": {},
   "source": [
    "<U>Expected Output</U>:"
   ]
  },
  {
   "cell_type": "markdown",
   "id": "c7dd37c8",
   "metadata": {},
   "source": [
    "<pre style=\"margin: 0; padding=0\"><DIV style=\"font-family: Courier; border: 1px solid #dbdbdb; padding: 7px\">The color code is #ABF2307.\n",
    "The memory address is fc9d223.</DIV></pre>"
   ]
  },
  {
   "cell_type": "markdown",
   "id": "50de6b5f",
   "metadata": {},
   "source": [
    " "
   ]
  },
  {
   "cell_type": "markdown",
   "id": "7cec11d5",
   "metadata": {},
   "source": [
    "<div style=\"background-color: #ccffcc; padding: 10px; border: 2px solid green\"><B>4.46:  Show those lines that contain two capitalized words (as in a name).  </B></div>"
   ]
  },
  {
   "cell_type": "code",
   "execution_count": null,
   "id": "0b06019f",
   "metadata": {},
   "outputs": [],
   "source": [
    "import re\n",
    "\n",
    "lines = [\n",
    "    'The owner is Gwen Harstridge.',\n",
    "    \"There aren't a lot of stores like this one.\",\n",
    "    'Paris is not a lot like Rome.',\n",
    "    'I hail from Los Angeles, California'.\n",
    "]\n",
    "\n",
    "for line in lines:\n",
    "    if re.search(r'', line):\n",
    "        print(line)"
   ]
  },
  {
   "cell_type": "markdown",
   "id": "766d3424",
   "metadata": {},
   "source": [
    "<U>Expected Output</U>:"
   ]
  },
  {
   "cell_type": "markdown",
   "id": "4e5d8ced",
   "metadata": {},
   "source": [
    "<pre style=\"margin: 0; padding=0\"><DIV style=\"font-family: Courier; border: 1px solid #dbdbdb; padding: 7px\">    The owner is Gwen Harstridge.\n",
    "    I hail from Los Angeles, California.</DIV></pre>"
   ]
  },
  {
   "cell_type": "markdown",
   "id": "ddd219eb",
   "metadata": {},
   "source": [
    " "
   ]
  },
  {
   "cell_type": "markdown",
   "id": "b1e13118",
   "metadata": {},
   "source": [
    "re.IGNORECASE"
   ]
  },
  {
   "cell_type": "markdown",
   "id": "c13c53cb",
   "metadata": {},
   "source": [
    " "
   ]
  },
  {
   "cell_type": "markdown",
   "id": "89cefe9b",
   "metadata": {},
   "source": [
    "<div style=\"background-color: #ccffcc; padding: 10px; border: 2px solid green\"><B>4.47:  Without using a character class, match on each string that ends in .jpg or .JPG (try this another way).</B></div>"
   ]
  },
  {
   "cell_type": "markdown",
   "id": "044cbc29",
   "metadata": {},
   "source": [
    "(hint: use the flag argument (the optional 3rd argument) to re.search())\n"
   ]
  },
  {
   "cell_type": "code",
   "execution_count": null,
   "id": "8fde2304",
   "metadata": {},
   "outputs": [],
   "source": [
    "import re\n",
    "\n",
    "match_strings = [\n",
    "    'hello world 00',\n",
    "    'goodbye world    ',\n",
    "    ' 23 bonjour',\n",
    "    'wilkommen23  ',\n",
    "    'aloha',\n",
    "    '99',\n",
    "    '00',\n",
    "    '88557799',\n",
    "    'Que 3 Tal!',\n",
    "    'myfile.jpg',\n",
    "    'yourfile.JPG'\n",
    "]\n",
    "\n",
    "count = 0\n",
    "for string in match_strings:\n",
    "    if re.search(r'', string):\n",
    "        print(string)\n",
    "        count += 1\n",
    "print(f'count:  {count}')"
   ]
  },
  {
   "cell_type": "markdown",
   "id": "34905d0d",
   "metadata": {},
   "source": [
    "<U>Expected Output</U>:"
   ]
  },
  {
   "cell_type": "markdown",
   "id": "f4249628",
   "metadata": {},
   "source": [
    "<pre style=\"margin: 0; padding=0\"><DIV style=\"font-family: Courier; border: 1px solid #dbdbdb; padding: 7px\">myfile.jpg\n",
    "yourfile.JPG\n",
    "count: 2</DIV></pre>"
   ]
  },
  {
   "cell_type": "markdown",
   "id": "857d8d90",
   "metadata": {},
   "source": [
    " "
   ]
  },
  {
   "cell_type": "markdown",
   "id": "8c3e2a84",
   "metadata": {},
   "source": [
    "<div style=\"background-color: #ccffcc; padding: 10px; border: 2px solid green\"><B>4.48:  Print only those files that start with 'image#' ('image' plus a <I>possible</I> number) and end in any of these image extensions:  '.jpg', '.png', '.gif'</B></div>"
   ]
  },
  {
   "cell_type": "code",
   "execution_count": null,
   "id": "41e25d70",
   "metadata": {},
   "outputs": [],
   "source": [
    "import re\n",
    "\n",
    "filenames = ['image2.jpg', 'image.png', 'file.txt', 'file2.doc',\n",
    "             'file3.pdf', 'image2.gif', 'image3.jpg', 'image4.jpg',\n",
    "             'advert.jpg', 'advert.png']\n",
    "\n",
    "for name in filenames:\n",
    "    if re.search(r'', name):\n",
    "        print(name)"
   ]
  },
  {
   "cell_type": "markdown",
   "id": "56f8f01b",
   "metadata": {},
   "source": [
    "<U>Expected Output</U>:"
   ]
  },
  {
   "cell_type": "markdown",
   "id": "e098299a",
   "metadata": {},
   "source": [
    "<pre style=\"margin: 0; padding=0\"><DIV style=\"font-family: Courier; border: 1px solid #dbdbdb; padding: 7px\">image2.jpg\n",
    "image.png\n",
    "image2.gif\n",
    "image3.jpg\n",
    "image4.jpg</DIV></pre>"
   ]
  },
  {
   "cell_type": "markdown",
   "id": "c0e6a00f",
   "metadata": {},
   "source": [
    " "
   ]
  },
  {
   "cell_type": "markdown",
   "id": "2228e0e5",
   "metadata": {},
   "source": [
    "<div style=\"background-color: #ccffcc; padding: 10px; border: 2px solid green\"><B>4.49:  Match on each string that ends in .jpg or .JPG</B></div>"
   ]
  },
  {
   "cell_type": "code",
   "execution_count": null,
   "id": "18b1c41d",
   "metadata": {},
   "outputs": [],
   "source": [
    "import re\n",
    "\n",
    "match_strings = [\n",
    "    'hello world 00',\n",
    "    'goodbye world    ',\n",
    "    ' 23 bonjour',\n",
    "    'wilkommen23  ',\n",
    "    'aloha',\n",
    "    '99',\n",
    "    '00',\n",
    "    '88557799',\n",
    "    'Que 3 Tal!',\n",
    "    'myfile.jpg',\n",
    "    'yourfile.JPG'\n",
    "]\n",
    "\n",
    "count = 0\n",
    "for string in match_strings:\n",
    "    if re.search(r'', string):\n",
    "        print(string)\n",
    "        count += 1\n",
    "print(f'count:  {count}')"
   ]
  },
  {
   "cell_type": "markdown",
   "id": "a8b21733",
   "metadata": {},
   "source": [
    "<U>Expected Output</U>:"
   ]
  },
  {
   "cell_type": "markdown",
   "id": "66525a96",
   "metadata": {},
   "source": [
    "<pre style=\"margin: 0; padding=0\"><DIV style=\"font-family: Courier; border: 1px solid #dbdbdb; padding: 7px\">myfile.jpg\n",
    "yourfile.JPG\n",
    "count: 2</DIV></pre>"
   ]
  },
  {
   "cell_type": "markdown",
   "id": "f9f14b1e",
   "metadata": {},
   "source": [
    " "
   ]
  },
  {
   "cell_type": "markdown",
   "id": "587e1d85",
   "metadata": {},
   "source": [
    "GROUPING FOR QUANTIFYING and ALTERNATES"
   ]
  },
  {
   "cell_type": "markdown",
   "id": "d3a252c1",
   "metadata": {},
   "source": [
    " "
   ]
  },
  {
   "cell_type": "markdown",
   "id": "396eb9b3",
   "metadata": {},
   "source": [
    "<B>4.50:  <U>Quantifying a group</U>.  First create a pattern that is 1 or more digits with comma separator (i.e. matching on <B>0,</B>, </B>00,</B> <B>000,</B>) and group the number with parentheses; quantify the group to say that there is zero or more of these, followed by one or more digits, a period and 1-2 digits.  (Do not use a custom character class for this purpose.)</B>"
   ]
  },
  {
   "cell_type": "code",
   "execution_count": null,
   "id": "9176448b",
   "metadata": {},
   "outputs": [],
   "source": [
    "import re\n",
    "\n",
    "values = ['23.9', '18.2', '23.95', '2,238,000.00', '15,382.92', 'joe', '6.05']  # list of str\n",
    "for value in values:\n",
    "    matchobj = re.search(r'', value)\n",
    "    if matchobj:\n",
    "        print(value)"
   ]
  },
  {
   "cell_type": "markdown",
   "id": "67af3767",
   "metadata": {},
   "source": [
    "<U>Expected Output</U>:"
   ]
  },
  {
   "cell_type": "markdown",
   "id": "bf32c515",
   "metadata": {},
   "source": [
    "<pre style=\"margin: 0; padding=0\"><DIV style=\"font-family: Courier; border: 1px solid #dbdbdb; padding: 7px\">$23.95\n",
    "$2,238,000.00\n",
    "$15,382.92</DIV></pre>"
   ]
  },
  {
   "cell_type": "markdown",
   "id": "01935d9d",
   "metadata": {},
   "source": [
    "Note that if you see the message <B>AttributeError: 'NoneType' object has no attribute 'group'</B>, this means that the search did not find a match and returned <B>None</B>, and the code attempted to call <B>.group()</B> on <B>None</B>.  Check the string and pattern to determine why it did not match."
   ]
  },
  {
   "cell_type": "markdown",
   "id": "c1d3b93c",
   "metadata": {},
   "source": [
    " "
   ]
  },
  {
   "cell_type": "markdown",
   "id": "6a93ada7",
   "metadata": {},
   "source": [
    "<B>4.51:  <U>Quantifying a Group (2)</U>.  Write a single regex that matches on q, Q, quit, Quit, QUIT.  Do this without a character class and without the alternate vertical bar.  </B>"
   ]
  },
  {
   "cell_type": "code",
   "execution_count": null,
   "id": "36d9205f",
   "metadata": {},
   "outputs": [],
   "source": [
    "import re\n",
    "\n",
    "x = input('Do you want to quit? ')     # str, 'QuIt' (sample input)\n",
    "\n",
    "if re.search(r'', x):\n",
    "    print(\"you're quitting!\")\n",
    "else:\n",
    "    print(\"you failed to quit.\")"
   ]
  },
  {
   "cell_type": "markdown",
   "id": "40675a1c",
   "metadata": {},
   "source": [
    "<U>Expected Output</U>:"
   ]
  },
  {
   "cell_type": "markdown",
   "id": "19ec8d60",
   "metadata": {},
   "source": [
    "<pre style=\"margin: 0; padding=0\"><DIV style=\"font-family: Courier; border: 1px solid #dbdbdb; padding: 7px\">Do you want to quit? QuIt\n",
    "you're quitting!</DIV></pre>"
   ]
  },
  {
   "cell_type": "markdown",
   "id": "b6742a07",
   "metadata": {},
   "source": [
    " "
   ]
  },
  {
   "cell_type": "markdown",
   "id": "af8392a9",
   "metadata": {},
   "source": [
    "GROUPING FOR EXTRACTION"
   ]
  },
  {
   "cell_type": "markdown",
   "id": "676f9a49",
   "metadata": {},
   "source": [
    "<B>4.52:  <U>Group for extraction</U>.  </B>"
   ]
  },
  {
   "cell_type": "markdown",
   "id": "f5fdf6aa",
   "metadata": {},
   "source": [
    "Use a parenthetical grouping to extract the number from this text."
   ]
  },
  {
   "cell_type": "code",
   "execution_count": null,
   "id": "bfc7d00f",
   "metadata": {},
   "outputs": [],
   "source": [
    "import re\n",
    "\n",
    "line = '34:  this is a line of text'\n",
    "\n",
    "matchobj = re.search(r'', line)\n",
    "print(matchobj.group(1))"
   ]
  },
  {
   "cell_type": "markdown",
   "id": "e559b7e8",
   "metadata": {},
   "source": [
    "<U>Expected Output</U>:"
   ]
  },
  {
   "cell_type": "markdown",
   "id": "9baf9844",
   "metadata": {},
   "source": [
    "<pre style=\"margin: 0; padding=0\"><DIV style=\"font-family: Courier; border: 1px solid #dbdbdb; padding: 7px\">34</DIV></pre>"
   ]
  },
  {
   "cell_type": "markdown",
   "id": "04574291",
   "metadata": {},
   "source": [
    "Note that if you see the message <B>AttributeError: 'NoneType' object has no attribute 'group'</B>, this means that the search did not find a match and returned <B>None</B>, and the code attempted to call <B>.group()</B> on <B>None</B>.  Check the string and pattern to determine why it did not match."
   ]
  },
  {
   "cell_type": "markdown",
   "id": "29308197",
   "metadata": {},
   "source": [
    " "
   ]
  },
  {
   "cell_type": "markdown",
   "id": "391bafe6",
   "metadata": {},
   "source": [
    "<B>4.53:  <U>Group for extraction</U>.  Extract the Catalog ID and Publication Date from the text line.</B>"
   ]
  },
  {
   "cell_type": "code",
   "execution_count": null,
   "id": "cbe22787",
   "metadata": {},
   "outputs": [],
   "source": [
    "import re\n",
    "\n",
    "rs_row = 'Catalog ID: 2839-587    Pub. Date: 2019-09-03'\n",
    "\n",
    "matchobj = re.search(r'', rs_row)\n",
    "\n",
    "if matchobj:\n",
    "    print(matchobj.group(1))\n",
    "    print(matchobj.group(2))"
   ]
  },
  {
   "cell_type": "markdown",
   "id": "4b10f892",
   "metadata": {},
   "source": [
    "<U>Expected Output</U>:"
   ]
  },
  {
   "cell_type": "markdown",
   "id": "a0975e25",
   "metadata": {},
   "source": [
    "<pre style=\"margin: 0; padding=0\"><DIV style=\"font-family: Courier; border: 1px solid #dbdbdb; padding: 7px\">2839-587\n",
    "2019-09-03</DIV></pre>"
   ]
  },
  {
   "cell_type": "markdown",
   "id": "f610c7e4",
   "metadata": {},
   "source": [
    "Note that if you see the message <B>AttributeError: 'NoneType' object has no attribute 'group'</B>, this means that the search did not find a match and returned <B>None</B>, and the code attempted to call <B>.group()</B> on <B>None</B>.  Check the string and pattern to determine why it did not match."
   ]
  },
  {
   "cell_type": "markdown",
   "id": "d579f685",
   "metadata": {},
   "source": [
    " "
   ]
  },
  {
   "cell_type": "markdown",
   "id": "7be3ffec",
   "metadata": {},
   "source": [
    "<B>4.54:  <U>Group for extraction</U>.  In one regex match, extract the IP address from this log line.</B>"
   ]
  },
  {
   "cell_type": "code",
   "execution_count": null,
   "id": "72241627",
   "metadata": {},
   "outputs": [],
   "source": [
    "import re\n",
    "\n",
    "line = '172.26.93.208 - - [28/Jun/2012:21:00:17 -0400] \"GET /~cmk380/pythondata/image2b.txt HTTP/1.1\" 200 30'\n",
    "\n",
    "matchobj = re.search(r'', line)\n",
    "\n",
    "if matchobj:\n",
    "    print(matchobj.group(1))"
   ]
  },
  {
   "cell_type": "markdown",
   "id": "0c4d0fe1",
   "metadata": {},
   "source": [
    "<U>Expected Output</U>:"
   ]
  },
  {
   "cell_type": "markdown",
   "id": "07b13e42",
   "metadata": {},
   "source": [
    "<pre style=\"margin: 0; padding=0\"><DIV style=\"font-family: Courier; border: 1px solid #dbdbdb; padding: 7px\">172.26.93.208</DIV></pre>"
   ]
  },
  {
   "cell_type": "markdown",
   "id": "c8ce0d17",
   "metadata": {},
   "source": [
    "Note that if you see the message <B>AttributeError: 'NoneType' object has no attribute 'group'</B>, this means that the search did not find a match and returned <B>None</B>, and the code attempted to call <B>.group()</B> on <B>None</B>.  Check the string and pattern to determine why it did not match."
   ]
  },
  {
   "cell_type": "markdown",
   "id": "d9a2d868",
   "metadata": {},
   "source": [
    " "
   ]
  },
  {
   "cell_type": "markdown",
   "id": "d05c963a",
   "metadata": {},
   "source": [
    "'MINIMAL MATCH' QUANTIFIER"
   ]
  },
  {
   "cell_type": "markdown",
   "id": "5d685322",
   "metadata": {},
   "source": [
    "<B>4.55:  <U>Demonstration:  \"minimal\" match</U>.  </B>"
   ]
  },
  {
   "cell_type": "markdown",
   "id": "47b6a3c7",
   "metadata": {},
   "source": [
    "The below regex grabs the word <B>Python</B> from the text.  Run the code once to observe this.\n",
    "\n",
    "Now add a question mark <B>?</B> as the character directly after the \"one or more\" plus sign and run again - you should see that the \"one or more word characters\" pattern is now matching on as few characters as possible."
   ]
  },
  {
   "cell_type": "code",
   "execution_count": null,
   "id": "d58c3661",
   "metadata": {},
   "outputs": [],
   "source": [
    "import re\n",
    "\n",
    "text = 'My language is Python'\n",
    "\n",
    "matchobj = re.search(r'', text)\n",
    "\n",
    "print(matchobj.group(1))"
   ]
  },
  {
   "cell_type": "markdown",
   "id": "612d2072",
   "metadata": {},
   "source": [
    "<U>Expected Output</U>:"
   ]
  },
  {
   "cell_type": "markdown",
   "id": "56a7e786",
   "metadata": {},
   "source": [
    "<pre style=\"margin: 0; padding=0\"><DIV style=\"font-family: Courier; border: 1px solid #dbdbdb; padding: 7px\">P</DIV></pre>"
   ]
  },
  {
   "cell_type": "markdown",
   "id": "e6ca981a",
   "metadata": {},
   "source": [
    "Note that if you see the message <B>AttributeError: 'NoneType' object has no attribute 'group'</B>, this means that the search did not find a match and returned <B>None</B>, and the code attempted to call <B>.group()</B> on <B>None</B>.  Check the string and pattern to determine why it did not match."
   ]
  },
  {
   "cell_type": "markdown",
   "id": "287ff8f6",
   "metadata": {},
   "source": [
    " "
   ]
  },
  {
   "cell_type": "markdown",
   "id": "3c660a6e",
   "metadata": {},
   "source": [
    "<B>4.56:  <U>Work with wildcard and minimal match</U>.  </B>"
   ]
  },
  {
   "cell_type": "markdown",
   "id": "17b78dc5",
   "metadata": {},
   "source": [
    "Use the wildcard to match everything between the first two brackets.  Note carefully what was printed.  (Don't forget that square brackets must be escaped with a backslash, and that extraction requires grouping parentheses.)\n"
   ]
  },
  {
   "cell_type": "code",
   "execution_count": null,
   "id": "3c1753f3",
   "metadata": {},
   "outputs": [],
   "source": [
    "import re\n",
    "\n",
    "text = 'Discussion of terms <TO COME> after something <PLEASE REVIEW>.'\n",
    "\n",
    "matchobj = re.search(r'', text)\n",
    "\n",
    "print(matchobj.group(1))"
   ]
  },
  {
   "cell_type": "markdown",
   "id": "dd6c7c42",
   "metadata": {},
   "source": [
    "<U>Expected Output</U>:"
   ]
  },
  {
   "cell_type": "markdown",
   "id": "45c1ba2d",
   "metadata": {},
   "source": [
    "<pre style=\"margin: 0; padding=0\"><DIV style=\"font-family: Courier; border: 1px solid #dbdbdb; padding: 7px\">TO COME</DIV></pre>"
   ]
  },
  {
   "cell_type": "markdown",
   "id": "90782d62",
   "metadata": {},
   "source": [
    "Note that if you see the message <B>AttributeError: 'NoneType' object has no attribute 'group'</B>, this means that the search did not find a match and returned <B>None</B>, and the code attempted to call <B>.group()</B> on <B>None</B>.  Check the string and pattern to determine why it did not match."
   ]
  },
  {
   "cell_type": "markdown",
   "id": "22739d9c",
   "metadata": {},
   "source": [
    " "
   ]
  },
  {
   "cell_type": "markdown",
   "id": "3f4adc37",
   "metadata": {},
   "source": [
    "<B>4.57:  <U>Match on non-search character</U>.  </B>"
   ]
  },
  {
   "cell_type": "markdown",
   "id": "d7991de5",
   "metadata": {},
   "source": [
    "Perform the same extraction on the below text by searching for a bracket followed by one or more non-brackets.  Text extracted should be the same.\n"
   ]
  },
  {
   "cell_type": "code",
   "execution_count": null,
   "id": "21a564ab",
   "metadata": {},
   "outputs": [],
   "source": [
    "import re\n",
    "\n",
    "text = 'Discussion of terms <TO COME> after something <PLEASE REVIEW>.'\n",
    "\n",
    "matchobj = re.search(r'', text)\n",
    "\n",
    "print(matchobj.group(1))"
   ]
  },
  {
   "cell_type": "markdown",
   "id": "c590fc5b",
   "metadata": {},
   "source": [
    "<U>Expected Output</U>:"
   ]
  },
  {
   "cell_type": "markdown",
   "id": "dbe84f73",
   "metadata": {},
   "source": [
    "<pre style=\"margin: 0; padding=0\"><DIV style=\"font-family: Courier; border: 1px solid #dbdbdb; padding: 7px\">TO COME</DIV></pre>"
   ]
  },
  {
   "cell_type": "markdown",
   "id": "caaeaa15",
   "metadata": {},
   "source": [
    "Note that if you see the message <B>AttributeError: 'NoneType' object has no attribute 'group'</B>, this means that the search did not find a match and returned <B>None</B>, and the code attempted to call <B>.group()</B> on <B>None</B>.  Check the string and pattern to determine why it did not match."
   ]
  },
  {
   "cell_type": "markdown",
   "id": "de05bc80",
   "metadata": {},
   "source": [
    " "
   ]
  },
  {
   "cell_type": "markdown",
   "id": "278ae5d8",
   "metadata": {},
   "source": [
    "GROUPING with .groups()"
   ]
  },
  {
   "cell_type": "markdown",
   "id": "9c6de49e",
   "metadata": {},
   "source": [
    " "
   ]
  },
  {
   "cell_type": "markdown",
   "id": "e4f0d2c1",
   "metadata": {},
   "source": [
    "<B>4.58:  <U>Retrieve a grouping with <B>.groups()</B></U>.  </B>"
   ]
  },
  {
   "cell_type": "markdown",
   "id": "add63cbf",
   "metadata": {},
   "source": [
    "In one regex match, extract the status code and bytes downloaded (last 2 integers on the line) from this log line.  Call <B>.groups()</B> the match object to reveal the extracted values.\n"
   ]
  },
  {
   "cell_type": "code",
   "execution_count": null,
   "id": "f9ca3013",
   "metadata": {},
   "outputs": [],
   "source": [
    "import re\n",
    "\n",
    "line = '172.26.93.208 - - [28/Jun/2012:21:00:17 -0400] \"GET /~cmk380/pythondata/image2b.txt HTTP/1.1\" 200 30'\n",
    "\n",
    "matchobj = re.search(r'', line)\n",
    "\n",
    "if matchobj:\n",
    "    print(matchobj.groups())"
   ]
  },
  {
   "cell_type": "markdown",
   "id": "ce812825",
   "metadata": {},
   "source": [
    "<U>Expected Output</U>:"
   ]
  },
  {
   "cell_type": "markdown",
   "id": "ebf0bf24",
   "metadata": {},
   "source": [
    "<pre style=\"margin: 0; padding=0\"><DIV style=\"font-family: Courier; border: 1px solid #dbdbdb; padding: 7px\">('200', '30')</DIV></pre>"
   ]
  },
  {
   "cell_type": "markdown",
   "id": "f302a346",
   "metadata": {},
   "source": [
    "Note that if you see the message <B>AttributeError: 'NoneType' object has no attribute 'group'</B>, this means that the search did not find a match and returned <B>None</B>, and the code attempted to call <B>.group()</B> on <B>None</B>.  Check the string and pattern to determine why it did not match."
   ]
  },
  {
   "cell_type": "markdown",
   "id": "cf765eb4",
   "metadata": {},
   "source": [
    " "
   ]
  },
  {
   "cell_type": "markdown",
   "id": "f9c2e620",
   "metadata": {},
   "source": [
    "<B>4.59:  <U>Retrieve a grouping with <B>.groups()</B></U>.  </B>"
   ]
  },
  {
   "cell_type": "markdown",
   "id": "3f296170",
   "metadata": {},
   "source": [
    "Extract city, state zip from line."
   ]
  },
  {
   "cell_type": "code",
   "execution_count": null,
   "id": "02673c1b",
   "metadata": {},
   "outputs": [],
   "source": [
    "import re\n",
    "\n",
    "line = 'Los Angeles, CA  91604'\n",
    "matchobj = re.search(r'', line)\n",
    "print(matchobj.groups())"
   ]
  },
  {
   "cell_type": "markdown",
   "id": "2f02fc90",
   "metadata": {},
   "source": [
    "<U>Expected Output</U>:"
   ]
  },
  {
   "cell_type": "markdown",
   "id": "23caf1df",
   "metadata": {},
   "source": [
    "<pre style=\"margin: 0; padding=0\"><DIV style=\"font-family: Courier; border: 1px solid #dbdbdb; padding: 7px\">('Los Angeles', 'CA', '91604')</DIV></pre>"
   ]
  },
  {
   "cell_type": "markdown",
   "id": "11184706",
   "metadata": {},
   "source": [
    "Note that if you see the message <B>AttributeError: 'NoneType' object has no attribute 'group'</B>, this means that the search did not find a match and returned <B>None</B>, and the code attempted to call <B>.group()</B> on <B>None</B>.  Check the string and pattern to determine why it did not match."
   ]
  },
  {
   "cell_type": "markdown",
   "id": "80328b91",
   "metadata": {},
   "source": [
    " "
   ]
  },
  {
   "cell_type": "markdown",
   "id": "3d844552",
   "metadata": {},
   "source": [
    "<B>4.60:  <U>Quantify for an optional group</U>.  </B>"
   ]
  },
  {
   "cell_type": "markdown",
   "id": "9028e5a7",
   "metadata": {},
   "source": [
    "Pull out all the info about each person (Favorite Color may not be there).\n"
   ]
  },
  {
   "cell_type": "code",
   "execution_count": null,
   "id": "51cf93a7",
   "metadata": {},
   "outputs": [],
   "source": [
    "import re\n",
    "\n",
    "results = [ 'Name: Joe;  Favorite Color:  Blue;  Employee ID: 2395',\n",
    "            'Name:  Marie;  Employee ID: 2321',\n",
    "            'Name:  Teneski; Favorite Color: Green;  Employee ID:  1913' ]\n",
    "\n",
    "for row in results:\n",
    "    matchobj = re.search(r'', row)\n",
    "    print(matchobj.groups())"
   ]
  },
  {
   "cell_type": "markdown",
   "id": "8f16ce61",
   "metadata": {},
   "source": [
    "<U>Expected Output</U>:"
   ]
  },
  {
   "cell_type": "markdown",
   "id": "7250990d",
   "metadata": {},
   "source": [
    "<pre style=\"margin: 0; padding=0\"><DIV style=\"font-family: Courier; border: 1px solid #dbdbdb; padding: 7px\">('Joe', 'Favorite Color:  Blue;  ', 'Blue', '2395')\n",
    "('Marie', None, None, '2321')\n",
    "('Teneski', 'Favorite Color: Green;  ', 'Green', '1913')</DIV></pre>"
   ]
  },
  {
   "cell_type": "markdown",
   "id": "5e41da0e",
   "metadata": {},
   "source": [
    "Note that if you see the message <B>AttributeError: 'NoneType' object has no attribute 'group'</B>, this means that the search did not find a match and returned <B>None</B>, and the code attempted to call <B>.group()</B> on <B>None</B>.  Check the string and pattern to determine why it did not match."
   ]
  },
  {
   "cell_type": "markdown",
   "id": "9f564dd5",
   "metadata": {},
   "source": [
    " "
   ]
  },
  {
   "cell_type": "markdown",
   "id": "c5a1627f",
   "metadata": {},
   "source": [
    "findall() FOR MULTIPLE MATCHES"
   ]
  },
  {
   "cell_type": "markdown",
   "id": "62908976",
   "metadata": {},
   "source": [
    " "
   ]
  },
  {
   "cell_type": "markdown",
   "id": "710bbac1",
   "metadata": {},
   "source": [
    "<B>4.61:  <U>Group and extract with <B>findall()</B></U>.  </B>"
   ]
  },
  {
   "cell_type": "markdown",
   "id": "1c30a429",
   "metadata": {},
   "source": [
    "Extract email addresses only for nyu.edu."
   ]
  },
  {
   "cell_type": "code",
   "execution_count": null,
   "id": "0980e9a1",
   "metadata": {},
   "outputs": [],
   "source": [
    "import re\n",
    "\n",
    "text = \"\"\"There are many ways to contact us.  Use the\n",
    "general email contact@nyu.edu, or email our public\n",
    "liason at help@nyu.edu.  If you need tech support you\n",
    "can reach us at askits@nyu.edu.\n",
    "Author:  Joe Wilson joe@wilson.com\"\"\"\n",
    "\n",
    "emails = re.findall(r'', text)\n",
    "print(emails)"
   ]
  },
  {
   "cell_type": "markdown",
   "id": "ba1a5900",
   "metadata": {},
   "source": [
    "<U>Expected Output</U>:"
   ]
  },
  {
   "cell_type": "markdown",
   "id": "d50a9b87",
   "metadata": {},
   "source": [
    "<pre style=\"margin: 0; padding=0\"><DIV style=\"font-family: Courier; border: 1px solid #dbdbdb; padding: 7px\">['contact@nyu.edu', 'help@nyu.edu', 'askits@nyu.edu']</DIV></pre>"
   ]
  },
  {
   "cell_type": "markdown",
   "id": "c0d3ec34",
   "metadata": {},
   "source": [
    " "
   ]
  },
  {
   "cell_type": "markdown",
   "id": "91344a19",
   "metadata": {},
   "source": [
    "re.sub() FOR SUBSTITUTIONS"
   ]
  },
  {
   "cell_type": "markdown",
   "id": "30eb9690",
   "metadata": {},
   "source": [
    " "
   ]
  },
  {
   "cell_type": "markdown",
   "id": "8676ff2c",
   "metadata": {},
   "source": [
    "<B>4.62:  <U>Regex substitution</U>.  Replace space-separated with comma separated</B>"
   ]
  },
  {
   "cell_type": "code",
   "execution_count": null,
   "id": "3a054011",
   "metadata": {},
   "outputs": [],
   "source": [
    "import re\n",
    "\n",
    "args = 'this that   other  and  some  other'\n",
    "args2 = re.sub(r'', \",\", args)\n",
    "print(args2)"
   ]
  },
  {
   "cell_type": "markdown",
   "id": "b15a34c8",
   "metadata": {},
   "source": [
    "<U>Expected Output</U>:"
   ]
  },
  {
   "cell_type": "markdown",
   "id": "96ecf65c",
   "metadata": {},
   "source": [
    "<pre style=\"margin: 0; padding=0\"><DIV style=\"font-family: Courier; border: 1px solid #dbdbdb; padding: 7px\">this,that,other,and,some,other</DIV></pre>"
   ]
  },
  {
   "cell_type": "markdown",
   "id": "36a0c58c",
   "metadata": {},
   "source": [
    " "
   ]
  },
  {
   "cell_type": "markdown",
   "id": "1fd40c85",
   "metadata": {},
   "source": [
    "re.split() FOR PATTERN-BASED DELIMITERS"
   ]
  },
  {
   "cell_type": "markdown",
   "id": "d37740b2",
   "metadata": {},
   "source": [
    " "
   ]
  },
  {
   "cell_type": "markdown",
   "id": "7ba9caf4",
   "metadata": {},
   "source": [
    "<B>4.63:  <U>Regex split</U>.  Split the user-input comma-separated values string into separate digit values.  </B>"
   ]
  },
  {
   "cell_type": "code",
   "execution_count": null,
   "id": "275b8dd3",
   "metadata": {},
   "outputs": [],
   "source": [
    "import re\n",
    "\n",
    "ui = '23, 14, 7,3,9'\n",
    "numbers = re.split(r'', ui)\n",
    "print(numbers)"
   ]
  },
  {
   "cell_type": "markdown",
   "id": "52713bf8",
   "metadata": {},
   "source": [
    "<U>Expected Output</U>:"
   ]
  },
  {
   "cell_type": "markdown",
   "id": "973eb7ad",
   "metadata": {},
   "source": [
    "<pre style=\"margin: 0; padding=0\"><DIV style=\"font-family: Courier; border: 1px solid #dbdbdb; padding: 7px\">['23', '14', '7', '3', '9']</DIV></pre>"
   ]
  },
  {
   "cell_type": "markdown",
   "id": "b57f27e7",
   "metadata": {},
   "source": [
    " "
   ]
  },
  {
   "cell_type": "markdown",
   "id": "d2d01db2",
   "metadata": {},
   "source": [
    "<B>4.64:  <U>DOTALL wildcard match</U>.  </B>"
   ]
  },
  {
   "cell_type": "markdown",
   "id": "8327c2cc",
   "metadata": {},
   "source": [
    "Extract everything between <B>=code start=</B> and <B>= code end =</B>.  Use the <B>re.DOTALL</B> switch to use the wildcard (<B>.</B>) to match on a newline.\n"
   ]
  },
  {
   "cell_type": "code",
   "execution_count": null,
   "id": "0f31c83c",
   "metadata": {},
   "outputs": [],
   "source": [
    "import re\n",
    "\n",
    "text = \"\"\"Title of This Text\n",
    "\n",
    "This is some description...\n",
    "\n",
    "=code start=\n",
    "a = 5\n",
    "b = 5.0\n",
    "if a == b:\n",
    "    print('yes')\n",
    "=code end=\n",
    "\n",
    "This is some discussion...\n",
    "\"\"\"\n",
    "\n",
    "matchobj = re.search(r'', text)\n",
    "\n",
    "print(matchobj.group(1))"
   ]
  },
  {
   "cell_type": "markdown",
   "id": "4b512925",
   "metadata": {},
   "source": [
    "<U>Expected Output</U>:"
   ]
  },
  {
   "cell_type": "markdown",
   "id": "ccdb1e6f",
   "metadata": {},
   "source": [
    "<pre style=\"margin: 0; padding=0\"><DIV style=\"font-family: Courier; border: 1px solid #dbdbdb; padding: 7px\">a = 5\n",
    "b = 5.0\n",
    "if a == b:\n",
    "    print('yes')</DIV></pre>"
   ]
  },
  {
   "cell_type": "markdown",
   "id": "c7607c6d",
   "metadata": {},
   "source": [
    " "
   ]
  },
  {
   "cell_type": "markdown",
   "id": "59228d9d",
   "metadata": {},
   "source": [
    "<B>4.65:  <U>Multiline anchors</U>.  </B>"
   ]
  },
  {
   "cell_type": "markdown",
   "id": "59b248ef",
   "metadata": {},
   "source": [
    "Use <B>findall()</B> to extra numbers from only the start of each line of the text.\n"
   ]
  },
  {
   "cell_type": "code",
   "execution_count": null,
   "id": "932b0c66",
   "metadata": {},
   "outputs": [],
   "source": [
    "import re\n",
    "\n",
    "text = \"\"\"Title of This Text\n",
    "\n",
    "23 we want to grab some 99 numbers\n",
    "12 but not others, 17 and then some\n",
    "5  so we just get 1 the ones\n",
    "on the left side\n",
    "\n",
    "93 and me and 23 too\n",
    "\n",
    "\"\"\"\n",
    "\n",
    "matches = re.findall(r'', text)\n",
    "\n",
    "print(matches)"
   ]
  },
  {
   "cell_type": "markdown",
   "id": "064f4de9",
   "metadata": {},
   "source": [
    "<U>Expected Output</U>:"
   ]
  },
  {
   "cell_type": "markdown",
   "id": "209e34a8",
   "metadata": {},
   "source": [
    "<pre style=\"margin: 0; padding=0\"><DIV style=\"font-family: Courier; border: 1px solid #dbdbdb; padding: 7px\">['23', '12', '5', '93']</DIV></pre>"
   ]
  },
  {
   "cell_type": "markdown",
   "id": "4ec51521",
   "metadata": {},
   "source": [
    " "
   ]
  }
 ],
 "metadata": {},
 "nbformat": 4,
 "nbformat_minor": 5
}
