{
 "cells": [
  {
   "cell_type": "markdown",
   "id": "de9d6b36",
   "metadata": {},
   "source": [
    "# In-Class Exercises, Session 8"
   ]
  },
  {
   "cell_type": "markdown",
   "id": "641b243f",
   "metadata": {},
   "source": [
    "<U>Notes if you are using Jupyter Notebook</U>:  to call <B>exit()</B> from a notebook, please use <B>sys.exit()</B> (requires <B>import sys</B>).\n",
    "\n",
    "If a strange error occurs, it may be because Jupyter retains variables from all executed cells.  To reset the notebook, click 'Restart Kernel' (the circular arrow) -- this will not undo any changes made.\n",
    "\n",
    "<B>Also note</B> that files are located in the parent directory.  This means that you must prepend <B>../</B> to each filename to find it."
   ]
  },
  {
   "cell_type": "markdown",
   "id": "7764d3a3",
   "metadata": {},
   "source": [
    " "
   ]
  },
  {
   "cell_type": "markdown",
   "id": "0349a67d",
   "metadata": {},
   "source": [
    "IMPORTING PANDAS AND NUMPY"
   ]
  },
  {
   "cell_type": "markdown",
   "id": "d4517ba4",
   "metadata": {},
   "source": [
    "<B>8.1:  Import pandas and numpy.  Check the .\\_\\_version\\_\\_ attribute of the pandas module.  </B>"
   ]
  },
  {
   "cell_type": "markdown",
   "id": "d66eb964",
   "metadata": {},
   "source": [
    "NOTE:  It's recommended to use Jupyter Notebooks for these exercises, mostly because it displays DataFrames clearly.  In the next Session we'll be using a charting library, and Notebook will be required.\n"
   ]
  },
  {
   "cell_type": "code",
   "execution_count": null,
   "id": "57b5ff0d",
   "metadata": {},
   "outputs": [],
   "source": []
  },
  {
   "cell_type": "markdown",
   "id": "e99652ed",
   "metadata": {},
   "source": [
    " "
   ]
  },
  {
   "cell_type": "markdown",
   "id": "be698f67",
   "metadata": {},
   "source": [
    "INITIALIZING A DATAFRAME"
   ]
  },
  {
   "cell_type": "markdown",
   "id": "88c99f99",
   "metadata": {},
   "source": [
    "<B>8.2:  Create an empty DataFrame by calling <B>DataFrame()</B>.  Check the type of the resulting object.  </B>"
   ]
  },
  {
   "cell_type": "code",
   "execution_count": null,
   "id": "694467f9",
   "metadata": {},
   "outputs": [],
   "source": [
    "import pandas as pd\n",
    "\n"
   ]
  },
  {
   "cell_type": "markdown",
   "id": "c6a22ba9",
   "metadata": {},
   "source": [
    " "
   ]
  },
  {
   "cell_type": "markdown",
   "id": "8e14e5b1",
   "metadata": {},
   "source": [
    "<B>8.3:  Use this dict of lists to build a DataFrame.  Add a keyword argument <B>index=[]</B> to the call to DataFrame() to populate the list with row labels <B>'x', 'y'</B> and <B>'z'</B>.  Print the DataFrame.  </B>"
   ]
  },
  {
   "cell_type": "code",
   "execution_count": null,
   "id": "3e78013f",
   "metadata": {},
   "outputs": [],
   "source": [
    "import pandas as pd\n",
    "\n",
    "dol = {  'a': [1, 2, 3],\n",
    "         'b': [2.9, 3.5, 4.9],\n",
    "         'c': ['yourstr', 'mystr', 'theirstr']  }"
   ]
  },
  {
   "cell_type": "markdown",
   "id": "b50b5c21",
   "metadata": {},
   "source": [
    " "
   ]
  },
  {
   "cell_type": "markdown",
   "id": "37c5eddf",
   "metadata": {},
   "source": [
    "<B>8.4:  Use dir() to explore the attributes of the pandas module and a DataFrame; use help() to see the help text on pd.read\\_csv()</B>"
   ]
  },
  {
   "cell_type": "code",
   "execution_count": null,
   "id": "569a9112",
   "metadata": {},
   "outputs": [],
   "source": [
    "import pandas as pd\n",
    "\n",
    "dol = {  'a': [1, 2, 3],\n",
    "         'b': [2.9, 3.5, 4.9],\n",
    "         'c': ['yourstr', 'mystr', 'theirstr']  }\n",
    "\n",
    "df = pd.DataFrame(dol, index=['x', 'y', 'z'])"
   ]
  },
  {
   "cell_type": "markdown",
   "id": "07e9545a",
   "metadata": {},
   "source": [
    " "
   ]
  },
  {
   "cell_type": "markdown",
   "id": "0bab6bdb",
   "metadata": {},
   "source": [
    "QUICK APPRAISAL OF DATAFRAME"
   ]
  },
  {
   "cell_type": "markdown",
   "id": "dac0cd58",
   "metadata": {},
   "source": [
    "<B>8.5:  Use <B>len()</B> with the DataFrame and <B>len()</B> with <B>.columns</B> to see how many rows and columns are in the DataFrame.  </B>"
   ]
  },
  {
   "cell_type": "code",
   "execution_count": null,
   "id": "82ca14a4",
   "metadata": {},
   "outputs": [],
   "source": [
    "import pandas as pd\n",
    "\n",
    "dol = {  'a': [1, 2, 3, 4],\n",
    "         'b': [2.9, 3.5, 4.9, 5.3],\n",
    "         'c': ['yourstr', 'mystr', 'theirstr', 'ourstr']  }\n",
    "\n",
    "df = pd.DataFrame(dol, index=['w', x', 'y', 'z'])"
   ]
  },
  {
   "cell_type": "markdown",
   "id": "44e8bdfc",
   "metadata": {},
   "source": [
    " "
   ]
  },
  {
   "cell_type": "markdown",
   "id": "bc20e0e9",
   "metadata": {},
   "source": [
    "<B>8.6:  Use <B>.columns</B> and <B>.index</B> attributes to see the names of column and row labels in the DataFrame.</B>"
   ]
  },
  {
   "cell_type": "code",
   "execution_count": null,
   "id": "ef16eabf",
   "metadata": {},
   "outputs": [],
   "source": [
    "import pandas as pd\n",
    "\n",
    "dol = {  'a': [1, 2, 3],\n",
    "         'b': [2.9, 3.5, 4.9],\n",
    "         'c': ['yourstr', 'mystr', 'theirstr']  }\n",
    "\n",
    "df = pd.DataFrame(dol)"
   ]
  },
  {
   "cell_type": "markdown",
   "id": "ba6a3612",
   "metadata": {},
   "source": [
    " "
   ]
  },
  {
   "cell_type": "markdown",
   "id": "d10c7c2a",
   "metadata": {},
   "source": [
    "<B>8.7:  Use the <B>.head()</B> and <B>.tail()</B> methods to examine the DataFrame rows at the top and bottom of this DataFrame.  </B>"
   ]
  },
  {
   "cell_type": "code",
   "execution_count": null,
   "id": "7f2e3bf4",
   "metadata": {},
   "outputs": [],
   "source": [
    "import pandas as pd\n",
    "\n",
    "df = pd.read_csv('../FF_abbreviated.txt', sep='\\s+')\n",
    "\n"
   ]
  },
  {
   "cell_type": "markdown",
   "id": "2c6cdadb",
   "metadata": {},
   "source": [
    " "
   ]
  },
  {
   "cell_type": "markdown",
   "id": "79219e54",
   "metadata": {},
   "source": [
    "<B>8.8:  Use simple numeric slicing to see the 50th through 53rd rows from this large DataFrame.  </B>"
   ]
  },
  {
   "cell_type": "code",
   "execution_count": null,
   "id": "76092d5f",
   "metadata": {},
   "outputs": [],
   "source": [
    "import pandas as pd\n",
    "\n",
    "df = pd.read_csv('../F-F_Research_Data_Factors_daily.txt', sep='\\s+',\n",
    "                 header=3, skipfooter=2, engine='python')\n",
    "\n"
   ]
  },
  {
   "cell_type": "markdown",
   "id": "b4ada723",
   "metadata": {},
   "source": [
    " "
   ]
  },
  {
   "cell_type": "markdown",
   "id": "fe58020e",
   "metadata": {},
   "source": [
    "<B>8.9:  Use the <B>.dtypes</B> attribute to see what types pandas has assigned to each column.  </B>"
   ]
  },
  {
   "cell_type": "code",
   "execution_count": null,
   "id": "77da1b73",
   "metadata": {},
   "outputs": [],
   "source": [
    "import pandas as pd\n",
    "\n",
    "dol = {  'a': [1, 2, 3],\n",
    "         'b': [2.9, 3.5, 4.9],\n",
    "         'c': ['yourstr', 'mystr', 'theirstr']  }\n",
    "\n",
    "df = pd.DataFrame(dol, index=['x', 'y', 'z'])"
   ]
  },
  {
   "cell_type": "markdown",
   "id": "601bf3c2",
   "metadata": {},
   "source": [
    " "
   ]
  },
  {
   "cell_type": "markdown",
   "id": "ab4463e1",
   "metadata": {},
   "source": [
    "<B>8.10:  Use the <B>.describe()</B> and <B>.info()</B>methods to see statistics on your DataFrame's data.</B>"
   ]
  },
  {
   "cell_type": "code",
   "execution_count": null,
   "id": "147a3943",
   "metadata": {},
   "outputs": [],
   "source": [
    "import pandas as pd\n",
    "\n",
    "dol = {  'a': [1, 2, 3],\n",
    "         'b': [2.9, 3.5, 4.9],\n",
    "         'c': ['yourstr', 'mystr', 'theirstr']  }\n",
    "\n",
    "df = pd.DataFrame(dol, index=['x', 'y', 'z'])"
   ]
  },
  {
   "cell_type": "markdown",
   "id": "fcd992a8",
   "metadata": {},
   "source": [
    " "
   ]
  },
  {
   "cell_type": "markdown",
   "id": "1c195ecb",
   "metadata": {},
   "source": [
    "DATAFRAME BASIC ELEMENTS:  Series, Index, columns"
   ]
  },
  {
   "cell_type": "markdown",
   "id": "8baafaa0",
   "metadata": {},
   "source": [
    " "
   ]
  },
  {
   "cell_type": "markdown",
   "id": "49924da6",
   "metadata": {},
   "source": [
    "<B>8.11:  Explore the .index and .columns attributes of a DataFrame.  Print the resulting objects.  </B>"
   ]
  },
  {
   "cell_type": "code",
   "execution_count": null,
   "id": "4e0259eb",
   "metadata": {},
   "outputs": [],
   "source": [
    "import pandas as pd\n",
    "\n",
    "dol = {  'a': [1, 2, 3],\n",
    "         'b': [2.9, 3.5, 4.9],\n",
    "         'c': ['yourstr', 'mystr', 'theirstr']  }\n",
    "\n",
    "df = pd.DataFrame(dol, index=['x', 'y', 'z'])\n"
   ]
  },
  {
   "cell_type": "markdown",
   "id": "27b41c10",
   "metadata": {},
   "source": [
    " "
   ]
  },
  {
   "cell_type": "markdown",
   "id": "9e3651f0",
   "metadata": {},
   "source": [
    "<B>8.12:  View the 'a' column using subscript syntax (df['a']), and the same column using attribute syntax (df.a).  Print the type of this object.  </B>"
   ]
  },
  {
   "cell_type": "code",
   "execution_count": null,
   "id": "534e5186",
   "metadata": {},
   "outputs": [],
   "source": [
    "import pandas as pd\n",
    "\n",
    "dol = {  'a': [1, 2, 3],\n",
    "         'b': [2.9, 3.5, 4.9],\n",
    "         'c': ['yourstr', 'mystr', 'theirstr']  }\n",
    "\n",
    "df = pd.DataFrame(dol, index=['x', 'y', 'z'])\n"
   ]
  },
  {
   "cell_type": "markdown",
   "id": "ad365eb4",
   "metadata": {},
   "source": [
    " "
   ]
  },
  {
   "cell_type": "markdown",
   "id": "d1e46c89",
   "metadata": {},
   "source": [
    "<B>8.13:  View the 'y' row using .loc[] and do the same with .iloc[] indexing.  Print the type of this object.  </B>"
   ]
  },
  {
   "cell_type": "code",
   "execution_count": null,
   "id": "98ed0d82",
   "metadata": {},
   "outputs": [],
   "source": [
    "import pandas as pd\n",
    "\n",
    "dol = {  'a': [1, 2, 3],\n",
    "         'b': [2.9, 3.5, 4.9],\n",
    "         'c': ['yourstr', 'mystr', 'theirstr']  }\n",
    "\n",
    "df = pd.DataFrame(dol, index=['x', 'y', 'z'])\n"
   ]
  },
  {
   "cell_type": "markdown",
   "id": "e2eaaef6",
   "metadata": {},
   "source": [
    " "
   ]
  },
  {
   "cell_type": "markdown",
   "id": "6ee7992b",
   "metadata": {},
   "source": [
    "DATAFRAME READ FROM DATA SOURCE"
   ]
  },
  {
   "cell_type": "markdown",
   "id": "41dae15e",
   "metadata": {},
   "source": [
    "<B>8.14:  Read and then view a DataFrame from <B>student\\_db\\_names.csv</B> </B>"
   ]
  },
  {
   "cell_type": "markdown",
   "id": "9d69aca4",
   "metadata": {},
   "source": [
    "Use <B>../</B> in front of the name to specify the parent directory.\n"
   ]
  },
  {
   "cell_type": "code",
   "execution_count": null,
   "id": "c73116c6",
   "metadata": {},
   "outputs": [],
   "source": [
    "import pandas as pd\n",
    "\n"
   ]
  },
  {
   "cell_type": "markdown",
   "id": "ec8dde1a",
   "metadata": {},
   "source": [
    " "
   ]
  },
  {
   "cell_type": "markdown",
   "id": "b02a3867",
   "metadata": {},
   "source": [
    "<B>8.15:  Reading the same <B>student\\_db\\_names.csv</B> file, use the <B>index\\_col=</B> parameter argument to set the id column for the student DataFrame as the index.</B>"
   ]
  },
  {
   "cell_type": "code",
   "execution_count": null,
   "id": "09147f73",
   "metadata": {},
   "outputs": [],
   "source": [
    "import pandas as pd\n",
    "\n",
    "df = pd.read_csv('../student_db_names.csv')\n"
   ]
  },
  {
   "cell_type": "markdown",
   "id": "608217f2",
   "metadata": {},
   "source": [
    " "
   ]
  },
  {
   "cell_type": "markdown",
   "id": "a5671bca",
   "metadata": {},
   "source": [
    "<B>8.16:  Use <B>pd.read\\_csv()</B> to read a DataFrame from <B>FF\\_abbreviated.txt</B>.  Note that the separator is whitespace -- separator (<B>sep=</b> argument) must be '\\s+' (a regex for \"one or more spaces\").  After creating the DataFrame, use the <B>.columns</B> attribute to set column labels:  <B>date</B>, <B>Mkt-RF</B>, <B>SMB</B>, <B>HML</B>, <B>RF</B>.  </B>"
   ]
  },
  {
   "cell_type": "code",
   "execution_count": null,
   "id": "f44b962e",
   "metadata": {},
   "outputs": [],
   "source": [
    "import pandas as pd\n",
    "\n",
    "df = pd.read_csv('../FF_abbreviated.txt')\n"
   ]
  },
  {
   "cell_type": "markdown",
   "id": "8e808b1a",
   "metadata": {},
   "source": [
    " "
   ]
  },
  {
   "cell_type": "markdown",
   "id": "d7cb38f4",
   "metadata": {},
   "source": [
    "<B>8.17:  Now use <B>read\\_csv()</b> to read <B>F-F\\_Research\\_Data\\_Factors\\_daily.txt</B>, using the <B>skiprows=</B> and <B>skipfooter=</B> arguments to omit the 4 header lines and 2 footer lines.  (Note that using these latter arguments require you also add <B>engine='python'</B> to suppress a warning.)</B>"
   ]
  },
  {
   "cell_type": "code",
   "execution_count": null,
   "id": "b0db0ab4",
   "metadata": {},
   "outputs": [],
   "source": [
    "import pandas as pd\n",
    "\n",
    "df = pd.read_csv('../FF_Research_Data_Factors_daily.txt', sep='\\s+')\n"
   ]
  },
  {
   "cell_type": "markdown",
   "id": "72d32e6b",
   "metadata": {},
   "source": [
    "Note that skipping 4 lines asks pandas to start reading on the 5th line, where the table headers are -- these are automatically set as the headers for the table.  The date is set as the index."
   ]
  },
  {
   "cell_type": "markdown",
   "id": "d57372ae",
   "metadata": {},
   "source": [
    " "
   ]
  },
  {
   "cell_type": "markdown",
   "id": "6f92c5f0",
   "metadata": {},
   "source": [
    "<B>8.18:  When <B>read\\_csv()</b> reads <B>F-F\\_Research\\_Data\\_Factors\\_daily.txt</B>, it notes that the 1st column of 10-digit dates are all digits, so it automatically makes it the index and converts the column to integer.  After reading the CSV, check the dtype of the index with <B>df.index.dtype</B>.  Then use <B>df.index.astype('str')</B> to ask pandas to read the index as a string.</B>"
   ]
  },
  {
   "cell_type": "code",
   "execution_count": null,
   "id": "5299f4c9",
   "metadata": {},
   "outputs": [],
   "source": [
    "import pandas as pd\n",
    "\n",
    "df = pd.read_csv('../F-F_Research_Data_Factors_daily.txt', sep='\\s+',\n",
    "                 header=3, skipfooter=2, engine='python')\n"
   ]
  },
  {
   "cell_type": "markdown",
   "id": "fa0b4566",
   "metadata": {},
   "source": [
    " "
   ]
  },
  {
   "cell_type": "markdown",
   "id": "d26ae322",
   "metadata": {},
   "source": [
    "<B>8.19:  <U>Read a DataFrame from an excel file</U>.  </B>"
   ]
  },
  {
   "cell_type": "markdown",
   "id": "96d011a3",
   "metadata": {},
   "source": [
    "Use <B>pd.read\\_excel()</B> to read <B>bond\\_feed\\_tiny.xls</B>.  Use <B>../</B> in front of the name to specify the parent directory.\n"
   ]
  },
  {
   "cell_type": "code",
   "execution_count": null,
   "id": "acc82cbf",
   "metadata": {},
   "outputs": [],
   "source": [
    "import pandas as pd\n",
    "\n"
   ]
  },
  {
   "cell_type": "markdown",
   "id": "674d4da2",
   "metadata": {},
   "source": [
    " "
   ]
  },
  {
   "cell_type": "markdown",
   "id": "4b667027",
   "metadata": {},
   "source": [
    "<B>8.20:  Read a DataFrame from a json file.  The weather data has been saved as a list of dicts and a dict of dicts.  Read each file using <B>.read\\_json()</B> and the correct <B>orient</B> parameter.  </B>"
   ]
  },
  {
   "cell_type": "markdown",
   "id": "a93465a1",
   "metadata": {},
   "source": [
    "For a list of dicts, correct <B>orient=</B> parameter is 'records'.\n",
    "\n",
    "For a dict of dicts, correct <B>orient=</B> parameter is 'index'.\n",
    "\n",
    "List of dicts (weather\\_newyork\\_lod.json):"
   ]
  },
  {
   "cell_type": "code",
   "execution_count": null,
   "id": "ca842f70",
   "metadata": {},
   "outputs": [],
   "source": [
    "import pandas as pd\n",
    "\n",
    "fh = open('../weather_newyork_lod.json')\n"
   ]
  },
  {
   "cell_type": "markdown",
   "id": "0694300e",
   "metadata": {},
   "source": [
    "Dict of dicts (weather\\_newyork\\_dod.json):"
   ]
  },
  {
   "cell_type": "code",
   "execution_count": null,
   "id": "abff8c56",
   "metadata": {},
   "outputs": [],
   "source": [
    "import pandas as pd\n",
    "\n",
    "fh = open('../weather_newyork_dod.json')\n"
   ]
  },
  {
   "cell_type": "markdown",
   "id": "b528d9f4",
   "metadata": {},
   "source": [
    " "
   ]
  },
  {
   "cell_type": "markdown",
   "id": "4d23072f",
   "metadata": {},
   "source": [
    "<B>8.21:  Read a DataFrame from <B>sqlite\\_sample.db</B> using a database connection and the below query.  </B>"
   ]
  },
  {
   "cell_type": "code",
   "execution_count": null,
   "id": "41c3de55",
   "metadata": {},
   "outputs": [],
   "source": [
    "import pandas as pd\n",
    "import sqlite3\n",
    "\n",
    "conn = sqlite3.connect('../sqlite_sample.db')\n",
    "\n",
    "query = 'SELECT * FROM planets'"
   ]
  },
  {
   "cell_type": "markdown",
   "id": "6c7e7677",
   "metadata": {},
   "source": [
    " "
   ]
  },
  {
   "cell_type": "markdown",
   "id": "79ebd7c7",
   "metadata": {},
   "source": [
    "<B>8.22:  Open the <B>weather\\_newyork.html</B> page in a browser, and use your mouse pointer to select and copy just the first 5 rows of the data, excluding the headers.  Use <B>pd.read\\_clipboard()</B> to read the copied data into a DataFrame.  </B>"
   ]
  },
  {
   "cell_type": "code",
   "execution_count": null,
   "id": "4d88659e",
   "metadata": {},
   "outputs": [],
   "source": [
    "import pandas as pd\n"
   ]
  },
  {
   "cell_type": "markdown",
   "id": "57964f59",
   "metadata": {},
   "source": [
    " "
   ]
  },
  {
   "cell_type": "markdown",
   "id": "1e2b8150",
   "metadata": {},
   "source": [
    "<B>8.23:  Reading the below data, use <B>df.to\\_clipboard()</B> to write the DataFrame data to clipboard.  Open a new Excel file and paste the data directly into the spreadsheet.  </B>"
   ]
  },
  {
   "cell_type": "code",
   "execution_count": null,
   "id": "b9415266",
   "metadata": {},
   "outputs": [],
   "source": [
    "import pandas as pd\n",
    "\n",
    "fh = open('../weather_newyork_dod.json')\n",
    "\n",
    "df = pd.read_json(fh, orient='index')\n",
    "\n",
    "df = df.set_index('date')"
   ]
  },
  {
   "cell_type": "markdown",
   "id": "0c578e23",
   "metadata": {},
   "source": [
    " "
   ]
  },
  {
   "cell_type": "markdown",
   "id": "219dc199",
   "metadata": {},
   "source": [
    "MANIPULATING THE INDEX"
   ]
  },
  {
   "cell_type": "markdown",
   "id": "87fcfea9",
   "metadata": {},
   "source": [
    "<B>8.24:  Print the .index and .columns attributes on this DataFrame</B>"
   ]
  },
  {
   "cell_type": "code",
   "execution_count": null,
   "id": "93059894",
   "metadata": {},
   "outputs": [],
   "source": [
    "import pandas as pd\n",
    "\n",
    "df = pd.DataFrame({ 'a': [1, 2, 3],\n",
    "                    'b': [2.9, 3.5, 4.9],\n",
    "                    'c': ['yourstr', 'mystr', 'theirstr']  },\n",
    "                    index=['r1', 'r2', 'r3'])\n"
   ]
  },
  {
   "cell_type": "markdown",
   "id": "ddb17512",
   "metadata": {},
   "source": [
    " "
   ]
  },
  {
   "cell_type": "markdown",
   "id": "86496f80",
   "metadata": {},
   "source": [
    "<B>8.25:  Using <B>.rename()</B>, rename column label 'a' to 'A' and row label 'r1' to 'R1'.  (<B>.rename()</B> returns the new, modified DataFrame)</B>"
   ]
  },
  {
   "cell_type": "code",
   "execution_count": null,
   "id": "7b973c7f",
   "metadata": {},
   "outputs": [],
   "source": [
    "import pandas as pd\n",
    "\n",
    "dol = {  'a': [1, 2, 3],\n",
    "         'b': [2.9, 3.5, 4.9],\n",
    "         'c': ['yourstr', 'mystr', 'theirstr']  }\n",
    "\n",
    "df = pd.DataFrame(dol, index=['r1', 'r2', 'r3'])\n"
   ]
  },
  {
   "cell_type": "markdown",
   "id": "67e314e5",
   "metadata": {},
   "source": [
    " "
   ]
  },
  {
   "cell_type": "markdown",
   "id": "41781f1c",
   "metadata": {},
   "source": [
    "<B>8.26:  Reorder the index on the DataFrame to 'r2', 'r1', 'r3' using .reindex().  (This method also returns the new, modified DataFrame.)</B>"
   ]
  },
  {
   "cell_type": "code",
   "execution_count": null,
   "id": "702dcd5a",
   "metadata": {},
   "outputs": [],
   "source": [
    "import pandas as pd\n",
    "\n",
    "df = pd.DataFrame({ 'a': [1, 2, 3],\n",
    "                    'b': [2.9, 3.5, 4.9],\n",
    "                    'c': ['yourstr', 'mystr', 'theirstr']  },\n",
    "                    index=['r1', 'r2', 'r3'])\n"
   ]
  },
  {
   "cell_type": "markdown",
   "id": "59d4f4f2",
   "metadata": {},
   "source": [
    " "
   ]
  },
  {
   "cell_type": "markdown",
   "id": "1a9c4c90",
   "metadata": {},
   "source": [
    "<B>8.27:  Reorder the columns on the DataFrame to 'b', 'a', 'c' using .reindex().  (Hint:  use <B>axis=1</B> to reorder columns.)</B>"
   ]
  },
  {
   "cell_type": "code",
   "execution_count": null,
   "id": "377f8d62",
   "metadata": {},
   "outputs": [],
   "source": [
    "import pandas as pd\n",
    "\n",
    "df = pd.DataFrame({ 'a': [1, 2, 3],\n",
    "                    'b': [2.9, 3.5, 4.9],\n",
    "                    'c': ['yourstr', 'mystr', 'theirstr']  },\n",
    "                    index=['r1', 'r2', 'r3'])\n"
   ]
  },
  {
   "cell_type": "markdown",
   "id": "d862e7ef",
   "metadata": {},
   "source": [
    " "
   ]
  },
  {
   "cell_type": "markdown",
   "id": "dd843242",
   "metadata": {},
   "source": [
    "<B>8.28:  Reorder the columns on the DataFrame to 'a', 'b', 'x' using .reindex().  Note that the 'x' column springs into existence with empty values.  </B>"
   ]
  },
  {
   "cell_type": "code",
   "execution_count": null,
   "id": "bfe2c448",
   "metadata": {},
   "outputs": [],
   "source": [
    "import pandas as pd\n",
    "\n",
    "df = pd.DataFrame({ 'a': [1, 2, 3],\n",
    "                    'b': [2.9, 3.5, 4.9],\n",
    "                    'c': ['yourstr', 'mystr', 'theirstr']  },\n",
    "                    index=['r1', 'r2', 'r3'])\n"
   ]
  },
  {
   "cell_type": "markdown",
   "id": "9c63f18c",
   "metadata": {},
   "source": [
    " "
   ]
  },
  {
   "cell_type": "markdown",
   "id": "d364bb2c",
   "metadata": {},
   "source": [
    "<B>8.29:  Use <B>.set\\_index()</B> to set the <B>a</B> column for the student DataFrame as the index for the DataFrame.   (This method returns the new, modified DataFrame.)</B>"
   ]
  },
  {
   "cell_type": "code",
   "execution_count": null,
   "id": "65ca776f",
   "metadata": {},
   "outputs": [],
   "source": [
    "import pandas as pd\n",
    "\n",
    "df = pd.DataFrame({ 'a': [1, 2, 3],\n",
    "                    'b': [2.9, 3.5, 4.9],\n",
    "                    'c': ['yourstr', 'mystr', 'theirstr']  },\n",
    "                    index=['r1', 'r2', 'r3'])\n"
   ]
  },
  {
   "cell_type": "markdown",
   "id": "651757eb",
   "metadata": {},
   "source": [
    " "
   ]
  },
  {
   "cell_type": "markdown",
   "id": "2477d424",
   "metadata": {},
   "source": [
    "<B>8.30:  First, view the below DataFrame.  Note the <B>index\\_col='id'</b> parameter set the index to the <B>'id'</B> column.  Next, use <B>.reset\\_index()</B> to reset the index to the default (integers), while moving the index to a new column.  Lastly, add the <B>drop=True</B> parameter argument to drop the index entirely, and note that the old index has been dropped.  </B>"
   ]
  },
  {
   "cell_type": "code",
   "execution_count": null,
   "id": "3dc0b8e6",
   "metadata": {},
   "outputs": [],
   "source": [
    "import pandas as pd\n",
    "\n",
    "df = pd.read_csv('../student_db_names.csv', index_col='id')\n"
   ]
  },
  {
   "cell_type": "markdown",
   "id": "688fad87",
   "metadata": {},
   "source": [
    " "
   ]
  },
  {
   "cell_type": "markdown",
   "id": "868f80bf",
   "metadata": {},
   "source": [
    "DATAFRAME SUBSCRIPTING and SLICING"
   ]
  },
  {
   "cell_type": "markdown",
   "id": "ff342619",
   "metadata": {},
   "source": [
    " "
   ]
  },
  {
   "cell_type": "markdown",
   "id": "ea14cff6",
   "metadata": {},
   "source": [
    "<B>8.31:  Subscript the <B>'HML'</B> column of the DataFrame using subscript syntax (you may also try attribute syntax, i.e. <B>df.HML</B>.)  If you need to see the other column headings, use <B>df.columns</B> or <B>df.head()</B></B>"
   ]
  },
  {
   "cell_type": "code",
   "execution_count": null,
   "id": "8b2c309d",
   "metadata": {},
   "outputs": [],
   "source": [
    "import pandas as pd\n",
    "\n",
    "df = pd.read_csv('../F-F_Research_Data_Factors_daily.txt', sep='\\s+',\n",
    "                  skiprows=4, skipfooter=2, engine='python')\n",
    "\n"
   ]
  },
  {
   "cell_type": "markdown",
   "id": "3ac69396",
   "metadata": {},
   "source": [
    " "
   ]
  },
  {
   "cell_type": "markdown",
   "id": "f40d53f6",
   "metadata": {},
   "source": [
    "<B>8.32:  Subscript the <B>19260701</B> row of the DataFrame using <B>.loc[]</B>. If you need to see the other row labels, use <B>df.index</B> or <B>df.head()</B>  (Note that the index values have been read as integers, not strings, so your index must be an integer.)</B>"
   ]
  },
  {
   "cell_type": "code",
   "execution_count": null,
   "id": "9d75855c",
   "metadata": {},
   "outputs": [],
   "source": [
    "import pandas as pd\n",
    "\n",
    "df = pd.read_csv('../F-F_Research_Data_Factors_daily.txt', sep='\\s+',\n",
    "                    header=3, skipfooter=2, engine='python')\n",
    "\n"
   ]
  },
  {
   "cell_type": "markdown",
   "id": "53fd2e6e",
   "metadata": {},
   "source": [
    " "
   ]
  },
  {
   "cell_type": "markdown",
   "id": "0b7f0f56",
   "metadata": {},
   "source": [
    "<B>8.33:  Slice the 'Mkt-RF' and 'SMB' columns of the FF DataFrame using subscript syntax with a list of column names.  </B>"
   ]
  },
  {
   "cell_type": "code",
   "execution_count": null,
   "id": "20033568",
   "metadata": {},
   "outputs": [],
   "source": [
    "import pandas as pd\n",
    "\n",
    "df = pd.read_csv('../F-F_Research_Data_Factors_daily.txt', sep='\\s+',\n",
    "                    header=3, skipfooter=2, engine='python')\n"
   ]
  },
  {
   "cell_type": "markdown",
   "id": "e01efe64",
   "metadata": {},
   "source": [
    "This type of slicing is done for read-only purposes (use .loc[] if you intend to write to the slice)."
   ]
  },
  {
   "cell_type": "markdown",
   "id": "11293173",
   "metadata": {},
   "source": [
    " "
   ]
  },
  {
   "cell_type": "markdown",
   "id": "b04c13ea",
   "metadata": {},
   "source": [
    "<B>8.34:  Slice the first 3 rows of the FF DataFrame using standard slice syntax with integers (i.e., <B>0:3</B>.  </B>"
   ]
  },
  {
   "cell_type": "code",
   "execution_count": null,
   "id": "60b3873a",
   "metadata": {},
   "outputs": [],
   "source": [
    "import pandas as pd\n",
    "\n",
    "df = pd.read_csv('../F-F_Research_Data_Factors_daily.txt', sep='\\s+',\n",
    "                    header=3, skipfooter=2, engine='python')\n"
   ]
  },
  {
   "cell_type": "markdown",
   "id": "5c284b6c",
   "metadata": {},
   "source": [
    "This type of slicing is done for read-only purposes (use .loc[] if you intend to write to the slice)."
   ]
  },
  {
   "cell_type": "markdown",
   "id": "205e56c6",
   "metadata": {},
   "source": [
    " "
   ]
  },
  {
   "cell_type": "markdown",
   "id": "a82519e2",
   "metadata": {},
   "source": [
    "<B>8.35:  Use .loc[] indexing with a list to select the first 3 rows (19270701, 19270702 and 19270706) of the DataFrame.  (Note that these have been read into the DataFrame as integers.)  Do this first by passing a list of the 3 index values, then by passing a slice starting with <B>19270701</B> and ending with <B>19270706</B>.  </B>"
   ]
  },
  {
   "cell_type": "code",
   "execution_count": null,
   "id": "b1a3fde4",
   "metadata": {},
   "outputs": [],
   "source": [
    "import pandas as pd\n",
    "\n",
    "df = pd.read_csv('../F-F_Research_Data_Factors_daily.txt', sep='\\s+',\n",
    "                    header=3, skipfooter=2, engine='python')\n"
   ]
  },
  {
   "cell_type": "markdown",
   "id": "3aabc119",
   "metadata": {},
   "source": [
    " "
   ]
  },
  {
   "cell_type": "markdown",
   "id": "afb73485",
   "metadata": {},
   "source": [
    "<B>8.36:  Use .loc[] indexing to select the <B>Mkt-RF</B> and <B>SMB</B> columns of the DataFrame.  Indicate \"all rows\" by using the empty slice <B>:</B> in the rows position.  Use <B>.head()</B> on the resulting DataFrame slice to see its first rows.  </B>"
   ]
  },
  {
   "cell_type": "code",
   "execution_count": null,
   "id": "a1377853",
   "metadata": {},
   "outputs": [],
   "source": [
    "import pandas as pd\n",
    "\n",
    "df = pd.read_csv('../F-F_Research_Data_Factors_daily.txt', sep='\\s+',\n",
    "                    header=3, skipfooter=2, engine='python')\n"
   ]
  },
  {
   "cell_type": "markdown",
   "id": "cb5d6747",
   "metadata": {},
   "source": [
    " "
   ]
  },
  {
   "cell_type": "markdown",
   "id": "de9ac657",
   "metadata": {},
   "source": [
    "<B>8.37:  Use <B>.loc[]</B> indexing to select a 2-dimensional slice of the first 3 rows (use a range between <B>19270701</B> and <B>19270706</B>) and <B>SMB</B> and <B>HML</B> columns of the DataFrame.  </B>"
   ]
  },
  {
   "cell_type": "code",
   "execution_count": null,
   "id": "5a89e4b4",
   "metadata": {},
   "outputs": [],
   "source": [
    "import pandas as pd\n",
    "\n",
    "df = pd.read_csv('../F-F_Research_Data_Factors_daily.txt', sep='\\s+',\n",
    "                    header=3, skipfooter=2, engine='python')\n"
   ]
  },
  {
   "cell_type": "markdown",
   "id": "6cb695a8",
   "metadata": {},
   "source": [
    " "
   ]
  },
  {
   "cell_type": "markdown",
   "id": "8e69b99d",
   "metadata": {},
   "source": [
    "<B>8.38:  Use <B>.iloc[]</B> indexing to select the 1st 5 rows and 1st 2 columns of the DataFrame.  </B>"
   ]
  },
  {
   "cell_type": "code",
   "execution_count": null,
   "id": "aefe0795",
   "metadata": {},
   "outputs": [],
   "source": [
    "import pandas as pd\n",
    "\n",
    "df = pd.read_csv('../F-F_Research_Data_Factors_daily.txt', sep='\\s+',\n",
    "                    header=3, skipfooter=2, engine='python')\n"
   ]
  },
  {
   "cell_type": "markdown",
   "id": "b6f67da3",
   "metadata": {},
   "source": [
    " "
   ]
  },
  {
   "cell_type": "markdown",
   "id": "fd5f47ee",
   "metadata": {},
   "source": [
    "CONDITIONAL SLICING"
   ]
  },
  {
   "cell_type": "markdown",
   "id": "9fcfbc51",
   "metadata": {},
   "source": [
    "<B>8.39:  Use a conditional (boolean test) in a subscript to select only those rows in the FF DataFrame that have a Mkt-RF value > 0.  Use <B>.head()</B> on the resulting DataFrame slice to see its first rows.  </B>"
   ]
  },
  {
   "cell_type": "code",
   "execution_count": null,
   "id": "7a33403d",
   "metadata": {},
   "outputs": [],
   "source": [
    "import pandas as pd\n",
    "\n",
    "df = pd.read_csv('../F-F_Research_Data_Factors_daily.txt', sep='\\s+',\n",
    "                    header=3, skipfooter=2, engine='python')\n"
   ]
  },
  {
   "cell_type": "markdown",
   "id": "3556ab43",
   "metadata": {},
   "source": [
    "This type of slicing is done for read-only purposes (use .loc[] if you intend to write to the slice)."
   ]
  },
  {
   "cell_type": "markdown",
   "id": "e59fae01",
   "metadata": {},
   "source": [
    " "
   ]
  },
  {
   "cell_type": "markdown",
   "id": "dddada2b",
   "metadata": {},
   "source": [
    "<B>8.40:  Use .loc[] indexing with a conditional (boolean test) to select only those rows with a 0.0 value in the Mkt-RF column.  Use <B>.head()</B> on the resulting DataFrame slice to see its first rows.  </B>"
   ]
  },
  {
   "cell_type": "code",
   "execution_count": null,
   "id": "9c8f833e",
   "metadata": {},
   "outputs": [],
   "source": [
    "import pandas as pd\n",
    "\n",
    "df = pd.read_csv('../F-F_Research_Data_Factors_daily.txt', sep='\\s+',\n",
    "                    header=3, skipfooter=2, engine='python')\n"
   ]
  },
  {
   "cell_type": "markdown",
   "id": "b2c7d7d7",
   "metadata": {},
   "source": [
    " "
   ]
  },
  {
   "cell_type": "markdown",
   "id": "84042faa",
   "metadata": {},
   "source": [
    "<B>8.41:  Use <B>.isin()</B> (with the Series as argument) in a filter to show only those rows where the 'c' value is 'yourstr' or 'mystr'.</B>"
   ]
  },
  {
   "cell_type": "code",
   "execution_count": null,
   "id": "0ca30c9b",
   "metadata": {},
   "outputs": [],
   "source": [
    "import pandas as pd\n",
    "\n",
    "df = pd.DataFrame({ 'a': [1, 2, 3],\n",
    "                    'b': [2.9, 3.5, 4.9],\n",
    "                    'c': ['yourstr', 'mystr', 'theirstr']  },\n",
    "                    index=['r1', 'r2', 'r3'])\n"
   ]
  },
  {
   "cell_type": "markdown",
   "id": "48eefad7",
   "metadata": {},
   "source": [
    " "
   ]
  },
  {
   "cell_type": "markdown",
   "id": "237a6990",
   "metadata": {},
   "source": [
    "<B>8.42:  Use <B>~</B> (the tilde character) to reverse the above test so that we show only rows that are NOT 'yourstr' or 'mystr'.</B>"
   ]
  },
  {
   "cell_type": "code",
   "execution_count": null,
   "id": "c77181a4",
   "metadata": {},
   "outputs": [],
   "source": [
    "import pandas as pd\n",
    "\n",
    "df = pd.DataFrame({ 'a': [1, 2, 3],\n",
    "                    'b': [2.9, 3.5, 4.9],\n",
    "                    'c': ['yourstr', 'mystr', 'theirstr']  },\n",
    "                    index=['r1', 'r2', 'r3'])\n",
    "\n",
    "df2 = df.loc[ df.c.isin(['yourstr', 'mystr']) ]\n",
    "print(df2)"
   ]
  },
  {
   "cell_type": "markdown",
   "id": "66cdccc3",
   "metadata": {},
   "source": [
    " "
   ]
  },
  {
   "cell_type": "markdown",
   "id": "323b0e0b",
   "metadata": {},
   "source": [
    "VECTORIZED OPERATIONS"
   ]
  },
  {
   "cell_type": "markdown",
   "id": "d66fd302",
   "metadata": {},
   "source": [
    "<B>8.43:  Add a new column 'd', set to 0.</B>"
   ]
  },
  {
   "cell_type": "code",
   "execution_count": null,
   "id": "2abfa343",
   "metadata": {},
   "outputs": [],
   "source": [
    "import pandas as pd\n",
    "\n",
    "df = pd.DataFrame({ 'a': [1, 2, 3],\n",
    "                    'b': [2.9, 3.5, 4.9],\n",
    "                    'c': ['yourstr', 'mystr', 'theirstr']  },\n",
    "                    index=['r1', 'r2', 'r3'])"
   ]
  },
  {
   "cell_type": "markdown",
   "id": "1afaf5a0",
   "metadata": {},
   "source": [
    " "
   ]
  },
  {
   "cell_type": "markdown",
   "id": "0ba277a5",
   "metadata": {},
   "source": [
    "<B>8.44:  Add a new column 'd', set to the value of column 'b' * 2</B>"
   ]
  },
  {
   "cell_type": "code",
   "execution_count": null,
   "id": "deee5319",
   "metadata": {},
   "outputs": [],
   "source": [
    "import pandas as pd\n",
    "\n",
    "df = pd.DataFrame({ 'a': [1, 2, 3],\n",
    "                    'b': [2.9, 3.5, 4.9],\n",
    "                    'c': ['yourstr', 'mystr', 'theirstr']  },\n",
    "                    index=['r1', 'r2', 'r3'])"
   ]
  },
  {
   "cell_type": "markdown",
   "id": "13aa3676",
   "metadata": {},
   "source": [
    " "
   ]
  },
  {
   "cell_type": "markdown",
   "id": "493ad4b9",
   "metadata": {},
   "source": [
    "<B>8.45:  Add a new column 'd', set to the sum of <B>a + b</B>.</B>"
   ]
  },
  {
   "cell_type": "code",
   "execution_count": null,
   "id": "c6d44fe4",
   "metadata": {},
   "outputs": [],
   "source": [
    "import pandas as pd\n",
    "\n",
    "df = pd.DataFrame({ 'a': [1, 2, 3],\n",
    "                    'b': [2.9, 3.5, 4.9],\n",
    "                    'c': ['yourstr', 'mystr', 'theirstr']  },\n",
    "                    index=['r1', 'r2', 'r3'])"
   ]
  },
  {
   "cell_type": "markdown",
   "id": "92a5bdaf",
   "metadata": {},
   "source": [
    " "
   ]
  },
  {
   "cell_type": "markdown",
   "id": "215ab208",
   "metadata": {},
   "source": [
    "<B>8.46:  Set 'a' to 0 for all 'CA' rows.  </B>"
   ]
  },
  {
   "cell_type": "code",
   "execution_count": null,
   "id": "962cb82c",
   "metadata": {},
   "outputs": [],
   "source": [
    "import pandas as pd\n",
    "\n",
    "df = pd.DataFrame({ 'a': [1, 2, 3, 4, 5, 6, 7],\n",
    "                    'b': [1.0, 2.9, 3.5, 4.9, 5.6, 6.8, 7.1],\n",
    "                    'c': ['CA', 'CA', 'NY', 'NY', 'NJ', 'NJ', 'NV'] },\n",
    "                    index=['r1', 'r2', 'r3', 'r4', 'r5', 'r6', 'r7'])\n"
   ]
  },
  {
   "cell_type": "markdown",
   "id": "4ce1bab8",
   "metadata": {},
   "source": [
    " "
   ]
  },
  {
   "cell_type": "markdown",
   "id": "ccc1fe10",
   "metadata": {},
   "source": [
    "<B>8.47:  Set new column 'd' to a + b for all non-'CA' rows; for 'CA' rows, 'd' should be 0.  </B>"
   ]
  },
  {
   "cell_type": "markdown",
   "id": "8ceca43e",
   "metadata": {},
   "source": [
    "To do this, first establish column 'd' with 0 for all rows, then apply the conditional."
   ]
  },
  {
   "cell_type": "code",
   "execution_count": null,
   "id": "c6816c94",
   "metadata": {},
   "outputs": [],
   "source": [
    "import pandas as pd\n",
    "\n",
    "df = pd.DataFrame({ 'a': [1, 2, 3, 4, 5, 6, 7],\n",
    "                    'b': [1.0, 2.9, 3.5, 4.9, 5.6, 6.8, 7.1],\n",
    "                    'c': ['CA', 'CA', 'NY', 'NY', 'NJ', 'NJ', 'NV'] },\n",
    "                    index=['r1', 'r2', 'r3', 'r4', 'r5', 'r6', 'r7'])\n"
   ]
  },
  {
   "cell_type": "markdown",
   "id": "1c688e0d",
   "metadata": {},
   "source": [
    " "
   ]
  },
  {
   "cell_type": "markdown",
   "id": "488b2219",
   "metadata": {},
   "source": [
    "SUMMARY METHODS ON SERIES"
   ]
  },
  {
   "cell_type": "markdown",
   "id": "0d4e0a97",
   "metadata": {},
   "source": [
    "<B>8.48:  Sum up the 'a' column.</B>"
   ]
  },
  {
   "cell_type": "code",
   "execution_count": null,
   "id": "334d30c5",
   "metadata": {},
   "outputs": [],
   "source": [
    "import pandas as pd\n",
    "\n",
    "df = pd.DataFrame({ 'a': [1, 2, 3, 4, 5, 6],\n",
    "                    'b': [2.9, 3.5, 4.9, 4.1, 2.1, 3.0],\n",
    "                    'c': ['CA', 'CA', 'OR', 'OR', 'WA', 'WA']  },\n",
    "                    index=['r1', 'r2', 'r3', 'r4', 'r5', 'r6'])"
   ]
  },
  {
   "cell_type": "markdown",
   "id": "dc33222b",
   "metadata": {},
   "source": [
    " "
   ]
  },
  {
   "cell_type": "markdown",
   "id": "85ca79b8",
   "metadata": {},
   "source": [
    "<B>8.49:  Calculate the average of the 'b' column.</B>"
   ]
  },
  {
   "cell_type": "code",
   "execution_count": null,
   "id": "5b319da4",
   "metadata": {},
   "outputs": [],
   "source": [
    "import pandas as pd\n",
    "\n",
    "df = pd.DataFrame({ 'a': [1, 2, 3, 4, 5, 6],\n",
    "                    'b': [2.9, 3.5, 4.9, 4.1, 2.1, 3.0],\n",
    "                    'c': ['CA', 'CA', 'OR', 'OR', 'WA', 'WA']  },\n",
    "                    index=['r1', 'r2', 'r3', 'r4', 'r5', 'r6'])"
   ]
  },
  {
   "cell_type": "markdown",
   "id": "c74bf2d6",
   "metadata": {},
   "source": [
    " "
   ]
  },
  {
   "cell_type": "markdown",
   "id": "63fb4adc",
   "metadata": {},
   "source": [
    "<B>8.50:  Show the standard deviation of the 'b' column, then show for the 'a' column.  </B>"
   ]
  },
  {
   "cell_type": "code",
   "execution_count": null,
   "id": "11cb2534",
   "metadata": {},
   "outputs": [],
   "source": [
    "import pandas as pd\n",
    "\n",
    "df = pd.DataFrame({ 'a': [1, 2, 3, 4, 5, 6],\n",
    "                    'b': [2.9, 3.5, 4.9, 4.1, 2.1, 3.0],\n",
    "                    'c': ['CA', 'CA', 'OR', 'OR', 'WA', 'WA']  },\n",
    "                    index=['r1', 'r2', 'r3', 'r4', 'r5', 'r6'])"
   ]
  },
  {
   "cell_type": "markdown",
   "id": "489bd215",
   "metadata": {},
   "source": [
    " "
   ]
  },
  {
   "cell_type": "markdown",
   "id": "c465dd7e",
   "metadata": {},
   "source": [
    "<B>8.51:  Show the average of the 'b' column, but only for those rows with 'WA' in the 'c' column.  </B>"
   ]
  },
  {
   "cell_type": "code",
   "execution_count": null,
   "id": "1f606f3a",
   "metadata": {},
   "outputs": [],
   "source": [
    "import pandas as pd\n",
    "\n",
    "df = pd.DataFrame({ 'a': [1, 2, 3, 4, 5, 6],\n",
    "                    'b': [2.9, 3.5, 4.9, 4.1, 2.1, 3.0],\n",
    "                    'c': ['CA', 'CA', 'OR', 'OR', 'WA', 'WA']  },\n",
    "                    index=['r1', 'r2', 'r3', 'r4', 'r5', 'r6'])"
   ]
  },
  {
   "cell_type": "markdown",
   "id": "041df7d7",
   "metadata": {},
   "source": [
    " "
   ]
  },
  {
   "cell_type": "markdown",
   "id": "749ded74",
   "metadata": {},
   "source": [
    "SORTING"
   ]
  },
  {
   "cell_type": "markdown",
   "id": "ec6a3cad",
   "metadata": {},
   "source": [
    "<B>8.52:  Use <B>.sort\\_index()</B> to sort the DataFrame by index.</B>"
   ]
  },
  {
   "cell_type": "code",
   "execution_count": null,
   "id": "b74d435c",
   "metadata": {},
   "outputs": [],
   "source": [
    "import pandas as pd\n",
    "\n",
    "df = pd.DataFrame({ 'g': [7, 5, 1],\n",
    "                    'x': [2.9, 3.5, 4.9],\n",
    "                    'b': ['yourstr', 'mystr', 'theirstr']  },\n",
    "                    index=['r9', 'r1', 'r5'])\n"
   ]
  },
  {
   "cell_type": "markdown",
   "id": "beab0b74",
   "metadata": {},
   "source": [
    " "
   ]
  },
  {
   "cell_type": "markdown",
   "id": "44266749",
   "metadata": {},
   "source": [
    "<B>8.53:  Use <B>.sort\\_values()</B> to sort the DataFrame by the 'x' value.  Use <B>ascending=False</B> to reverse the sort.  </B>"
   ]
  },
  {
   "cell_type": "code",
   "execution_count": null,
   "id": "56055e25",
   "metadata": {},
   "outputs": [],
   "source": [
    "import pandas as pd\n",
    "\n",
    "df = pd.DataFrame({ 'g': [7, 5, 1, 8],\n",
    "                    'x': [2.9, 4.9, 3.5, 0],\n",
    "                    'b': ['yourstr', 'mystr', 'theirstr', 'mystr']  },\n",
    "                    index=['r9', 'r5', 'r1', 'r3'])\n"
   ]
  },
  {
   "cell_type": "markdown",
   "id": "fde743c1",
   "metadata": {},
   "source": [
    " "
   ]
  },
  {
   "cell_type": "markdown",
   "id": "bc7f108b",
   "metadata": {},
   "source": [
    "<B>8.54:  Use <B>axis=1</B> to <B>.sort\\_index()</B> to sort the DataFrame by its columns.  </B>"
   ]
  },
  {
   "cell_type": "code",
   "execution_count": null,
   "id": "acdad5fb",
   "metadata": {},
   "outputs": [],
   "source": [
    "import pandas as pd\n",
    "\n",
    "df = pd.DataFrame({ 'g': [7, 5, 1],\n",
    "                    'x': [2.9, 3.5, 4.9],\n",
    "                    'b': ['yourstr', 'mystr', 'theirstr']  },\n",
    "                    index=['r9', 'r5', 'r1'])\n"
   ]
  },
  {
   "cell_type": "markdown",
   "id": "a31ca0a9",
   "metadata": {},
   "source": [
    " "
   ]
  },
  {
   "cell_type": "markdown",
   "id": "e69e9c52",
   "metadata": {},
   "source": [
    "CONCATENATING / APPENDING"
   ]
  },
  {
   "cell_type": "markdown",
   "id": "e8724e1b",
   "metadata": {},
   "source": [
    "<B>8.55:  First view, then concatenate the two DataFrames vertically.  </B>"
   ]
  },
  {
   "cell_type": "code",
   "execution_count": null,
   "id": "ed8f2b4f",
   "metadata": {},
   "outputs": [],
   "source": [
    "import pandas as pd\n",
    "\n",
    "df = pd.DataFrame({ 'a': [1, 2, 3],\n",
    "                    'b': [2.9, 3.5, 4.9],\n",
    "                    'c': ['yourstr', 'mystr', 'theirstr']  },\n",
    "                    index=['r1', 'r2', 'r3'])\n",
    "\n",
    "df2 = pd.DataFrame({ 'b': [4, 5, 6],\n",
    "                     'c': [7.8, 8.2, 9.1],\n",
    "                     'd': ['thingy', 'thatty', 'flunky']  },\n",
    "                     index=['r2', 'r3', 'r4'])\n",
    "\n",
    "\n"
   ]
  },
  {
   "cell_type": "markdown",
   "id": "b1131bba",
   "metadata": {},
   "source": [
    "Note that the indices are repeated - this can be changed using index manipulation (<B>.rename()</B>, <B>.reindex()</B>, <B>.set\\_index()</B>."
   ]
  },
  {
   "cell_type": "markdown",
   "id": "1bc472f0",
   "metadata": {},
   "source": [
    " "
   ]
  },
  {
   "cell_type": "markdown",
   "id": "e956a77b",
   "metadata": {},
   "source": [
    "<B>8.56:  First view, then concatenate the two DataFrames horizontally.  </B>"
   ]
  },
  {
   "cell_type": "code",
   "execution_count": null,
   "id": "f6815ede",
   "metadata": {},
   "outputs": [],
   "source": [
    "import pandas as pd\n",
    "\n",
    "df = pd.DataFrame({ 'a': [1, 2, 3],\n",
    "                    'b': [2.9, 3.5, 4.9],\n",
    "                    'c': ['yourstr', 'mystr', 'theirstr']  },\n",
    "                    index=['r1', 'r2', 'r3'])\n",
    "\n",
    "df2 = pd.DataFrame({ 'd': ['xylo', 'yellow', 'zello'],\n",
    "                     'e': [0, 0, 0],\n",
    "                     'f': [1.1, 1.1, 1.2]  },\n",
    "                     index=['r1', 'r2', 'r3'])\n"
   ]
  },
  {
   "cell_type": "markdown",
   "id": "cc2b8fc9",
   "metadata": {},
   "source": [
    " "
   ]
  },
  {
   "cell_type": "markdown",
   "id": "b3b7d308",
   "metadata": {},
   "source": [
    "<B>8.57:  Read <B>weather\\_newyork.csv</B> into a DataFrame.  Use <B>.reindex()</B> to select just the EST, Max TemperatureF and Min TemperatureF columns (with all rows).  Use <B>.rename()</B> to rename these columns as <B>'date', 'max\\_temp' and 'min\\_temp'</B>.  Now add an additional column 'diff\\_temp' showing the difference between max and min.  Sort the DataFrame by this value, highest to lowest.</B>"
   ]
  },
  {
   "cell_type": "code",
   "execution_count": null,
   "id": "894454a7",
   "metadata": {},
   "outputs": [],
   "source": [
    "import pandas as pd\n",
    "\n",
    "df = pd.read_csv('../weather_newyork.csv')\n",
    "\n",
    "dfs = df.reindex(['EST', 'Max TemperatureF', 'Min TemperatureF'], axis=1)\n",
    "\n",
    "dfs = dfs.rename(columns={ 'EST': 'date',\n",
    "                            'Max TemperatureF': 'max_temp',\n",
    "                            'Min TemperatureF': 'min_temp' })\n"
   ]
  },
  {
   "cell_type": "markdown",
   "id": "59d0116e",
   "metadata": {},
   "source": [
    " "
   ]
  },
  {
   "cell_type": "markdown",
   "id": "5b3a40fa",
   "metadata": {},
   "source": [
    "Please unzip the baby\\_names.zip file into a folder called 'baby\\_names'.  (For Windows users, please make sure to 'Extract All' so you can see a folder named 'baby\\_names' in your data folder -- otherwise, you may only be looking at a 'view' of an unzipped folder)"
   ]
  },
  {
   "cell_type": "markdown",
   "id": "8f80332f",
   "metadata": {},
   "source": [
    " "
   ]
  },
  {
   "cell_type": "markdown",
   "id": "36fc9480",
   "metadata": {},
   "source": [
    "<B>8.58:  Use <B>pd.read\\_csv()</B> to read <B>baby\\_names/yob2018.txt</B> and  <B>baby\\_names/yob2017.txt</B> into DataFrames (use <B>names=</B> to pass a list of column names <B>'name', 'gender' and 'count'</B>).  Add a year column to each DataFrame to indicate the year for that DataFrame.  Then concatenate vertically into one DataFrame.  Use <B>.head()</B> and <B>.tail()</B> to see the start and end.  </B>"
   ]
  },
  {
   "cell_type": "code",
   "execution_count": null,
   "id": "cc29e8ac",
   "metadata": {},
   "outputs": [],
   "source": []
  },
  {
   "cell_type": "markdown",
   "id": "4f1739f4",
   "metadata": {},
   "source": [
    " "
   ]
  },
  {
   "cell_type": "markdown",
   "id": "a43bc568",
   "metadata": {},
   "source": [
    "MERGE / JOIN"
   ]
  },
  {
   "cell_type": "markdown",
   "id": "3bfd4a20",
   "metadata": {},
   "source": [
    "<B>8.59:  View the two below DataFrames.  Then use <B>pd.merge()</B> to join the <B>student\\_db\\_grades.csv</B> and <B>student\\_db\\_names.csv</B> files into a single DataFrame, joining on the id (use <B>on='id'</B>).  Compare \"how='outer'\" (19 rows, including missing data at the end) to \"how='inner'\" (only 15 rows, with ids common to both tables) to effect an outer join.   </B>"
   ]
  },
  {
   "cell_type": "code",
   "execution_count": null,
   "id": "74dbd47a",
   "metadata": {},
   "outputs": [],
   "source": [
    "import pandas as pd\n",
    "\n",
    "sgrades = pd.read_csv('../student_db_grades.csv', sep=':')\n",
    "snames = pd.read_csv('../student_db_names.csv')\n"
   ]
  },
  {
   "cell_type": "markdown",
   "id": "9e2ed5c5",
   "metadata": {},
   "source": [
    " "
   ]
  },
  {
   "cell_type": "markdown",
   "id": "797af0b8",
   "metadata": {},
   "source": [
    "<B>8.60:  Reading the same files but setting the 'id' column to the indexes of each DataFrame, use <B>df.join()</B> (the same operation as <B>pd.merge()</B>) to perform the above joins.  </B>"
   ]
  },
  {
   "cell_type": "code",
   "execution_count": null,
   "id": "2f4a6941",
   "metadata": {},
   "outputs": [],
   "source": [
    "import pandas as pd\n",
    "\n",
    "sgrades = pd.read_csv('../student_db_grades.csv', sep=':', index_col='id')\n",
    "snames = pd.read_csv('../student_db_names.csv', index_col='id')\n"
   ]
  },
  {
   "cell_type": "markdown",
   "id": "cb8b0540",
   "metadata": {},
   "source": [
    " "
   ]
  },
  {
   "cell_type": "markdown",
   "id": "caa066c8",
   "metadata": {},
   "source": [
    "WORKING WITH MISSING DATA"
   ]
  },
  {
   "cell_type": "markdown",
   "id": "ea3c9e0c",
   "metadata": {},
   "source": [
    "<B>8.61:  Using the joined student tables, check to see if any null values can be found in the 'course' column.  </B>"
   ]
  },
  {
   "cell_type": "code",
   "execution_count": null,
   "id": "c8e92fd7",
   "metadata": {},
   "outputs": [],
   "source": [
    "import pandas as pd\n",
    "\n",
    "sgrades = pd.read_csv('../student_db_grades.csv', sep=':')\n",
    "snames = pd.read_csv('../student_db_names.csv')\n",
    "\n",
    "sj = pd.merge(sgrades, snames, on='id', how='outer')\n"
   ]
  },
  {
   "cell_type": "markdown",
   "id": "f74c8f7a",
   "metadata": {},
   "source": [
    " "
   ]
  },
  {
   "cell_type": "markdown",
   "id": "277a27ac",
   "metadata": {},
   "source": [
    "<B>8.62:  Open <B>df0.csv</B> and fill empty cells in just the 'a' column with 0.  </B>"
   ]
  },
  {
   "cell_type": "code",
   "execution_count": null,
   "id": "f5f7f204",
   "metadata": {},
   "outputs": [],
   "source": [
    "import pandas as pd\n",
    "\n",
    "df = pd.read_csv('../df0.csv', index_col=0)"
   ]
  },
  {
   "cell_type": "markdown",
   "id": "550dadf3",
   "metadata": {},
   "source": [
    " "
   ]
  },
  {
   "cell_type": "markdown",
   "id": "644aca6b",
   "metadata": {},
   "source": [
    "AGGREGATIONS WITH groupby()"
   ]
  },
  {
   "cell_type": "markdown",
   "id": "7dea3151",
   "metadata": {},
   "source": [
    " "
   ]
  },
  {
   "cell_type": "markdown",
   "id": "533bd688",
   "metadata": {},
   "source": [
    "<B>8.63:  Group the count of students by state.  Subscript to just show the <B>'id'</B> column.  Sort by value, descending (<B>ascending=False</B>)</B>"
   ]
  },
  {
   "cell_type": "code",
   "execution_count": null,
   "id": "b6fb6abe",
   "metadata": {},
   "outputs": [],
   "source": [
    "import pandas as pd\n",
    "\n",
    "df = pd.read_csv('../student_db_names.csv')"
   ]
  },
  {
   "cell_type": "markdown",
   "id": "89f9bc44",
   "metadata": {},
   "source": [
    " "
   ]
  },
  {
   "cell_type": "markdown",
   "id": "4b387696",
   "metadata": {},
   "source": [
    "<B>8.64:  Review the below <B>baby names</B> concatenated DataFrame, then group the baby names by gender, then sort the resulting dataframe by this value, descending.  </B>"
   ]
  },
  {
   "cell_type": "code",
   "execution_count": null,
   "id": "fa492119",
   "metadata": {},
   "outputs": [],
   "source": [
    "import pandas as pd\n",
    "\n",
    "df18 = pd.read_csv('../baby_names/yob2018.txt',\n",
    "                   names=['name', 'gender', 'count'])\n",
    "df18['year'] = '2018'\n",
    "\n",
    "df17 = pd.read_csv('../baby_names/yob2017.txt',\n",
    "                   names=['name', 'gender', 'count'])\n",
    "df17['year'] = '2017'\n",
    "\n",
    "df = pd.concat([df18, df17])"
   ]
  },
  {
   "cell_type": "markdown",
   "id": "0e8e56c2",
   "metadata": {},
   "source": [
    " "
   ]
  }
 ],
 "metadata": {},
 "nbformat": 4,
 "nbformat_minor": 5
}
