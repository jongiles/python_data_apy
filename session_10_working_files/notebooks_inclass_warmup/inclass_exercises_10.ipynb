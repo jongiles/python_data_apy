{
 "cells": [
  {
   "cell_type": "markdown",
   "id": "ac82c43a",
   "metadata": {},
   "source": [
    "# In-Class Exercises, Session 10"
   ]
  },
  {
   "cell_type": "markdown",
   "id": "bf4777a9",
   "metadata": {},
   "source": [
    "No exercises this week!"
   ]
  },
  {
   "cell_type": "markdown",
   "id": "184ac2c1",
   "metadata": {},
   "source": [
    " "
   ]
  }
 ],
 "metadata": {},
 "nbformat": 4,
 "nbformat_minor": 5
}
