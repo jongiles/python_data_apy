{
 "cells": [
  {
   "cell_type": "markdown",
   "id": "6292585f",
   "metadata": {},
   "source": [
    "# In-Class Exercises, Session 2"
   ]
  },
  {
   "cell_type": "markdown",
   "id": "4b1170a3",
   "metadata": {},
   "source": [
    "COMMAND LINE AND ZIP FILE"
   ]
  },
  {
   "cell_type": "markdown",
   "id": "8c81d024",
   "metadata": {},
   "source": [
    "<B>2.1:  Open a Anaconda Prompt (Windows) or a Terminal window (Mac).  (To reach the Anaconda prompt, do a search for <B>Anaconda</B> and click <B>Anaconad Prompt</B>.)</B>"
   ]
  },
  {
   "cell_type": "markdown",
   "id": "60b31cc8",
   "metadata": {},
   "source": [
    "<UL>\n",
    "  <LI> (Unix only) Use <B>pwd</B> to see the \"present working directory\"</LI>\n",
    "  <LI> Use <B>ls</B> (Mac) or <B>dir</B> (Windows) to see a listing of the files and directories in this directory</LI>\n",
    "  <LI> Use <B>cd</B> to move into a directory you see listed in the present working directory (for example <B>cd Downloads</B>)</LI>\n",
    "  <LI> Use <B>cd ..</B> to move into the \"parent\" directory of the one you are in (this will take you back to the parent of <B>Downlaods</B></LI>\n",
    "  <LI> Use <B>cd /Users/[yourhomedir]/Desktop</B> to move into the <B>Desktop</B> directory</LI>\n",
    "  <LI> Use <B>cd ../Downloads</B> to move from the <B>Desktop</B> directory to the <B>Downloads</B> directory</LI>\n",
    "  <LI> Use <B>cd</B> (Mac) or <B>cd %HOMEPATH%</B> (Windows) to move back into the home directory</LI>\n",
    "</UL>"
   ]
  },
  {
   "cell_type": "markdown",
   "id": "4a3ed532",
   "metadata": {},
   "source": [
    " "
   ]
  },
  {
   "cell_type": "markdown",
   "id": "db1564e2",
   "metadata": {},
   "source": [
    "SQLITE COMMANDS"
   ]
  },
  {
   "cell_type": "markdown",
   "id": "1e0c1d2c",
   "metadata": {},
   "source": [
    "<B>2.2:  In the Anaconda Prompt (Windows) or a Terminal window (Mac), travel to the project directory (look at the prompt (Windows) or use <B>pwd</B> (Mac) to see where you are (the present working directory); <B>ls</B> (Mac) or <B>dir</B> (Windows) to see what is in the present directory, and <B>cd [dirname]</B> to travel to a directory, or <B>cd ..</b> to travel into the parent directory.  Launch sqlite with the command <B>sqlite3</B>.  </B>"
   ]
  },
  {
   "cell_type": "markdown",
   "id": "585e99bb",
   "metadata": {},
   "source": [
    "<BR>\n",
    "If you unzipped your project directory in the <B>Downloads</B> folder, the commands are:"
   ]
  },
  {
   "cell_type": "markdown",
   "id": "f107cb65",
   "metadata": {},
   "source": [
    "Mac:"
   ]
  },
  {
   "cell_type": "markdown",
   "id": "2567264e",
   "metadata": {},
   "source": [
    "<pre style=\"margin: 0; padding=0\"><DIV style=\"font-family: Courier; border: 1px solid #dbdbdb; padding: 7px\">cd\n",
    "cd Downloads\n",
    "cd python_data\n",
    "cd session_02_files</DIV></pre>"
   ]
  },
  {
   "cell_type": "markdown",
   "id": "ccc9ed9a",
   "metadata": {},
   "source": [
    "Windows:"
   ]
  },
  {
   "cell_type": "markdown",
   "id": "6a1f55ca",
   "metadata": {},
   "source": [
    "<pre style=\"margin: 0; padding=0\"><DIV style=\"font-family: Courier; border: 1px solid #dbdbdb; padding: 7px\">cd %HOMEPATH%\n",
    "cd Downloads\n",
    "cd python_data\n",
    "cd session_02_files</DIV></pre>"
   ]
  },
  {
   "cell_type": "markdown",
   "id": "896126f9",
   "metadata": {},
   "source": [
    "If any command returns an error, check the spelling of your command.  If the 3rd command returns an error, check that the <B>session\\_02\\_files</B> folder was unzipped to your Downloads directory (and that you've spelled it correctly).\n"
   ]
  },
  {
   "cell_type": "markdown",
   "id": "1a8471d1",
   "metadata": {},
   "source": [
    "start sqlite:"
   ]
  },
  {
   "cell_type": "markdown",
   "id": "6f9d32ec",
   "metadata": {},
   "source": [
    "<pre style=\"margin: 0; padding=0\"><DIV style=\"font-family: Courier; border: 1px solid #dbdbdb; padding: 7px\">sqlite3</DIV></pre>"
   ]
  },
  {
   "cell_type": "markdown",
   "id": "a491f18f",
   "metadata": {},
   "source": [
    "You should see the sqlite prompt:"
   ]
  },
  {
   "cell_type": "markdown",
   "id": "4545e8f0",
   "metadata": {},
   "source": [
    "<pre style=\"margin: 0; padding=0\"><DIV style=\"font-family: Courier; border: 1px solid #dbdbdb; padding: 7px\">sqlite></DIV></pre>"
   ]
  },
  {
   "cell_type": "markdown",
   "id": "62b5725f",
   "metadata": {},
   "source": [
    "You can quit out of sqlite with <B>.quit</B>:"
   ]
  },
  {
   "cell_type": "markdown",
   "id": "bb208cf5",
   "metadata": {},
   "source": [
    "<pre style=\"margin: 0; padding=0\"><DIV style=\"font-family: Courier; border: 1px solid #dbdbdb; padding: 7px\">sqlite>  <B>.quit</B></DIV></pre>"
   ]
  },
  {
   "cell_type": "markdown",
   "id": "c666fa96",
   "metadata": {},
   "source": [
    " "
   ]
  },
  {
   "cell_type": "markdown",
   "id": "37e04a86",
   "metadata": {},
   "source": [
    "<B>2.3:  <U>Open a database file</U>, then immediately check to see that there are tables.  </B>"
   ]
  },
  {
   "cell_type": "markdown",
   "id": "ebc519e5",
   "metadata": {},
   "source": [
    "From the sqlite prompt:"
   ]
  },
  {
   "cell_type": "markdown",
   "id": "460cb5e9",
   "metadata": {},
   "source": [
    "<pre style=\"margin: 0; padding=0\"><DIV style=\"font-family: Courier; border: 1px solid #dbdbdb; padding: 7px\">sqlite> <B>.open session_2.db</B>\n",
    "sqlite> <B>.tables</B>\n",
    "ad_buys              revenue              students\n",
    "ad_companies         student_status       user\n",
    "companyrev           student_status_orig  user_classes</DIV></pre>"
   ]
  },
  {
   "cell_type": "markdown",
   "id": "997dd1cf",
   "metadata": {},
   "source": [
    "If you don't see any tables listed, then you have either misspelled the name of the <B>.db</B> file, or you're in the wrong directory.  First, delete the empty file that you created so you don't get confused."
   ]
  },
  {
   "cell_type": "markdown",
   "id": "352f27d5",
   "metadata": {},
   "source": [
    "See the present working directory on Windows:"
   ]
  },
  {
   "cell_type": "markdown",
   "id": "9313c811",
   "metadata": {},
   "source": [
    "<pre style=\"margin: 0; padding=0\"><DIV style=\"font-family: Courier; border: 1px solid #dbdbdb; padding: 7px\">sqlite> <B>.shell cd</B></DIV></pre>"
   ]
  },
  {
   "cell_type": "markdown",
   "id": "ff865f88",
   "metadata": {},
   "source": [
    "See the present working directory on Mac:"
   ]
  },
  {
   "cell_type": "markdown",
   "id": "20e79a16",
   "metadata": {},
   "source": [
    "<pre style=\"margin: 0; padding=0\"><DIV style=\"font-family: Courier; border: 1px solid #dbdbdb; padding: 7px\">sqlite> <B>.shell pwd</B></DIV></pre>"
   ]
  },
  {
   "cell_type": "markdown",
   "id": "f5e95bd3",
   "metadata": {},
   "source": [
    "You can use <B>.shell</B> commands to move into the directory where the <B>.db</B> file can be found.\n",
    "<BR>\n",
    "\n",
    "<U>Please note</U> that SQL queries end in a semicolon (<B>;</B>) and SQLite3 commands such as <B>.tables</B> and <B>.schema</B> do not:\n",
    "\n",
    "adding a semicolon to a \"dot\" command (e.g. <B>.schema;</B>) causes SQLite to ignore the command;\n",
    "\n",
    "omitting a semicolon from a query causes SQLite to allow \"multi-line\" queries, which means it will wait until it sees the semicolon."
   ]
  },
  {
   "cell_type": "markdown",
   "id": "15c86438",
   "metadata": {},
   "source": [
    " "
   ]
  },
  {
   "cell_type": "markdown",
   "id": "34d4addd",
   "metadata": {},
   "source": [
    "<B>2.4:  <U>Set display columns</U>.  This configures SQLite to show SELECT output in columns with headers.  </B>"
   ]
  },
  {
   "cell_type": "markdown",
   "id": "8133d70b",
   "metadata": {},
   "source": [
    "<pre style=\"margin: 0; padding=0\"><DIV style=\"font-family: Courier; border: 1px solid #dbdbdb; padding: 7px\">sqlite> <b>.header on</b>\n",
    "sqlite> <b>.mode column</b></DIV></pre>"
   ]
  },
  {
   "cell_type": "markdown",
   "id": "75a51671",
   "metadata": {},
   "source": [
    " "
   ]
  },
  {
   "cell_type": "markdown",
   "id": "58f423c7",
   "metadata": {},
   "source": [
    "<B>2.5:  <U>Show the schema for a table</U>.  Use the <B>.schema</B> command to see the <B>CREATE TABLE</B> for the <B>revenue</B> table, which shows its structure.  </B>"
   ]
  },
  {
   "cell_type": "markdown",
   "id": "b43bad05",
   "metadata": {},
   "source": [
    "show schema for a table:"
   ]
  },
  {
   "cell_type": "markdown",
   "id": "b706cb3c",
   "metadata": {},
   "source": [
    "<pre style=\"margin: 0; padding=0\"><DIV style=\"font-family: Courier; border: 1px solid #dbdbdb; padding: 7px\">sqlite> <B>.schema revenue</B></DIV></pre>"
   ]
  },
  {
   "cell_type": "markdown",
   "id": "1aaac82e",
   "metadata": {},
   "source": [
    " "
   ]
  },
  {
   "cell_type": "markdown",
   "id": "e9cd9c40",
   "metadata": {},
   "source": [
    "SQL COMMANDS"
   ]
  },
  {
   "cell_type": "markdown",
   "id": "626f65f6",
   "metadata": {},
   "source": [
    "<B>2.6:  <U>Select all rows from the <B>revenue</B> table</U>.  </B>"
   ]
  },
  {
   "cell_type": "markdown",
   "id": "156faffc",
   "metadata": {},
   "source": [
    "<pre style=\"margin: 0; padding=0\"><DIV style=\"font-family: Courier; border: 1px solid #dbdbdb; padding: 7px\">sqlite> <B>SELECT * FROM revenue;</B></DIV></pre>"
   ]
  },
  {
   "cell_type": "markdown",
   "id": "956f1263",
   "metadata": {},
   "source": [
    "<U>Please note</U> that SQL queries end in a semicolon (<B>;</B>) and SQLite3 commands such as <B>.tables</B> and <B>.schema</B> do not:\n",
    "\n",
    "adding a semicolon to a \"dot\" command (e.g. <B>.schema;</B> causes SQLite to ignore the command;\n",
    "\n",
    "omitting a semicolon from a query causes SQLite to allow \"multi-line\" queries, which means it will wait until it sees the semicolon.\n",
    "\n",
    "If you see a continuation line indicator (<B>   ...> </B>) this means that you have started an SQL client and the client is waiting for more SQL (queries can be expressed in more than one line, so the client needs the semicolon to understand the end of the query).  If you're done, simply type the semicolon and hit [Enter]."
   ]
  },
  {
   "cell_type": "markdown",
   "id": "8934e5bb",
   "metadata": {},
   "source": [
    " "
   ]
  },
  {
   "cell_type": "markdown",
   "id": "d1e64ff0",
   "metadata": {},
   "source": [
    "<B>2.7:  <U>Create a new table</U> called 'test', with columns 'name' (a TEXT column), 'years' (INT) and 'revenue' (a FLOAT column).  Use the <B>.schema</B> to verify the table's existence and have the query echoed back to you.  </B>"
   ]
  },
  {
   "cell_type": "markdown",
   "id": "198ea657",
   "metadata": {},
   "source": [
    "<pre style=\"margin: 0; padding=0\"><DIV style=\"font-family: Courier; border: 1px solid #dbdbdb; padding: 7px\">sqlite> <B>CREATE TABLE test (name TEXT, years INT, revenue FLOAT);</B>\n",
    "sqlite> <B>.schema test</B>\n",
    "CREATE TABLE test (name TEXT, years INT, revenue FLOAT);</DIV></pre>"
   ]
  },
  {
   "cell_type": "markdown",
   "id": "93f0798d",
   "metadata": {},
   "source": [
    " "
   ]
  },
  {
   "cell_type": "markdown",
   "id": "c066ecd5",
   "metadata": {},
   "source": [
    "<B>2.8:  <U>Drop the table you just created</U>.</B>"
   ]
  },
  {
   "cell_type": "markdown",
   "id": "b89c500f",
   "metadata": {},
   "source": [
    "<pre style=\"margin: 0; padding=0\"><DIV style=\"font-family: Courier; border: 1px solid #dbdbdb; padding: 7px\">sqlite> <B>DROP TABLE test;</B></DIV></pre>"
   ]
  },
  {
   "cell_type": "markdown",
   "id": "3137e20d",
   "metadata": {},
   "source": [
    " "
   ]
  },
  {
   "cell_type": "markdown",
   "id": "9c006cca",
   "metadata": {},
   "source": [
    "<B>2.9:  <U>Recreate the table</U> <B>test</B> by using the up arrow to retrieve the original <B>CREATE TABLE</B> statement.  (Make sure not to retype the CREATE TABLE statement - you don't need to!)</B>"
   ]
  },
  {
   "cell_type": "markdown",
   "id": "988dcbac",
   "metadata": {},
   "source": [
    " Use the up arrow (twice) on the SQLite3 client, no need to retype:"
   ]
  },
  {
   "cell_type": "markdown",
   "id": "b1694869",
   "metadata": {},
   "source": [
    "<pre style=\"margin: 0; padding=0\"><DIV style=\"font-family: Courier; border: 1px solid #dbdbdb; padding: 7px\">sqlite> <B>CREATE TABLE test (name TEXT, years INT, revenue FLOAT);</B></DIV></pre>"
   ]
  },
  {
   "cell_type": "markdown",
   "id": "68465076",
   "metadata": {},
   "source": [
    " "
   ]
  },
  {
   "cell_type": "markdown",
   "id": "c1b8f435",
   "metadata": {},
   "source": [
    "<B>2.10:  <U>Insert a row into the <B>test</B> table</U>.  Run the query a few times by pressing the up arrow and hitting [Enter]</B>"
   ]
  },
  {
   "cell_type": "markdown",
   "id": "f2534c91",
   "metadata": {},
   "source": [
    "<pre style=\"margin: 0; padding=0\"><DIV style=\"font-family: Courier; border: 1px solid #dbdbdb; padding: 7px\">sqlite> <B>INSERT INTO test VALUES ('Joe', 23, 23.95);</B></DIV></pre>"
   ]
  },
  {
   "cell_type": "markdown",
   "id": "01533c29",
   "metadata": {},
   "source": [
    "Note that TEXT column values must have quotes around them and INT and FLOAT column values must not."
   ]
  },
  {
   "cell_type": "markdown",
   "id": "f8914f3b",
   "metadata": {},
   "source": [
    " "
   ]
  },
  {
   "cell_type": "markdown",
   "id": "1d9dd0ed",
   "metadata": {},
   "source": [
    "<B>2.11:  <U>Run a select query</U> to display the rows you inserted.</B>"
   ]
  },
  {
   "cell_type": "markdown",
   "id": "2fb4f192",
   "metadata": {},
   "source": [
    "<pre style=\"margin: 0; padding=0\"><DIV style=\"font-family: Courier; border: 1px solid #dbdbdb; padding: 7px\">sqlite> <B>SELECT * FROM test;</B></DIV></pre>"
   ]
  },
  {
   "cell_type": "markdown",
   "id": "3bbfe418",
   "metadata": {},
   "source": [
    " "
   ]
  },
  {
   "cell_type": "markdown",
   "id": "fe5e3143",
   "metadata": {},
   "source": [
    "<B>2.12:  <U>Delete all rows from the table</U>.  </B>"
   ]
  },
  {
   "cell_type": "markdown",
   "id": "4ee3ec24",
   "metadata": {},
   "source": [
    "<pre style=\"margin: 0; padding=0\"><DIV style=\"font-family: Courier; border: 1px solid #dbdbdb; padding: 7px\">sqlite> <B>DELETE FROM test;</B></DIV></pre>"
   ]
  },
  {
   "cell_type": "markdown",
   "id": "eee09444",
   "metadata": {},
   "source": [
    " "
   ]
  },
  {
   "cell_type": "markdown",
   "id": "f8451eba",
   "metadata": {},
   "source": [
    "<B>2.13:  <U>Drop table entirely</U>.  </B>"
   ]
  },
  {
   "cell_type": "markdown",
   "id": "4e36927d",
   "metadata": {},
   "source": [
    "<pre style=\"margin: 0; padding=0\"><DIV style=\"font-family: Courier; border: 1px solid #dbdbdb; padding: 7px\">sqlite> <B>DROP TABLE test;</B></DIV></pre>"
   ]
  },
  {
   "cell_type": "markdown",
   "id": "0a90c919",
   "metadata": {},
   "source": [
    " "
   ]
  },
  {
   "cell_type": "markdown",
   "id": "959af94d",
   "metadata": {},
   "source": [
    "<B>2.14:  <U>Note that you can't drop a nonexistent table</U>.  Attempt to drop the 'test' table again, and note that this fails.  Add an IF EXISTS so that if the table exists, it will be dropped; if it does not exist, it will return an error.  This is especially useful for the \"wipe and reload\" best practice.  </B>"
   ]
  },
  {
   "cell_type": "markdown",
   "id": "eebfa4f2",
   "metadata": {},
   "source": [
    "Next, use the up arrow to recover and re-execute the CREATE TABLE and follow it up imediately with the DROP TABLE IF EXISTS -- to see how easy it is to create and drop tables.\n"
   ]
  },
  {
   "cell_type": "markdown",
   "id": "70df39d1",
   "metadata": {},
   "source": [
    "<pre style=\"margin: 0; padding=0\"><DIV style=\"font-family: Courier; border: 1px solid #dbdbdb; padding: 7px\">sqlite> <B>DROP TABLE IF EXISTS test;</B>\n",
    "sqlite> <B>CREATE TABLE test (name TEXT, years INT, revenue FLOAT);</B>\n",
    "sqlite> <B>DROP TABLE IF EXISTS test;</B>\n",
    "sqlite> <B>CREATE TABLE test (name TEXT, years INT, revenue FLOAT);</B></DIV></pre>"
   ]
  },
  {
   "cell_type": "markdown",
   "id": "1c6a92fb",
   "metadata": {},
   "source": [
    "Remember, you don't have to retype an old command!  Just use up arrow and down arrow to recall previously executed commands."
   ]
  },
  {
   "cell_type": "markdown",
   "id": "dbee9640",
   "metadata": {},
   "source": [
    " "
   ]
  },
  {
   "cell_type": "markdown",
   "id": "7e730ca7",
   "metadata": {},
   "source": [
    "Please KEEP YOUR SQLite SESSION OPEN FOR THE FOLLOWING Python exercises."
   ]
  },
  {
   "cell_type": "markdown",
   "id": "80fc2d73",
   "metadata": {},
   "source": [
    " "
   ]
  },
  {
   "cell_type": "markdown",
   "id": "e1ecd48c",
   "metadata": {},
   "source": [
    "LAB 1"
   ]
  },
  {
   "cell_type": "markdown",
   "id": "11bc50de",
   "metadata": {},
   "source": [
    "<U>Note</U>:  if this is a new session, please follow the directions at the start of these exercises and the first few exercises to travel to the directory where <B>session\\_2.db</B> can be found, to verify that it is in your current location, and to use <B>.open</B> to open the file.  (Don't forget that if you are in the wrong location or misspell the filename you will create a  new, empty database file.)\n"
   ]
  },
  {
   "cell_type": "markdown",
   "id": "bc1b445b",
   "metadata": {},
   "source": [
    "Also in a new session, always remember to issue the setup commands:"
   ]
  },
  {
   "cell_type": "markdown",
   "id": "d9f11f66",
   "metadata": {},
   "source": [
    "<pre style=\"margin: 0; padding=0\"><DIV style=\"font-family: Courier; border: 1px solid #dbdbdb; padding: 7px\">.mode column\n",
    ".headers on</DIV></pre>"
   ]
  },
  {
   "cell_type": "markdown",
   "id": "05404713",
   "metadata": {},
   "source": [
    " "
   ]
  },
  {
   "cell_type": "markdown",
   "id": "8a0cac2b",
   "metadata": {},
   "source": [
    "<div style=\"background-color: #ccffcc; padding: 10px; border: 2px solid green\"><B>2.15:  <U>Issue a <B>.tables</B> command to verify that you have opened the existing <B>session\\_2.db</B> file:</B></div>"
   ]
  },
  {
   "cell_type": "markdown",
   "id": "1490ad54",
   "metadata": {},
   "source": [
    "<pre style=\"margin: 0; padding=0\"><DIV style=\"font-family: Courier; border: 1px solid #dbdbdb; padding: 7px\">.tables</DIV></pre>"
   ]
  },
  {
   "cell_type": "markdown",
   "id": "1758310e",
   "metadata": {},
   "source": [
    "<U>Expected Output</U>:  "
   ]
  },
  {
   "cell_type": "markdown",
   "id": "fa352b29",
   "metadata": {},
   "source": [
    "<pre style=\"margin: 0; padding=0\"><DIV style=\"font-family: Courier; border: 1px solid #dbdbdb; padding: 7px\">ad_buys         companyrev      student_status  user\n",
    "ad_companies    revenue         students        user_classes</DIV></pre>"
   ]
  },
  {
   "cell_type": "markdown",
   "id": "b9b7cfb9",
   "metadata": {},
   "source": [
    "(please note that your table listing may be different than shown above, but should at least show several tables rather than no tables)\n",
    "\n",
    "If there are no tables listed, use <B>.quit</B> to leave <B>sqlite3</B>, use <B>ls</B> or <B>dir</B> to see that you have created a new, empty <B>.db</B> file (you can check the size in your Windows Explorer or Mac Finder view of the file), and then delete this file.  Then return to the start of these exercises and follow directions to find the existing <B>session\\_2.db</B> file."
   ]
  },
  {
   "cell_type": "markdown",
   "id": "df172580",
   "metadata": {},
   "source": [
    " "
   ]
  },
  {
   "cell_type": "markdown",
   "id": "a24ce14c",
   "metadata": {},
   "source": [
    "<div style=\"background-color: #ccffcc; padding: 10px; border: 2px solid green\"><B>2.16:  <U>CREATE TABLE from database prompt</U>.   </B></div>"
   ]
  },
  {
   "cell_type": "markdown",
   "id": "4631165d",
   "metadata": {},
   "source": [
    "Create a table called <B>planets</B> with the following columns:"
   ]
  },
  {
   "cell_type": "markdown",
   "id": "1f972259",
   "metadata": {},
   "source": [
    "<pre style=\"margin: 0; padding=0\"><DIV style=\"font-family: Courier; border: 1px solid #dbdbdb; padding: 7px\">planet (a TEXT field)\n",
    "mass (a FLOAT field)\n",
    "distance (an INT field)</DIV></pre>"
   ]
  },
  {
   "cell_type": "markdown",
   "id": "b194961d",
   "metadata": {},
   "source": [
    "When done, issue a <B>.schema</B> query to see the query and structure of the table reflected back to you."
   ]
  },
  {
   "cell_type": "markdown",
   "id": "f03578d1",
   "metadata": {},
   "source": [
    " "
   ]
  },
  {
   "cell_type": "markdown",
   "id": "039cc269",
   "metadata": {},
   "source": [
    "<div style=\"background-color: #ccffcc; padding: 10px; border: 2px solid green\"><B>2.17:  <U>INSERT query from database prompt</U>.   </B></div>"
   ]
  },
  {
   "cell_type": "markdown",
   "id": "241a0453",
   "metadata": {},
   "source": [
    "Insert each of the following rows of values into the <B>planets</B> table by executing 3 separate INSERT query statements:"
   ]
  },
  {
   "cell_type": "markdown",
   "id": "ee5ae356",
   "metadata": {},
   "source": [
    "<pre style=\"margin: 0; padding=0\"><DIV style=\"font-family: Courier; border: 1px solid #dbdbdb; padding: 7px\">Mercury   .33    58\n",
    "Venus    4.87   108\n",
    "Earth    5.98   150</DIV></pre>"
   ]
  },
  {
   "cell_type": "markdown",
   "id": "a495aeda",
   "metadata": {},
   "source": [
    "The <B>sqlite</B> prompt should return without error after each INSERT query."
   ]
  },
  {
   "cell_type": "markdown",
   "id": "8662b363",
   "metadata": {},
   "source": [
    " "
   ]
  },
  {
   "cell_type": "markdown",
   "id": "8e0fb22f",
   "metadata": {},
   "source": [
    "<div style=\"background-color: #ccffcc; padding: 10px; border: 2px solid green\"><B>2.18:  <U>SELECT query from database prompt</U>.  </B></div>"
   ]
  },
  {
   "cell_type": "markdown",
   "id": "9e5fee46",
   "metadata": {},
   "source": [
    "Select all rows and columns from the <B>planets</B> table.\n"
   ]
  },
  {
   "cell_type": "markdown",
   "id": "c423f90e",
   "metadata": {},
   "source": [
    "<U>Expected Output</U>:  "
   ]
  },
  {
   "cell_type": "markdown",
   "id": "1132efd4",
   "metadata": {},
   "source": [
    "<pre style=\"margin: 0; padding=0\"><DIV style=\"font-family: Courier; border: 1px solid #dbdbdb; padding: 7px\">planet      mass        distance\n",
    "----------  ----------  ----------\n",
    "Mercury     0.33        58\n",
    "Venus       4.87        108\n",
    "Earth       5.98        150</DIV></pre>"
   ]
  },
  {
   "cell_type": "markdown",
   "id": "79b73105",
   "metadata": {},
   "source": [
    " "
   ]
  },
  {
   "cell_type": "markdown",
   "id": "4e343bf5",
   "metadata": {},
   "source": [
    "<div style=\"background-color: #ccffcc; padding: 10px; border: 2px solid green\"><B>2.19:  <U>SELECT query for specific columns with WHERE clause from database prompt</U>.   </B></div>"
   ]
  },
  {
   "cell_type": "markdown",
   "id": "d51f40cf",
   "metadata": {},
   "source": [
    "Select the planet and and distance columns for all planets further than 100 (km) from the sun.\n"
   ]
  },
  {
   "cell_type": "markdown",
   "id": "e063f6fb",
   "metadata": {},
   "source": [
    "<U>Expected Output</U>:  "
   ]
  },
  {
   "cell_type": "markdown",
   "id": "86347d34",
   "metadata": {},
   "source": [
    "<pre style=\"margin: 0; padding=0\"><DIV style=\"font-family: Courier; border: 1px solid #dbdbdb; padding: 7px\">planet      distance\n",
    "----------  ----------\n",
    "Venus       108\n",
    "Earth       150</DIV></pre>"
   ]
  },
  {
   "cell_type": "markdown",
   "id": "27b58432",
   "metadata": {},
   "source": [
    " "
   ]
  },
  {
   "cell_type": "markdown",
   "id": "f364e372",
   "metadata": {},
   "source": [
    "<U>Please keep this <B>sqlite</B> session open, or make note</U> of where your <B>session\\_2.db</B> file is located so we can access the data you created in the next lab."
   ]
  },
  {
   "cell_type": "markdown",
   "id": "eefd0d66",
   "metadata": {},
   "source": [
    " "
   ]
  },
  {
   "cell_type": "markdown",
   "id": "5b6566bb",
   "metadata": {},
   "source": [
    "DATABASE ACCESS FROM PYTHON"
   ]
  },
  {
   "cell_type": "markdown",
   "id": "0bc5c8ef",
   "metadata": {},
   "source": [
    "NOTE THAT when opening data files from the exercise files or notebooks, any filename referenced from those exercises should be preceded with <B>../</B>.  (If you create a script in the same directory as the data file, you would not include this.)\n",
    "\n",
    "NOTE ALSO THAT if you are using Jupyter Notebook, if you wish to call <B>exit()</B> from a notebook, please use <B>sys.exit()</B> (requires <B>import sys</B>); if a strange error occurs, it may be because Jupyter retains variables from all executed cells.  To reset the notebook, click 'Restart Kernel' (the circular arrow) -- this will not undo any changes made."
   ]
  },
  {
   "cell_type": "markdown",
   "id": "a19e5116",
   "metadata": {},
   "source": [
    " "
   ]
  },
  {
   "cell_type": "markdown",
   "id": "43fe681e",
   "metadata": {},
   "source": [
    "<B>2.20:  <U>Database connect and <B>cursor()</B></U>.  In a Python program, connect to <B>../session\\_2.db</B> (returning a <B>connection</B> object) and call <B>.cursor()</B> on it to get a <B>cursor</B> object we will use for querying.  (Note the <B>../</B> assumes that we are in a directory above the <B>session\\_2.db</B> file.)</B>"
   ]
  },
  {
   "cell_type": "markdown",
   "id": "4d1a4401",
   "metadata": {},
   "source": [
    "Close the database connection with <B>conn.close()</B> when finished.\n"
   ]
  },
  {
   "cell_type": "code",
   "execution_count": null,
   "id": "09af5977",
   "metadata": {},
   "outputs": [],
   "source": [
    "import sqlite3\n",
    "\n",
    "db_filename = '../session_2.db'\n"
   ]
  },
  {
   "cell_type": "markdown",
   "id": "1aa40052",
   "metadata": {},
   "source": [
    " "
   ]
  },
  {
   "cell_type": "markdown",
   "id": "3d804ccc",
   "metadata": {},
   "source": [
    "<B>2.21:  <U>Result set:  <B>for</B> looping</U>.  Use the <B>cursor</B> object to <B>.execute()</B> a <B>SELECT</B> query for all columns in the <B>revenue</B> table, and loop through the <B>result set</B> object with a <b>for</B> loop, printing each row.  Close the database connection when done.  </B>"
   ]
  },
  {
   "cell_type": "code",
   "execution_count": null,
   "id": "fb60a1ea",
   "metadata": {},
   "outputs": [],
   "source": [
    "import sqlite3\n",
    "\n",
    "db_filename = '../session_2.db'\n",
    "\n",
    "conn = sqlite3.connect(db_filename)\n",
    "\n",
    "c = conn.cursor()"
   ]
  },
  {
   "cell_type": "markdown",
   "id": "e3823f95",
   "metadata": {},
   "source": [
    " "
   ]
  },
  {
   "cell_type": "markdown",
   "id": "96cfe7b0",
   "metadata": {},
   "source": [
    "<B>2.22:  <U>Result set:  <B>.fetchone()</B></U>.  Use the <B>cursor</B> object to <B>.execute()</B> a <B>SELECT</B> query for all columns in the <B>revenue</B> table <B>WHERE company = 'Westfield'</B>, and use <B>.fetchone()</B> to retrieve the single result row (tuple) of values.  Close the database connection when done.  </B>"
   ]
  },
  {
   "cell_type": "code",
   "execution_count": null,
   "id": "32ace684",
   "metadata": {},
   "outputs": [],
   "source": [
    "import sqlite3\n",
    "\n",
    "db_filename = '../session_2.db'\n",
    "\n",
    "conn = sqlite3.connect(db_filename)\n",
    "\n",
    "c = conn.cursor()\n",
    "\n",
    "c.execute(\"SELECT * FROM revenue WHERE company = 'Westfield'\")\n"
   ]
  },
  {
   "cell_type": "markdown",
   "id": "d571c590",
   "metadata": {},
   "source": [
    " "
   ]
  },
  {
   "cell_type": "markdown",
   "id": "c28fb3b8",
   "metadata": {},
   "source": [
    "<B>2.23:  <U>Result set:  <B>.fetchmany()</b></U>.  Use the <B>cursor</B> object to <B>.execute()</B> a <B>SELECT</B> query for all columns in the <B>revenue</B> table.  Use <B>.fetchmany(3)</B> to retrieve just 3 rows, then use <B>.fetchmany(4)</B> again to retrieve the remaining 4 rows.  Close the database connection when done.  </B>"
   ]
  },
  {
   "cell_type": "code",
   "execution_count": null,
   "id": "a07f0e04",
   "metadata": {},
   "outputs": [],
   "source": [
    "import sqlite3\n",
    "\n",
    "db_filename = '../session_2.db'\n",
    "\n",
    "conn = sqlite3.connect(db_filename)\n",
    "\n",
    "c = conn.cursor()\n",
    "\n",
    "c.execute('SELECT * FROM revenue')\n"
   ]
  },
  {
   "cell_type": "markdown",
   "id": "3eea693d",
   "metadata": {},
   "source": [
    " "
   ]
  },
  {
   "cell_type": "markdown",
   "id": "8e81dc20",
   "metadata": {},
   "source": [
    "<B>2.24:  <U>Result set:  <B>.fetchall()</B></U>.  Use the <B>cursor</B> object to <B>.execute()</B> a <B>SELECT</B> query for all columns in the <B>revenue</B> table.  Use <B>.fetchall()</B> to retrieve all rows in the result set as a list of tuples.  Close the database connection when done.  </B>"
   ]
  },
  {
   "cell_type": "code",
   "execution_count": null,
   "id": "42eabc7a",
   "metadata": {},
   "outputs": [],
   "source": [
    "import sqlite3\n",
    "\n",
    "db_filename = '../session_2.db'\n",
    "\n",
    "conn = sqlite3.connect(db_filename)\n",
    "\n",
    "c = conn.cursor()\n",
    "\n",
    "c.execute(\"SELECT * FROM revenue\")\n"
   ]
  },
  {
   "cell_type": "markdown",
   "id": "f1258103",
   "metadata": {},
   "source": [
    " "
   ]
  },
  {
   "cell_type": "markdown",
   "id": "eaf9bd0e",
   "metadata": {},
   "source": [
    "<B>2.25:  <U>Show table columns</U>.  After doing a <B>select *</B> query, use the cursor <B>.description</B> attribute to see the names of columns in a table, which are nested in a list of tuples.  Then pull out just the first item in each tuple to get a list of columns.  Close the database connection when done.    </B>"
   ]
  },
  {
   "cell_type": "code",
   "execution_count": null,
   "id": "a50e0c87",
   "metadata": {},
   "outputs": [],
   "source": [
    "import sqlite3\n",
    "\n",
    "db_filename = '../session_2.db'\n",
    "\n",
    "conn = sqlite3.connect(db_filename)\n",
    "\n",
    "c = conn.cursor()\n",
    "\n",
    "c.execute('SELECT * FROM revenue LIMIT 1')\n"
   ]
  },
  {
   "cell_type": "markdown",
   "id": "8b149e54",
   "metadata": {},
   "source": [
    "We're using a LIMIT 1 to pull just one row from the table, which will have all columns."
   ]
  },
  {
   "cell_type": "markdown",
   "id": "d1d5e3a9",
   "metadata": {},
   "source": [
    " "
   ]
  },
  {
   "cell_type": "markdown",
   "id": "25757f9d",
   "metadata": {},
   "source": [
    "<B>2.26:  <U>INSERT query</U>.  Use the <B>cursor</B> object to <B>.execute()</B> an <B>INSERT</B> query, inserting a name, state and cost value into the <B>revenue</B> table.  Use parameterized arguments (?) to perform the insertions without having to worry about enquoting or escaping values in the query.  </B>"
   ]
  },
  {
   "cell_type": "markdown",
   "id": "83e537d2",
   "metadata": {},
   "source": [
    "Make sure to call <B>conn.commit()</B> (where <B>conn</B> is the connection object) to see results.  Also remember to close the database connection when done.\n",
    "\n",
    "After running, return to your SQLite3 session and perform a <B>SELECT *</B> query so you can see the new row.\n"
   ]
  },
  {
   "cell_type": "code",
   "execution_count": null,
   "id": "dc20eb93",
   "metadata": {},
   "outputs": [],
   "source": [
    "import sqlite3\n",
    "\n",
    "db_filename = '../session_2.db'\n",
    "\n",
    "conn = sqlite3.connect(db_filename)\n",
    "\n",
    "c = conn.cursor()\n",
    "\n",
    "query = 'INSERT INTO revenue VALUES (?, ?, ?)'\n"
   ]
  },
  {
   "cell_type": "markdown",
   "id": "d1e064be",
   "metadata": {},
   "source": [
    "If you don't see the change, make sure you executed <B>conn.commit()</B> after executing the insert."
   ]
  },
  {
   "cell_type": "markdown",
   "id": "258820bc",
   "metadata": {},
   "source": [
    " "
   ]
  },
  {
   "cell_type": "markdown",
   "id": "c9a78330",
   "metadata": {},
   "source": [
    "CSV:  review"
   ]
  },
  {
   "cell_type": "markdown",
   "id": "5ac0b6ce",
   "metadata": {},
   "source": [
    " "
   ]
  },
  {
   "cell_type": "markdown",
   "id": "8b54e159",
   "metadata": {},
   "source": [
    "<B>2.27:  <U>Write a row to a csv</U>.  Open a new file <B>new.csv</B> for writing (remember that this will truncate (blank out) the file).  Using <B>write.writerow()</b>, write the header row first, then the data in <B>row</B> and <B>row2</B> to the file.  Make sure to close the file before finishing (especially in Jupyter, where the program does not stop running and so the file will not be closed until you close the notebook).  To confirm, open the file directly in a text editor or Excel to view it.</B>"
   ]
  },
  {
   "cell_type": "code",
   "execution_count": null,
   "id": "124c97e5",
   "metadata": {},
   "outputs": [],
   "source": [
    "import csv\n",
    "\n",
    "header = ['name', 'state', 'country']\n",
    "row = ['Joe', 'CA', 'USA']\n",
    "row2 = ['Mary', 'NY', 'USA']\n",
    "\n",
    "wfh = open('../new.csv', 'w', newline='')\n",
    "writer = csv.writer(wfh)\n"
   ]
  },
  {
   "cell_type": "markdown",
   "id": "b3691da5",
   "metadata": {},
   "source": [
    " "
   ]
  },
  {
   "cell_type": "markdown",
   "id": "b00ac3cf",
   "metadata": {},
   "source": [
    "<B>2.28:  <U>Write several rows to csv</U>.  Open the file <B>new2.csv</B> for writing and use <B>writer.writerow()</B> to write the header, followed by using <B>writer.writerows()</B> to write the entire list of tuples, to the file.  Make sure to close the file after writing.</B>"
   ]
  },
  {
   "cell_type": "code",
   "execution_count": null,
   "id": "14ccaf47",
   "metadata": {},
   "outputs": [],
   "source": [
    "import csv\n",
    "\n",
    "header = ['name', 'state', 'country']\n",
    "rows = [ ('Joe', 'CA', 'USA'),\n",
    "         ('Mary' ,'NY', 'USA') ]\n",
    "\n",
    "wfh = open('../new2.csv', 'w', newline='')\n",
    "writer = csv.writer(wfh)\n"
   ]
  },
  {
   "cell_type": "markdown",
   "id": "d58eea45",
   "metadata": {},
   "source": [
    " "
   ]
  },
  {
   "cell_type": "markdown",
   "id": "d9df1043",
   "metadata": {},
   "source": [
    "LAB 2"
   ]
  },
  {
   "cell_type": "markdown",
   "id": "b0f86766",
   "metadata": {},
   "source": [
    "<div style=\"background-color: #ccffcc; padding: 10px; border: 2px solid green\"><B>2.29:  <U>Connect to a database and generate a <B>cursor</B> object</U>.  </B></div>"
   ]
  },
  {
   "cell_type": "markdown",
   "id": "1222fff1",
   "metadata": {},
   "source": [
    "Remember that from exercise files, any data file will be located in the parent directory.  So the correct location for this week's database file is <B>session\\_2.db</B>.\n"
   ]
  },
  {
   "cell_type": "markdown",
   "id": "c14f0f03",
   "metadata": {},
   "source": [
    "Confirm that you have connected to the existing database with this query:"
   ]
  },
  {
   "cell_type": "markdown",
   "id": "1d32afe6",
   "metadata": {},
   "source": [
    "<pre style=\"margin: 0; padding=0\"><DIV style=\"font-family: Courier; border: 1px solid #dbdbdb; padding: 7px\">SELECT name FROM sqlite_master WHERE type= \"table\"</DIV></pre>"
   ]
  },
  {
   "cell_type": "code",
   "execution_count": null,
   "id": "a1941e22",
   "metadata": {},
   "outputs": [],
   "source": []
  },
  {
   "cell_type": "markdown",
   "id": "bf51a754",
   "metadata": {},
   "source": [
    "<U>Expected Output</U>:  "
   ]
  },
  {
   "cell_type": "markdown",
   "id": "36d365b8",
   "metadata": {},
   "source": [
    "<pre style=\"margin: 0; padding=0\"><DIV style=\"font-family: Courier; border: 1px solid #dbdbdb; padding: 7px\">('ad_companies',)\n",
    "('ad_buys',)\n",
    "('students',)\n",
    "('revenue',)\n",
    "('student_status',)\n",
    "('user',)\n",
    "('user_classes',)\n",
    "('companyrev',)\n",
    "('planets',)</DIV></pre>"
   ]
  },
  {
   "cell_type": "markdown",
   "id": "087f7b32",
   "metadata": {},
   "source": [
    " "
   ]
  },
  {
   "cell_type": "markdown",
   "id": "4facd1fc",
   "metadata": {},
   "source": [
    "<div style=\"background-color: #ccffcc; padding: 10px; border: 2px solid green\"><B>2.30:  <U>SELECT query from <B>planets</B> table</U>.  </B></div>"
   ]
  },
  {
   "cell_type": "markdown",
   "id": "0ff8272e",
   "metadata": {},
   "source": [
    "Select all columns and rows from the 'planets' table (created in the previous lab), then use 'for' to loop over and print each row of results.\n"
   ]
  },
  {
   "cell_type": "code",
   "execution_count": null,
   "id": "07ca0f52",
   "metadata": {},
   "outputs": [],
   "source": [
    "import sqlite3\n",
    "\n",
    "conn = sqlite3.connect('../session_2.db')\n",
    "cursor = conn.cursor()\n"
   ]
  },
  {
   "cell_type": "markdown",
   "id": "04f8fcd9",
   "metadata": {},
   "source": [
    "<U>Expected Output</U>:  "
   ]
  },
  {
   "cell_type": "markdown",
   "id": "8eb78817",
   "metadata": {},
   "source": [
    "<pre style=\"margin: 0; padding=0\"><DIV style=\"font-family: Courier; border: 1px solid #dbdbdb; padding: 7px\">('Mercury', '0.33', '58')\n",
    "('Venus', '4.87', '108')\n",
    "('Earth', '5.98', '150')</DIV></pre>"
   ]
  },
  {
   "cell_type": "markdown",
   "id": "cbcc3c33",
   "metadata": {},
   "source": [
    " "
   ]
  },
  {
   "cell_type": "markdown",
   "id": "da244735",
   "metadata": {},
   "source": [
    "<div style=\"background-color: #ccffcc; padding: 10px; border: 2px solid green\"><B>2.31:  <U>Use <B>.fetchone()</B> to retrieve one row</U>.  </B></div>"
   ]
  },
  {
   "cell_type": "markdown",
   "id": "7a68cf70",
   "metadata": {},
   "source": [
    "Select all columns from the <B>user</B> table where <B>user\\_id</B> is equal to 2.  Use <B>.fetchone()</B> to retreieve the row.\n"
   ]
  },
  {
   "cell_type": "code",
   "execution_count": null,
   "id": "d28cb44d",
   "metadata": {},
   "outputs": [],
   "source": [
    "import sqlite3\n",
    "\n",
    "conn = sqlite3.connect('../session_2.db')\n",
    "cursor = conn.cursor()\n"
   ]
  },
  {
   "cell_type": "markdown",
   "id": "ebc7295a",
   "metadata": {},
   "source": [
    "<U>Expected Output</U>:  "
   ]
  },
  {
   "cell_type": "markdown",
   "id": "5e017592",
   "metadata": {},
   "source": [
    "<pre style=\"margin: 0; padding=0\"><DIV style=\"font-family: Courier; border: 1px solid #dbdbdb; padding: 7px\">(2, 'joe', 'pass', 'Joe', 'Wilson')</DIV></pre>"
   ]
  },
  {
   "cell_type": "markdown",
   "id": "d913e976",
   "metadata": {},
   "source": [
    " "
   ]
  },
  {
   "cell_type": "markdown",
   "id": "74f32d7a",
   "metadata": {},
   "source": [
    "<div style=\"background-color: #ccffcc; padding: 10px; border: 2px solid green\"><B>2.32:  <U>Use <B>.fetchall()</B> to retrieve all rows</U>.  </B></div>"
   ]
  },
  {
   "cell_type": "markdown",
   "id": "c6b82777",
   "metadata": {},
   "source": [
    "Select all columns from the <B>students</B> table where <B>state</B> is equal to <B>NJ</B>.  Use <B>.fetchall()</B> to retreieve the rows.\n"
   ]
  },
  {
   "cell_type": "code",
   "execution_count": null,
   "id": "3211567f",
   "metadata": {},
   "outputs": [],
   "source": [
    "import sqlite3\n",
    "\n",
    "conn = sqlite3.connect('../session_2.db')\n",
    "cursor = conn.cursor()\n"
   ]
  },
  {
   "cell_type": "markdown",
   "id": "a818b490",
   "metadata": {},
   "source": [
    "<U>Expected Output</U>:  "
   ]
  },
  {
   "cell_type": "markdown",
   "id": "8a77f5b2",
   "metadata": {},
   "source": [
    "<pre style=\"margin: 0; padding=0\"><DIV style=\"font-family: Courier; border: 1px solid #dbdbdb; padding: 7px\">('jb23', '115 Karas Dr.', 'Jersey City', 'NJ', '07127')\n",
    "('jb29', '119 Xylon Dr.', 'Jersey Cit', 'NJ', '07127')</DIV></pre>"
   ]
  },
  {
   "cell_type": "markdown",
   "id": "a42d5649",
   "metadata": {},
   "source": [
    " "
   ]
  },
  {
   "cell_type": "markdown",
   "id": "ce89b466",
   "metadata": {},
   "source": [
    "<div style=\"background-color: #ccffcc; padding: 10px; border: 2px solid green\"><B>2.33:  <U>Read a table description</U>.  </B></div>"
   ]
  },
  {
   "cell_type": "markdown",
   "id": "90b22bc9",
   "metadata": {},
   "source": [
    "After doing a <B>select *</B> query on the <B>students</B> table, use the cursor <B>.description</B> attribute to retrive a tuple of tuples with tables names:"
   ]
  },
  {
   "cell_type": "markdown",
   "id": "7aafabf2",
   "metadata": {},
   "source": [
    "<pre style=\"margin: 0; padding=0\"><DIV style=\"font-family: Courier; border: 1px solid #dbdbdb; padding: 7px\">( ('id', None, None, None, None, None, None),\n",
    "  ('address', None, None, None, None, None, None),\n",
    "  ('city', None, None, None, None, None, None),\n",
    "  ('state', None, None, None, None, None, None),\n",
    "  ('zip', None, None, None, None, None, None)     )</DIV></pre>"
   ]
  },
  {
   "cell_type": "code",
   "execution_count": null,
   "id": "d2147939",
   "metadata": {},
   "outputs": [],
   "source": [
    "import sqlite3\n",
    "\n",
    "conn = sqlite3.connect('../session_2.db')\n",
    "cursor = conn.cursor()\n",
    "\n",
    "query = 'SELECT * FROM students LIMIT 1'\n"
   ]
  },
  {
   "cell_type": "markdown",
   "id": "33d43d2f",
   "metadata": {},
   "source": [
    "Next, use a list comprehension to retrieve a list of names:"
   ]
  },
  {
   "cell_type": "markdown",
   "id": "ee277e92",
   "metadata": {},
   "source": [
    "<U>Expected Output</U>:  "
   ]
  },
  {
   "cell_type": "markdown",
   "id": "daf4bd61",
   "metadata": {},
   "source": [
    "<pre style=\"margin: 0; padding=0\"><DIV style=\"font-family: Courier; border: 1px solid #dbdbdb; padding: 7px\">['id', 'address', 'city', 'state', 'zip']</DIV></pre>"
   ]
  },
  {
   "cell_type": "markdown",
   "id": "c1075891",
   "metadata": {},
   "source": [
    " "
   ]
  },
  {
   "cell_type": "markdown",
   "id": "db7982b8",
   "metadata": {},
   "source": [
    "<div style=\"background-color: #ccffcc; padding: 10px; border: 2px solid green\"><B>2.34:  <U>Insert a row</U>.  </B></div>"
   ]
  },
  {
   "cell_type": "markdown",
   "id": "a773c743",
   "metadata": {},
   "source": [
    "Insert a new row into the <B>planets</B> table with the following data:\n"
   ]
  },
  {
   "cell_type": "markdown",
   "id": "7749b7c6",
   "metadata": {},
   "source": [
    "<pre style=\"margin: 0; padding=0\"><DIV style=\"font-family: Courier; border: 1px solid #dbdbdb; padding: 7px\">Mars    64.20    228</DIV></pre>"
   ]
  },
  {
   "cell_type": "code",
   "execution_count": null,
   "id": "bead5183",
   "metadata": {},
   "outputs": [],
   "source": [
    "import sqlite3\n",
    "\n",
    "conn = sqlite3.connect('../session_2.db')\n",
    "cursor = conn.cursor()\n"
   ]
  },
  {
   "cell_type": "markdown",
   "id": "cd8540b8",
   "metadata": {},
   "source": [
    "After committing the insert with <B>conn.commit()</B>, issue a SELECT query to confirm that the row has been inserted.\n"
   ]
  },
  {
   "cell_type": "code",
   "execution_count": null,
   "id": "314f5222",
   "metadata": {},
   "outputs": [],
   "source": []
  },
  {
   "cell_type": "markdown",
   "id": "14d97320",
   "metadata": {},
   "source": [
    " "
   ]
  },
  {
   "cell_type": "markdown",
   "id": "0d44f1c9",
   "metadata": {},
   "source": [
    "<div style=\"background-color: #ccffcc; padding: 10px; border: 2px solid green\"><B>2.35:  <U>Loop through database results and write rows to CSV</U>.  </B></div>"
   ]
  },
  {
   "cell_type": "markdown",
   "id": "899daee5",
   "metadata": {},
   "source": [
    "Select all rows from the <B>planets</B> table and insert them into a new file <B>../planets.csv</B> file that you open for writing and write row-by row using a <B>csv.writer</B> object.  (Make sure to include the <B>newline=''</B> argument when opening the file, and to close the write file at the end.)\n"
   ]
  },
  {
   "cell_type": "code",
   "execution_count": null,
   "id": "9e6238c5",
   "metadata": {},
   "outputs": [],
   "source": [
    "import sqlite3\n",
    "\n",
    "conn = sqlite3.connect('../session_2.db')\n",
    "cursor = conn.cursor()\n"
   ]
  },
  {
   "cell_type": "markdown",
   "id": "c0dfc845",
   "metadata": {},
   "source": [
    "The resulting file should look like this:"
   ]
  },
  {
   "cell_type": "markdown",
   "id": "1dce3f23",
   "metadata": {},
   "source": [
    "<pre style=\"margin: 0; padding=0\"><DIV style=\"font-family: Courier; border: 1px solid #dbdbdb; padding: 7px\">Mercury,0.33,58\n",
    "Venus,4.87,108\n",
    "Earth,5.98,150\n",
    "Mars,64.2,228</DIV></pre>"
   ]
  },
  {
   "cell_type": "markdown",
   "id": "4b890df4",
   "metadata": {},
   "source": [
    " "
   ]
  },
  {
   "cell_type": "markdown",
   "id": "c25cde26",
   "metadata": {},
   "source": [
    "JSON / MULTIDIMENSIONAL STRUCTURES"
   ]
  },
  {
   "cell_type": "markdown",
   "id": "24ddd5d0",
   "metadata": {},
   "source": [
    "<B>2.36:  <U>View and loop through list of dicts</U>.  Open <B>weather\\_newyork\\_lod.json</B> in a text editor or PyCharm.  This is a <I>list of dicts</I> -- a list where each item in the list is a dict.</B>"
   ]
  },
  {
   "cell_type": "markdown",
   "id": "5e45c85e",
   "metadata": {},
   "source": [
    "Now open this file in Python and load the JSON into a Python object with <B>json.load()</B>.\n",
    "\n",
    "Loop through the list of dicts and print each dict.\n"
   ]
  },
  {
   "cell_type": "code",
   "execution_count": null,
   "id": "3730c398",
   "metadata": {},
   "outputs": [],
   "source": [
    "import json\n",
    "\n",
    "fh = open('../weather_newyork_lod.json')\n",
    "lod = json.load(fh)\n"
   ]
  },
  {
   "cell_type": "markdown",
   "id": "2443084d",
   "metadata": {},
   "source": [
    " "
   ]
  },
  {
   "cell_type": "markdown",
   "id": "f410f710",
   "metadata": {},
   "source": [
    "<B>2.37:  <U>Print value from list of dicts</U>.  Again open the file <B>weather\\_newyork\\_lod.json</B> in Python and load the JSON into a Python object with <B>json.load()</B>.  </B>"
   ]
  },
  {
   "cell_type": "markdown",
   "id": "511bb3bc",
   "metadata": {},
   "source": [
    "Loop through each dict in the list of dicts and print just the 'date' column.\n"
   ]
  },
  {
   "cell_type": "code",
   "execution_count": null,
   "id": "ea917ee6",
   "metadata": {},
   "outputs": [],
   "source": [
    "import json\n",
    "\n",
    "fh = open('../weather_newyork_lod.json')\n",
    "lod = json.load(fh)\n"
   ]
  },
  {
   "cell_type": "markdown",
   "id": "0b8718ad",
   "metadata": {},
   "source": [
    " "
   ]
  },
  {
   "cell_type": "markdown",
   "id": "3265bf73",
   "metadata": {},
   "source": [
    "<B>2.38:  <U>View and loop through a dict of dicts</U>.  Open <B>weather\\_newyork\\_dod.json</B> in a text editor or PyCharm.  This is a <I>dict of dicts</I> -- a dict where each key in the dict is a string, and each value in the dict is a dict.</B>"
   ]
  },
  {
   "cell_type": "markdown",
   "id": "23fa80e2",
   "metadata": {},
   "source": [
    "Now open this file in Python and load the JSON into a Python object with <B>json.load()</B>.\n",
    "\n",
    "Loop through the dict of dicts and print each key and associated value in the dict.\n"
   ]
  },
  {
   "cell_type": "code",
   "execution_count": null,
   "id": "9d6c0bd0",
   "metadata": {},
   "outputs": [],
   "source": [
    "import json\n",
    "\n",
    "fh = open('../weather_newyork_dod.json')\n",
    "dod = json.load(fh)\n"
   ]
  },
  {
   "cell_type": "markdown",
   "id": "0c7f62bc",
   "metadata": {},
   "source": [
    " "
   ]
  },
  {
   "cell_type": "markdown",
   "id": "1a207b39",
   "metadata": {},
   "source": [
    "<B>2.39:  <U>Loop through a dict of dicts and print a value from each</U>.  Again open the file <B>weather\\_newyork\\_dod.json</B> in Python and load the JSON into a Python object with <B>json.load()</B>.  </B>"
   ]
  },
  {
   "cell_type": "markdown",
   "id": "efb0c090",
   "metadata": {},
   "source": [
    "Loop through each key and value in the dict of dicts and from each dict value print the 'mean\\_temp' value.\n"
   ]
  },
  {
   "cell_type": "code",
   "execution_count": null,
   "id": "9336b326",
   "metadata": {},
   "outputs": [],
   "source": [
    "import json\n",
    "\n",
    "fh = open('../weather_newyork_dod.json')\n",
    "dod = json.load(fh)\n"
   ]
  },
  {
   "cell_type": "markdown",
   "id": "e293baa4",
   "metadata": {},
   "source": [
    " "
   ]
  },
  {
   "cell_type": "markdown",
   "id": "dcf325d2",
   "metadata": {},
   "source": [
    "<B>2.40:  <U>Travel to an inner structure</U>.  Open the file <B>ip\\_routes.json</B> in a text editor and examine the structure.  Scroll down until you see a repeating dict of dicts nested within the structure.  </B>"
   ]
  },
  {
   "cell_type": "markdown",
   "id": "1dbdc4fc",
   "metadata": {},
   "source": [
    "Now open the file in your Python code and load it into an object with <B>json.load()</b>.  See if you can reach the repeating dict of dicts using a <I>single statement</I> of chained dict and/or list subscripts.\n",
    "Print this 'inner' structure (dict of dicts) using json.dumps() with the <B>indent=4</B> parameter argument.\n"
   ]
  },
  {
   "cell_type": "code",
   "execution_count": null,
   "id": "bc44dc5e",
   "metadata": {},
   "outputs": [],
   "source": [
    "import json\n",
    "\n",
    "fh = open('../ip_routes.json')\n",
    "struct = json.load(fh)\n"
   ]
  },
  {
   "cell_type": "markdown",
   "id": "6707d687",
   "metadata": {},
   "source": [
    " "
   ]
  },
  {
   "cell_type": "markdown",
   "id": "36cf8d90",
   "metadata": {},
   "source": [
    "<B>2.41:  <U>Build a dict from a CSV file with CSV header keys</U>.  Use csv to open <B>revenue.csv</B> in a Python file and select out:  the header row and the first data row (hint:  use <B>next()</B> on the <B>reader</B> object to get one line at a time from the file).  </B>"
   ]
  },
  {
   "cell_type": "markdown",
   "id": "b8dae032",
   "metadata": {},
   "source": [
    "Now build a dict from the header row and first data row with keys that match the header line.\n",
    "\n",
    "<U>Tip</u>:  use <B>dict(zip(headers, data\\_row))</B> to build the dict:  <B>zip()</B> takes two lists and \"zips\" them together like a zipper to pair up the first items in each list, the second items in each list, etc.  <B>zip(headers, data\\_row)</b> will pair up the column heads with data from the row, and passing this to <B>dict()</B> will transform to a dictionary.\n"
   ]
  },
  {
   "cell_type": "code",
   "execution_count": null,
   "id": "98669304",
   "metadata": {},
   "outputs": [],
   "source": [
    "import csv\n",
    "\n",
    "fh = open('../revenue.csv')\n",
    "reader = csv.reader(fh)\n"
   ]
  },
  {
   "cell_type": "markdown",
   "id": "ca0b3772",
   "metadata": {},
   "source": [
    " "
   ]
  },
  {
   "cell_type": "markdown",
   "id": "e706716f",
   "metadata": {},
   "source": [
    "<B>2.42:  <U>Build a list of dicts</U>.  Incorporating what you did in the previous assignment, now loop through the file and build a dict of header keys and row values <I>for each data row</I> in the <B>revenue.csv</B> file.  Print each of the dicts as you build them.  </B>"
   ]
  },
  {
   "cell_type": "markdown",
   "id": "833e18c4",
   "metadata": {},
   "source": [
    "Now initialize a new empty list before the loop begins.  As you build each dict, append the dict to the list.\n",
    "\n",
    "Print the resulting structure once completed.\n",
    "\n",
    "Finally, use <B>print(json.dumps(lod, indent=4))<B> to print the structure in a friendly format.\n"
   ]
  },
  {
   "cell_type": "code",
   "execution_count": null,
   "id": "6539b970",
   "metadata": {},
   "outputs": [],
   "source": [
    "import csv\n",
    "import json\n",
    "\n",
    "fh = open('../revenue.csv')\n",
    "reader = csv.reader(fh)\n",
    "\n",
    "lod = []\n",
    "\n",
    "header = next(reader)\n"
   ]
  },
  {
   "cell_type": "markdown",
   "id": "e9f3ce67",
   "metadata": {},
   "source": [
    " "
   ]
  },
  {
   "cell_type": "markdown",
   "id": "3fcc9982",
   "metadata": {},
   "source": [
    "<B>2.43:  <U>Build a dict of dicts</U>.  Adapting what you did in the prior solution, now loop through the file and build a dict of header keys and row values <I>for each data row</I> in the <B>revenue.csv</B> file.  Print each of the dicts as you build them.  </B>"
   ]
  },
  {
   "cell_type": "markdown",
   "id": "768f87e1",
   "metadata": {},
   "source": [
    "Now initialize a new empty dict before the loop begins.  As you build each dict, add the \"inner\" dict to the \"outer\" dict:  make the company name the key in the \"outer\" dict, and the value the \"inner\" dict.\n",
    "\n",
    "Print the resulting structure once completed.\n",
    "\n",
    "Finally, use <B>print(json.dumps(dod, indent=4))</B> to print the structure in a friendly (\"pretty\") format.\n"
   ]
  },
  {
   "cell_type": "code",
   "execution_count": null,
   "id": "5ff6dc89",
   "metadata": {},
   "outputs": [],
   "source": [
    "import csv\n",
    "import json\n",
    "\n",
    "fh = open('../revenue.csv')\n",
    "reader = csv.reader(fh)\n",
    "\n",
    "dod = {}\n",
    "\n",
    "header = next(reader)\n"
   ]
  },
  {
   "cell_type": "markdown",
   "id": "017489a3",
   "metadata": {},
   "source": [
    " "
   ]
  },
  {
   "cell_type": "markdown",
   "id": "84ce45b5",
   "metadata": {},
   "source": [
    "LAB 3"
   ]
  },
  {
   "cell_type": "markdown",
   "id": "59d8ae4e",
   "metadata": {},
   "source": [
    "<div style=\"background-color: #ccffcc; padding: 10px; border: 2px solid green\"><B>2.44:  <U>Access item in a list of lists</U>. </B></div>"
   ]
  },
  {
   "cell_type": "code",
   "execution_count": null,
   "id": "e315e257",
   "metadata": {},
   "outputs": [],
   "source": [
    "lol = [\n",
    "    [ 1816,   6.7,  'Indiana' ],\n",
    "    [ 1788,  10.6,  'Georgia' ],\n",
    "    [ 1819,   4.9,  'Alabama' ]\n",
    "]\n"
   ]
  },
  {
   "cell_type": "markdown",
   "id": "a14427e1",
   "metadata": {},
   "source": [
    "Access the value <B>10.6</B> and print it.\n"
   ]
  },
  {
   "cell_type": "markdown",
   "id": "fd930851",
   "metadata": {},
   "source": [
    "<U>Expected Output</U>:  "
   ]
  },
  {
   "cell_type": "markdown",
   "id": "d4147164",
   "metadata": {},
   "source": [
    "<pre style=\"margin: 0; padding=0\"><DIV style=\"font-family: Courier; border: 1px solid #dbdbdb; padding: 7px\">10.6</DIV></pre>"
   ]
  },
  {
   "cell_type": "markdown",
   "id": "840b0ea2",
   "metadata": {},
   "source": [
    " "
   ]
  },
  {
   "cell_type": "markdown",
   "id": "bceeaec8",
   "metadata": {},
   "source": [
    "<div style=\"background-color: #ccffcc; padding: 10px; border: 2px solid green\"><B>2.45:  <U>Loop through and print 'column' values in a list of lists</U>.<</B></div>"
   ]
  },
  {
   "cell_type": "markdown",
   "id": "a3700fad",
   "metadata": {},
   "source": [
    "Using a loop, print the state names one after the other.\n"
   ]
  },
  {
   "cell_type": "code",
   "execution_count": null,
   "id": "da482aeb",
   "metadata": {},
   "outputs": [],
   "source": [
    "lol = [\n",
    "    [ 1816,   6.7,  'Indiana' ],\n",
    "    [ 1788,  10.6,  'Georgia' ],\n",
    "    [ 1819,  4.9,   'Alabama' ]\n",
    "]"
   ]
  },
  {
   "cell_type": "markdown",
   "id": "0694c948",
   "metadata": {},
   "source": [
    "<U>Expected Output</U>:  "
   ]
  },
  {
   "cell_type": "markdown",
   "id": "ad547ff0",
   "metadata": {},
   "source": [
    "<pre style=\"margin: 0; padding=0\"><DIV style=\"font-family: Courier; border: 1px solid #dbdbdb; padding: 7px\">Indiana\n",
    "Georgia\n",
    "Alabama</DIV></pre>"
   ]
  },
  {
   "cell_type": "markdown",
   "id": "6609d7aa",
   "metadata": {},
   "source": [
    " "
   ]
  },
  {
   "cell_type": "markdown",
   "id": "2c7b55f1",
   "metadata": {},
   "source": [
    "<div style=\"background-color: #ccffcc; padding: 10px; border: 2px solid green\"><B>2.46:  <U>Loop through and print 'column' values in a list of dicts</U>. </B></div>"
   ]
  },
  {
   "cell_type": "markdown",
   "id": "a3279418",
   "metadata": {},
   "source": [
    "Using a loop, print the years one after the other."
   ]
  },
  {
   "cell_type": "code",
   "execution_count": null,
   "id": "b6ae4197",
   "metadata": {},
   "outputs": [],
   "source": [
    "lol = [\n",
    "    { 'name': 'Indiana',\n",
    "      'year': '1816',\n",
    "      'pop':  6.7\n",
    "    },\n",
    "    { 'name': 'Georgia',\n",
    "      'year': '1788',\n",
    "      'pop':  10.6\n",
    "    },\n",
    "    { 'name': 'Alabama',\n",
    "      'year': '1819',\n",
    "      'pop':  4.9\n",
    "    }\n",
    "]\n",
    "\n"
   ]
  },
  {
   "cell_type": "markdown",
   "id": "57fd3571",
   "metadata": {},
   "source": [
    "<U>Expected Output</U>:  "
   ]
  },
  {
   "cell_type": "markdown",
   "id": "14081f6e",
   "metadata": {},
   "source": [
    "<pre style=\"margin: 0; padding=0\"><DIV style=\"font-family: Courier; border: 1px solid #dbdbdb; padding: 7px\">1816\n",
    "1788\n",
    "1819</DIV></pre>"
   ]
  },
  {
   "cell_type": "markdown",
   "id": "79bb5f51",
   "metadata": {},
   "source": [
    " "
   ]
  },
  {
   "cell_type": "markdown",
   "id": "9f933347",
   "metadata": {},
   "source": [
    "<div style=\"background-color: #ccffcc; padding: 10px; border: 2px solid green\"><B>2.47:  <U>Access item in a dict of dicts</U>.  </B></div>"
   ]
  },
  {
   "cell_type": "markdown",
   "id": "5a5f6061",
   "metadata": {},
   "source": [
    "In a single statement, print <B>1819</B>."
   ]
  },
  {
   "cell_type": "code",
   "execution_count": null,
   "id": "986bdb1f",
   "metadata": {},
   "outputs": [],
   "source": [
    "dod = {\n",
    "    'Indiana':  {\n",
    "                   'year': '1816',\n",
    "                   'pop':  6.7\n",
    "                },\n",
    "    'Georgia':  {\n",
    "                   'year': '1788',\n",
    "                   'pop':  10.6\n",
    "                },\n",
    "    'Alabama':  {\n",
    "                   'year': '1819',\n",
    "                   'pop':  4.9\n",
    "                }\n",
    "}"
   ]
  },
  {
   "cell_type": "markdown",
   "id": "0833ba26",
   "metadata": {},
   "source": [
    "<U>Expected Output</U>:  "
   ]
  },
  {
   "cell_type": "markdown",
   "id": "030d8973",
   "metadata": {},
   "source": [
    "<pre style=\"margin: 0; padding=0\"><DIV style=\"font-family: Courier; border: 1px solid #dbdbdb; padding: 7px\">1819</DIV></pre>"
   ]
  },
  {
   "cell_type": "markdown",
   "id": "5d7e50cc",
   "metadata": {},
   "source": [
    " "
   ]
  },
  {
   "cell_type": "markdown",
   "id": "2ca9954a",
   "metadata": {},
   "source": [
    "<div style=\"background-color: #ccffcc; padding: 10px; border: 2px solid green\"><B>2.48:  <U>Loop through and print 'column' values in a dict of dicts</U>.  </B></div>"
   ]
  },
  {
   "cell_type": "markdown",
   "id": "5410cbaa",
   "metadata": {},
   "source": [
    "Using a loop, print the populations, one after the other."
   ]
  },
  {
   "cell_type": "code",
   "execution_count": null,
   "id": "a8c054af",
   "metadata": {},
   "outputs": [],
   "source": [
    "dod = {\n",
    "    'Indiana':  {\n",
    "                   'year': '1816',\n",
    "                   'pop':  6.7\n",
    "                },\n",
    "    'Georgia':  {\n",
    "                   'year': '1788',\n",
    "                   'pop':  10.6\n",
    "                },\n",
    "    'Alabama':  {\n",
    "                   'year': '1819',\n",
    "                   'pop':  4.9\n",
    "                }\n",
    "}"
   ]
  },
  {
   "cell_type": "markdown",
   "id": "9346ba4d",
   "metadata": {},
   "source": [
    "<U>Expected Output</U>:  "
   ]
  },
  {
   "cell_type": "markdown",
   "id": "853be80e",
   "metadata": {},
   "source": [
    "<pre style=\"margin: 0; padding=0\"><DIV style=\"font-family: Courier; border: 1px solid #dbdbdb; padding: 7px\">6.7\n",
    "10.6\n",
    "4.9</DIV></pre>"
   ]
  },
  {
   "cell_type": "markdown",
   "id": "9f2bb380",
   "metadata": {},
   "source": [
    " "
   ]
  },
  {
   "cell_type": "markdown",
   "id": "1629e739",
   "metadata": {},
   "source": [
    "<div style=\"background-color: #ccffcc; padding: 10px; border: 2px solid green\"><B>2.49:  <U>Access an item in a complex structure</U>.  </B></div>"
   ]
  },
  {
   "cell_type": "markdown",
   "id": "d84ef206",
   "metadata": {},
   "source": [
    "Print the value <B>9.7</B> in the below structure:"
   ]
  },
  {
   "cell_type": "code",
   "execution_count": null,
   "id": "68044f25",
   "metadata": {},
   "outputs": [],
   "source": [
    "struct = { 'version':  1.1,\n",
    "           'data': {\n",
    "                'states': {\n",
    "                    'Indiana':  {\n",
    "                                   'year': '1816',\n",
    "                                   'pop':  [ 6.7, 6.5, 6.1 ]\n",
    "                                },\n",
    "                    'Georgia':  {\n",
    "                                   'year': '1788',\n",
    "                                   'pop':  [ 10.6, 9.7, 8.2 ]\n",
    "                                },\n",
    "                    'Alabama':  {\n",
    "                                   'year': '1819',\n",
    "                                   'pop':  [ 4.9, 4.8, 4.4 ]\n",
    "                                }\n",
    "                },\n",
    "                'pop_years':  [ '2019', '2010', '2000']\n",
    "            }\n",
    "        }"
   ]
  },
  {
   "cell_type": "markdown",
   "id": "6c27804a",
   "metadata": {},
   "source": [
    "<U>Expected Output</U>:  "
   ]
  },
  {
   "cell_type": "markdown",
   "id": "d589b296",
   "metadata": {},
   "source": [
    "<pre style=\"margin: 0; padding=0\"><DIV style=\"font-family: Courier; border: 1px solid #dbdbdb; padding: 7px\">9.7</DIV></pre>"
   ]
  },
  {
   "cell_type": "markdown",
   "id": "7524cbd9",
   "metadata": {},
   "source": [
    " "
   ]
  },
  {
   "cell_type": "markdown",
   "id": "5f24eeae",
   "metadata": {},
   "source": [
    "<div style=\"background-color: #ccffcc; padding: 10px; border: 2px solid green\"><B>2.50:  <U>Loop through and print 'column' values in a complex structure</U>.  </B></div>"
   ]
  },
  {
   "cell_type": "markdown",
   "id": "bce356e2",
   "metadata": {},
   "source": [
    "Using a loop, print the values <B>1816</B>, <B>1788</B> and <B>1819</B> from the below structure:"
   ]
  },
  {
   "cell_type": "code",
   "execution_count": null,
   "id": "983467fe",
   "metadata": {},
   "outputs": [],
   "source": [
    "struct = { 'version':  1.1,\n",
    "           'data': {\n",
    "                'states': {\n",
    "                    'Indiana':  {\n",
    "                                   'year': '1816',\n",
    "                                   'pop':  [ 6.7, 6.5, 6.1 ]\n",
    "                                },\n",
    "                    'Georgia':  {\n",
    "                                   'year': '1788',\n",
    "                                   'pop':  [ 10.6, 9.7, 8.2 ]\n",
    "                                },\n",
    "                    'Alabama':  {\n",
    "                                   'year': '1819',\n",
    "                                   'pop':  [ 4.9, 4.8, 4.4 ]\n",
    "                                }\n",
    "                },\n",
    "                'pop_years':  [ '2019', '2010', '2000']\n",
    "            }\n",
    "        }"
   ]
  },
  {
   "cell_type": "markdown",
   "id": "a1c2229d",
   "metadata": {},
   "source": [
    "<U>Expected Output</U>:  "
   ]
  },
  {
   "cell_type": "markdown",
   "id": "d27f531c",
   "metadata": {},
   "source": [
    "<pre style=\"margin: 0; padding=0\"><DIV style=\"font-family: Courier; border: 1px solid #dbdbdb; padding: 7px\">1816\n",
    "1788\n",
    "1819</DIV></pre>"
   ]
  },
  {
   "cell_type": "markdown",
   "id": "81d0a112",
   "metadata": {},
   "source": [
    " "
   ]
  },
  {
   "cell_type": "markdown",
   "id": "d6565947",
   "metadata": {},
   "source": [
    "<div style=\"background-color: #ccffcc; padding: 10px; border: 2px solid green\"><B>2.51:  <U>Perform a loop within a loop within a complex structure</U>.  </B></div>"
   ]
  },
  {
   "cell_type": "markdown",
   "id": "577ec634",
   "metadata": {},
   "source": [
    "Using a loop nested within another 'for' loop, print each state, print and all 3 population values.  For clarity, try indenting each population value, and printing an extra blank line after each state."
   ]
  },
  {
   "cell_type": "code",
   "execution_count": null,
   "id": "5aa01427",
   "metadata": {},
   "outputs": [],
   "source": [
    "struct = { 'version':  1.1,\n",
    "           'data': {\n",
    "                'states': {\n",
    "                    'Indiana':  {\n",
    "                                   'year': '1816',\n",
    "                                   'pop':  [ 6.7, 6.5, 6.1 ]\n",
    "                                },\n",
    "                    'Georgia':  {\n",
    "                                   'year': '1788',\n",
    "                                   'pop':  [ 10.6, 9.7, 8.2 ]\n",
    "                                },\n",
    "                    'Alabama':  {\n",
    "                                   'year': '1819',\n",
    "                                   'pop':  [ 4.9, 4.8, 4.4 ]\n",
    "                                }\n",
    "                },\n",
    "                'pop_years':  [ '2019', '2010', '2000']\n",
    "            }\n",
    "        }\n"
   ]
  },
  {
   "cell_type": "markdown",
   "id": "a9b5ffd1",
   "metadata": {},
   "source": [
    "<U>Expected Output</U>:  "
   ]
  },
  {
   "cell_type": "markdown",
   "id": "f981bb42",
   "metadata": {},
   "source": [
    "<pre style=\"margin: 0; padding=0\"><DIV style=\"font-family: Courier; border: 1px solid #dbdbdb; padding: 7px\">Indiana\n",
    "  6.7\n",
    "  6.5\n",
    "  6.1\n",
    "\n",
    "Georgia\n",
    "  10.6\n",
    "  9.7\n",
    "  8.2\n",
    "\n",
    "Alabama\n",
    "  4.9\n",
    "  4.8\n",
    "  4.4</DIV></pre>"
   ]
  },
  {
   "cell_type": "markdown",
   "id": "66830cb9",
   "metadata": {},
   "source": [
    " "
   ]
  }
 ],
 "metadata": {},
 "nbformat": 4,
 "nbformat_minor": 5
}
