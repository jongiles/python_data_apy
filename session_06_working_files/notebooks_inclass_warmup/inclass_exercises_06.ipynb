{
 "cells": [
  {
   "cell_type": "markdown",
   "id": "04de04d7",
   "metadata": {},
   "source": [
    "# In-Class Exercises, Session 6"
   ]
  },
  {
   "cell_type": "markdown",
   "id": "c53679b0",
   "metadata": {},
   "source": [
    "<U>Notes if you are using Jupyter Notebook</U>:  to call <B>exit()</B> from a notebook, please use <B>sys.exit()</B> (requires <B>import sys</B>).\n",
    "\n",
    "If a strange error occurs, it may be because Jupyter retains variables from all executed cells.  To reset the notebook, click 'Restart Kernel' (the circular arrow) -- this will not undo any changes made."
   ]
  },
  {
   "cell_type": "markdown",
   "id": "9a7d6e47",
   "metadata": {},
   "source": [
    " "
   ]
  },
  {
   "cell_type": "markdown",
   "id": "d4919838",
   "metadata": {},
   "source": [
    "CLASSES - INSTANCES AND METHODS"
   ]
  },
  {
   "cell_type": "markdown",
   "id": "130c6056",
   "metadata": {},
   "source": [
    "<B>6.1:  <U>Define a class</U>.  </B>"
   ]
  },
  {
   "cell_type": "markdown",
   "id": "92ae3f83",
   "metadata": {},
   "source": [
    "Use the <B>class</B> statement with name <B>MyClass</B> (or you may substitute a name of your own choice).  To fill the otherwise empty block, use the <B>pass</B> statement.\n",
    "\n",
    "Initialize an instance of the class and print its type to show that it is an instance of the class.\n"
   ]
  },
  {
   "cell_type": "code",
   "execution_count": null,
   "id": "8ca263b4",
   "metadata": {},
   "outputs": [],
   "source": []
  },
  {
   "cell_type": "markdown",
   "id": "ff839f21",
   "metadata": {},
   "source": [
    "<U>Expected Output</U>:  "
   ]
  },
  {
   "cell_type": "markdown",
   "id": "a8089ed5",
   "metadata": {},
   "source": [
    "<pre style=\"margin: 0; padding=0\"><DIV style=\"font-family: Courier; border: 1px solid #dbdbdb; padding: 7px\"><class '__main__.MyClass'></DIV></pre>"
   ]
  },
  {
   "cell_type": "markdown",
   "id": "ddecf9dc",
   "metadata": {},
   "source": [
    " "
   ]
  },
  {
   "cell_type": "markdown",
   "id": "52dd372e",
   "metadata": {},
   "source": [
    "<B>6.2:  <U>Create an 'instance' method</U>.</B>"
   ]
  },
  {
   "cell_type": "markdown",
   "id": "e026590d",
   "metadata": {},
   "source": [
    "Add to the class <B>Hola</B> below a new method, <B>saludar()</B>, that prints \"bienvenidos a todos\" (or whatever greeting you'd prefer) when it is called.\n"
   ]
  },
  {
   "cell_type": "code",
   "execution_count": null,
   "id": "501a6d2c",
   "metadata": {},
   "outputs": [],
   "source": [
    "class Hola:\n",
    "    \"\"\" una clase que is amigable \"\"\"\n",
    "\n",
    "    # your code here\n",
    "\n",
    "\n",
    "yo = Hola()\n",
    "\n",
    "yo.saludar()     # should print the greeting"
   ]
  },
  {
   "cell_type": "markdown",
   "id": "a2c1971f",
   "metadata": {},
   "source": [
    "<U>Expected Output</U>:  "
   ]
  },
  {
   "cell_type": "markdown",
   "id": "bd795776",
   "metadata": {},
   "source": [
    "<pre style=\"margin: 0; padding=0\"><DIV style=\"font-family: Courier; border: 1px solid #dbdbdb; padding: 7px\">bienvenidos a todos</DIV></pre>"
   ]
  },
  {
   "cell_type": "markdown",
   "id": "fff9cd59",
   "metadata": {},
   "source": [
    " "
   ]
  },
  {
   "cell_type": "markdown",
   "id": "9c8ddc8d",
   "metadata": {},
   "source": [
    "<B>6.3:  <U>Add argument and return value to method</U>.  </B>"
   ]
  },
  {
   "cell_type": "markdown",
   "id": "520a945e",
   "metadata": {},
   "source": [
    "Add the method <B>doubleit()</B> below, that doubles the value passed to it.\n"
   ]
  },
  {
   "cell_type": "code",
   "execution_count": null,
   "id": "32dc7939",
   "metadata": {},
   "outputs": [],
   "source": [
    "class Numbers:\n",
    "    \"\"\" various number methods \"\"\"\n",
    "\n",
    "\n",
    "num = Numbers()\n",
    "val = num.doubleit(5)\n",
    "print(val)               # 10\n",
    "\n",
    "val2 = num.doubleit(100)\n",
    "print(val2)              # 200"
   ]
  },
  {
   "cell_type": "markdown",
   "id": "15ec295a",
   "metadata": {},
   "source": [
    "<U>Expected Output</U>:  "
   ]
  },
  {
   "cell_type": "markdown",
   "id": "02c41de2",
   "metadata": {},
   "source": [
    "<pre style=\"margin: 0; padding=0\"><DIV style=\"font-family: Courier; border: 1px solid #dbdbdb; padding: 7px\">10\n",
    "200</DIV></pre>"
   ]
  },
  {
   "cell_type": "markdown",
   "id": "74a100d6",
   "metadata": {},
   "source": [
    " "
   ]
  },
  {
   "cell_type": "markdown",
   "id": "46e1bfb7",
   "metadata": {},
   "source": [
    "LAB 1"
   ]
  },
  {
   "cell_type": "markdown",
   "id": "01fcfd44",
   "metadata": {},
   "source": [
    "<div style=\"background-color: #ccffcc; padding: 10px; border: 2px solid green\"><B>6.4:  Create a class <B>Time</B> that has a method <B>get\\_time()</B> that returns the current time.  Call as shown.  </B></div>"
   ]
  },
  {
   "cell_type": "markdown",
   "id": "df8345ea",
   "metadata": {},
   "source": [
    "(A string showing the current time can be obtained from the <B>time</B> module using <B>time.ctime()</B>.)\n"
   ]
  },
  {
   "cell_type": "code",
   "execution_count": null,
   "id": "f6d03d97",
   "metadata": {},
   "outputs": [],
   "source": [
    "import time\n",
    "\n",
    "# your code here\n",
    "\n",
    "\n",
    "obj = Time()\n",
    "print(obj.get_time())  # should show the current time"
   ]
  },
  {
   "cell_type": "markdown",
   "id": "51b097e9",
   "metadata": {},
   "source": [
    "<U>Expected Output</U>:  "
   ]
  },
  {
   "cell_type": "markdown",
   "id": "5b9f0e32",
   "metadata": {},
   "source": [
    "<pre style=\"margin: 0; padding=0\"><DIV style=\"font-family: Courier; border: 1px solid #dbdbdb; padding: 7px\">Sat Oct 17 18:41:34 2020    (as your specific date and time)</DIV></pre>"
   ]
  },
  {
   "cell_type": "markdown",
   "id": "58dddd17",
   "metadata": {},
   "source": [
    " "
   ]
  },
  {
   "cell_type": "markdown",
   "id": "605c3a08",
   "metadata": {},
   "source": [
    "<div style=\"background-color: #ccffcc; padding: 10px; border: 2px solid green\"><B>6.5:  Create a class <B>Random</B> that has a method <B>get\\_rand(val)</B> that returns a random number from 1 to the specified value.  Call as shown.  </B></div>"
   ]
  },
  {
   "cell_type": "markdown",
   "id": "c5410c4e",
   "metadata": {},
   "source": [
    "(A random number can be generated with <B>random.randint(x, y)</b> where <B>x</B> and <B>y</B> are the minimum and maximum values.)\n"
   ]
  },
  {
   "cell_type": "code",
   "execution_count": null,
   "id": "e651fe13",
   "metadata": {},
   "outputs": [],
   "source": [
    "import random\n",
    "\n",
    "# your code here\n",
    "\n",
    "\n",
    "\n",
    "\n",
    "obj = Random()\n",
    "\n",
    "val = obj.get_rand(5)     # random number from 1-5\n",
    "print(val)\n",
    "\n",
    "val2 = obj.get_rand(18)   # random number from 1-18\n",
    "print(val2)"
   ]
  },
  {
   "cell_type": "markdown",
   "id": "51fa44e5",
   "metadata": {},
   "source": [
    "<U>Expected Output</U>:  "
   ]
  },
  {
   "cell_type": "markdown",
   "id": "1f22230b",
   "metadata": {},
   "source": [
    "<pre style=\"margin: 0; padding=0\"><DIV style=\"font-family: Courier; border: 1px solid #dbdbdb; padding: 7px\">4\n",
    "3</DIV></pre>"
   ]
  },
  {
   "cell_type": "markdown",
   "id": "2a6fdd52",
   "metadata": {},
   "source": [
    " "
   ]
  },
  {
   "cell_type": "markdown",
   "id": "c1b645b0",
   "metadata": {},
   "source": [
    "<div style=\"background-color: #ccffcc; padding: 10px; border: 2px solid green\"><B>6.6:  Create a class <B>Math</B> with method <B>add()</B> that takes two integer arguments and returns the values summed.  </B></div>"
   ]
  },
  {
   "cell_type": "code",
   "execution_count": null,
   "id": "9227e989",
   "metadata": {},
   "outputs": [],
   "source": [
    "# your code here\n",
    "\n",
    "\n",
    "\n",
    "obj = Math()\n",
    "\n",
    "mysum = obj.add(5, 10)        # 15\n",
    "print(mysum)\n",
    "\n",
    "mysum2 = obj.add(100, 150)    # 250\n",
    "print(mysum2)"
   ]
  },
  {
   "cell_type": "markdown",
   "id": "ea0dc927",
   "metadata": {},
   "source": [
    "<U>Expected Output</U>:  "
   ]
  },
  {
   "cell_type": "markdown",
   "id": "fa3278e4",
   "metadata": {},
   "source": [
    "<pre style=\"margin: 0; padding=0\"><DIV style=\"font-family: Courier; border: 1px solid #dbdbdb; padding: 7px\">15\n",
    "250</DIV></pre>"
   ]
  },
  {
   "cell_type": "markdown",
   "id": "29155554",
   "metadata": {},
   "source": [
    " "
   ]
  },
  {
   "cell_type": "markdown",
   "id": "ee46a5e3",
   "metadata": {},
   "source": [
    "CLASSES - CONSTRUCTOR, CLASS ATTRIBUTES AND METHODS"
   ]
  },
  {
   "cell_type": "markdown",
   "id": "0c56f1a3",
   "metadata": {},
   "source": [
    "<B>6.7:  <U>Demonstration:  note the unique identifier of <B>self</B> and an instance from a class</U>.  </B>"
   ]
  },
  {
   "cell_type": "markdown",
   "id": "93a0647d",
   "metadata": {},
   "source": [
    "At the bottom of the code below, print <B>obj</B>, then call <B>obj.something()</B>, noting that this method prints <B>self</B>.  Compare the hex codes that identify the instance.\n",
    "\n",
    "Use a <B>print()</B> statement to create a blank line.\n",
    "\n",
    "Next, print <B>obj2</B> and call <B>obj2.something()</B>, and note the output, particularly the hex codes.\n"
   ]
  },
  {
   "cell_type": "code",
   "execution_count": null,
   "id": "c8f03a69",
   "metadata": {},
   "outputs": [],
   "source": [
    "class Do:\n",
    "    def something(self):\n",
    "        print(self)\n",
    "\n",
    "\n",
    "obj = Do()\n",
    "obj2 = Do()\n",
    "\n",
    "# your code here"
   ]
  },
  {
   "cell_type": "markdown",
   "id": "c9959aaa",
   "metadata": {},
   "source": [
    "<U>Expected Output</U>:  "
   ]
  },
  {
   "cell_type": "markdown",
   "id": "6a235375",
   "metadata": {},
   "source": [
    "<pre style=\"margin: 0; padding=0\"><DIV style=\"font-family: Courier; border: 1px solid #dbdbdb; padding: 7px\"><__main__.Do object at 0x10d648350>\n",
    "<__main__.Do object at 0x10d648350>\n",
    "\n",
    "<__main__.Do object at 0x10d648390>\n",
    "<__main__.Do object at 0x10d648390></DIV></pre>"
   ]
  },
  {
   "cell_type": "markdown",
   "id": "54bc9f75",
   "metadata": {},
   "source": [
    " "
   ]
  },
  {
   "cell_type": "markdown",
   "id": "6d474ec7",
   "metadata": {},
   "source": [
    "<B>6.8:  <U>Create an \\_\\_init\\_\\_() method</U>.  </B>"
   ]
  },
  {
   "cell_type": "markdown",
   "id": "da14fd8e",
   "metadata": {},
   "source": [
    "Add a method to the below class, <B>\\_\\_init\\_\\_(self)</B> that inside the function announces and prints the argument <B>self</B>, i.e. <B>print(f'self:    {self}')</B>.\n",
    "\n",
    "Construct 2 new instances, and then print each instance.  Put a blank line between each instance.\n"
   ]
  },
  {
   "cell_type": "code",
   "execution_count": null,
   "id": "07a4b227",
   "metadata": {},
   "outputs": [],
   "source": [
    "class Be:\n",
    "    \"\"\" this class is something! \"\"\"\n",
    "\n",
    "\n",
    "obj1 = Be()\n",
    "print(f'object:  {obj1}')\n",
    "\n",
    "print()\n",
    "\n",
    "obj2 = Be()\n",
    "print(f'object:  {obj2})"
   ]
  },
  {
   "cell_type": "markdown",
   "id": "61c88337",
   "metadata": {},
   "source": [
    "<U>Expected Output</U>:  "
   ]
  },
  {
   "cell_type": "markdown",
   "id": "76e16d93",
   "metadata": {},
   "source": [
    "<pre style=\"margin: 0; padding=0\"><DIV style=\"font-family: Courier; border: 1px solid #dbdbdb; padding: 7px\">object:  <__main__.Be object at 0x10d648250>\n",
    "self:    <__main__.Be object at 0x10d648250>\n",
    "\n",
    "object:  <__main__.Be object at 0x10d648a50>\n",
    "self:    <__main__.Be object at 0x10d648a50></DIV></pre>"
   ]
  },
  {
   "cell_type": "markdown",
   "id": "9122a0d4",
   "metadata": {},
   "source": [
    "(Note that the above <B>0x</B> hex codes will not be the same as mine, but the values in each pair should match.)"
   ]
  },
  {
   "cell_type": "markdown",
   "id": "57ff8418",
   "metadata": {},
   "source": [
    " "
   ]
  },
  {
   "cell_type": "markdown",
   "id": "2fda64e0",
   "metadata": {},
   "source": [
    "<B>6.9:  <U>Set an instance attribute in \\_\\_init\\_\\_()</U>.  </B>"
   ]
  },
  {
   "cell_type": "markdown",
   "id": "00f3d2d2",
   "metadata": {},
   "source": [
    "Create a method <B>\\_\\_init\\_\\_(self, num)</B> that sets <B>num</B>in <B>self</B> as a <B>.value</B> attribute.  At bottom, print <B>obj.value</B> to see the value.\n"
   ]
  },
  {
   "cell_type": "code",
   "execution_count": null,
   "id": "389c80c0",
   "metadata": {},
   "outputs": [],
   "source": [
    "class Live:\n",
    "    \"\"\" a class that just wants to live \"\"\"\n",
    "    # your __init__() code here\n",
    "\n",
    "\n",
    "obj = Live(5)\n",
    "\n",
    "# print obj.value here"
   ]
  },
  {
   "cell_type": "markdown",
   "id": "c4f5d7fb",
   "metadata": {},
   "source": [
    "<U>Expected Output</U>:  "
   ]
  },
  {
   "cell_type": "markdown",
   "id": "67d17460",
   "metadata": {},
   "source": [
    "<pre style=\"margin: 0; padding=0\"><DIV style=\"font-family: Courier; border: 1px solid #dbdbdb; padding: 7px\">5</DIV></pre>"
   ]
  },
  {
   "cell_type": "markdown",
   "id": "f3d588da",
   "metadata": {},
   "source": [
    " "
   ]
  },
  {
   "cell_type": "markdown",
   "id": "af4834ba",
   "metadata": {},
   "source": [
    "<B>6.10:  <U>Create a \"getter\" method</U>.  </B>"
   ]
  },
  {
   "cell_type": "markdown",
   "id": "b7f4cf8b",
   "metadata": {},
   "source": [
    "Create a method <B>get\\_value()</B> that returns the <B>.value</B> attribute from the instance.\n"
   ]
  },
  {
   "cell_type": "code",
   "execution_count": null,
   "id": "cfe5cdcf",
   "metadata": {},
   "outputs": [],
   "source": [
    "class Say:\n",
    "    def __init__(self, val):\n",
    "        self.thisval = val\n",
    "\n",
    "    # your code here\n",
    "\n",
    "\n",
    "obj = Say(100)\n",
    "\n",
    "vl = obj.get_value()\n",
    "print(vl)                # 100"
   ]
  },
  {
   "cell_type": "markdown",
   "id": "17e73a47",
   "metadata": {},
   "source": [
    "<U>Expected Output</U>:  "
   ]
  },
  {
   "cell_type": "markdown",
   "id": "35a8eb6c",
   "metadata": {},
   "source": [
    "<pre style=\"margin: 0; padding=0\"><DIV style=\"font-family: Courier; border: 1px solid #dbdbdb; padding: 7px\">100</DIV></pre>"
   ]
  },
  {
   "cell_type": "markdown",
   "id": "959fdf08",
   "metadata": {},
   "source": [
    " "
   ]
  },
  {
   "cell_type": "markdown",
   "id": "78abac6d",
   "metadata": {},
   "source": [
    "<B>6.11:  <U>Demonstrate class attributes</U>.  </B>"
   ]
  },
  {
   "cell_type": "markdown",
   "id": "e1e4f9a2",
   "metadata": {},
   "source": [
    "In the class below, set a class variable <B>cvar</B> to value <B>1000</B>.\n",
    "\n",
    "Print the value of <B>cvar</B> in three places:  1) instance <B>a</B> (<B>a.cvar</B>); 2) instance <B>b</B> (<B>b.cvar</B>); 3) the class itself (<B>Something.cvar</B>)\n",
    "\n",
    "Also print the <B>.attr</B> attribute from each of the two instances.\n"
   ]
  },
  {
   "cell_type": "code",
   "execution_count": null,
   "id": "68ed8c6d",
   "metadata": {},
   "outputs": [],
   "source": [
    "class Something:\n",
    "    # your class variable here\n",
    "\n",
    "    def __init__(self, xx):\n",
    "        self.attr = xx\n",
    "\n",
    "a = Something('hi')\n",
    "b = Something('there')\n",
    "\n",
    "\n",
    "# print cvar in 3 places here\n",
    "\n",
    "# print .attr from each of the two instances here"
   ]
  },
  {
   "cell_type": "markdown",
   "id": "b9513f84",
   "metadata": {},
   "source": [
    "<U>Expected Output</U>:  "
   ]
  },
  {
   "cell_type": "markdown",
   "id": "d9fd0b90",
   "metadata": {},
   "source": [
    "<pre style=\"margin: 0; padding=0\"><DIV style=\"font-family: Courier; border: 1px solid #dbdbdb; padding: 7px\">1000\n",
    "1000\n",
    "1000\n",
    "hi\n",
    "there</DIV></pre>"
   ]
  },
  {
   "cell_type": "markdown",
   "id": "286c6a2f",
   "metadata": {},
   "source": [
    " "
   ]
  },
  {
   "cell_type": "markdown",
   "id": "22754289",
   "metadata": {},
   "source": [
    "<B>6.12:  <U>Create a class method</U>.</B>"
   ]
  },
  {
   "cell_type": "markdown",
   "id": "3483d1c8",
   "metadata": {},
   "source": [
    "Add a class method <B>classincrement(cls)</B> that uses its <B>cls</B> argument to increment the <B>cattr</B> class variable (<B>cattr</B> will be found to be an attribute of <B>cls</B>.\n",
    "\n",
    "Call <B>classincrement()</B> through the instance <B>obj</B> as well as through the class <B>MyClass</B>.\n",
    "\n",
    "The values printed below should both be <B>1</B>.\n",
    "\n",
    "Before this can work as shown, however, you must decorate <B>classincrement()</B> with <B>@classmethod</B>.\n"
   ]
  },
  {
   "cell_type": "code",
   "execution_count": null,
   "id": "4992e57d",
   "metadata": {},
   "outputs": [],
   "source": [
    "class MyClass:\n",
    "    cattr = 0\n",
    "\n",
    "    # your classincrement(cls) method here\n",
    "\n",
    "\n",
    "obj = MyClass()\n",
    "\n",
    "\n",
    "obj.classincrement()\n",
    "\n",
    "print(obj.cattr)          # should be 1\n",
    "print(MyClass.cattr)      # should be 1"
   ]
  },
  {
   "cell_type": "markdown",
   "id": "92c2f9dc",
   "metadata": {},
   "source": [
    "<U>Expected Output</U>:  "
   ]
  },
  {
   "cell_type": "markdown",
   "id": "e87f02aa",
   "metadata": {},
   "source": [
    "<pre style=\"margin: 0; padding=0\"><DIV style=\"font-family: Courier; border: 1px solid #dbdbdb; padding: 7px\">1\n",
    "1</DIV></pre>"
   ]
  },
  {
   "cell_type": "markdown",
   "id": "db17cffd",
   "metadata": {},
   "source": [
    " "
   ]
  },
  {
   "cell_type": "markdown",
   "id": "dd6a7dc6",
   "metadata": {},
   "source": [
    "<B>6.13:  <U>Create a static method</U>.</B>"
   ]
  },
  {
   "cell_type": "markdown",
   "id": "0769116b",
   "metadata": {},
   "source": [
    "To the below class add the static method <B>ftoc(temp)</B> which converts a temperature in Fahrenheit to Celsius.\n",
    "\n",
    "The formula is <B>(temp - 32) * 5 / 9</B>\n",
    "\n",
    "To be a static method, the method must not take <B>self</B> as an argument, and must be decorated with <B>@staticmethod</B>.\n"
   ]
  },
  {
   "cell_type": "code",
   "execution_count": null,
   "id": "3f79a793",
   "metadata": {},
   "outputs": [],
   "source": [
    "class Forecast:\n",
    "\n",
    "    def __init__(self, forecast, high=0, low=0):\n",
    "        self.text = forecast\n",
    "        self.hightemp = high\n",
    "        self.lowtemp = low\n",
    "\n",
    "    # your ftoc(temp) static methood here\n",
    "\n",
    "\n",
    "\n",
    "t = Forecast('Light rain', high=62, low=48)\n",
    "\n",
    "\n",
    "print(t.ftoc(32))       # 0.0\n",
    "print(t.ftoc(212))      # 100.0"
   ]
  },
  {
   "cell_type": "markdown",
   "id": "164ba1ea",
   "metadata": {},
   "source": [
    "<U>Expected Output</U>:  "
   ]
  },
  {
   "cell_type": "markdown",
   "id": "6db5e264",
   "metadata": {},
   "source": [
    "<pre style=\"margin: 0; padding=0\"><DIV style=\"font-family: Courier; border: 1px solid #dbdbdb; padding: 7px\">0.0\n",
    "100.0</DIV></pre>"
   ]
  },
  {
   "cell_type": "markdown",
   "id": "381f335a",
   "metadata": {},
   "source": [
    " "
   ]
  },
  {
   "cell_type": "markdown",
   "id": "68b2129f",
   "metadata": {},
   "source": [
    "LAB 2"
   ]
  },
  {
   "cell_type": "markdown",
   "id": "bbcf4646",
   "metadata": {},
   "source": [
    "<div style=\"background-color: #ccffcc; padding: 10px; border: 2px solid green\"><B>6.14:  Create class <B>Counter</B>, initialized with an integer as shown below.  Set the attribute <B>.counterval</B> in \\_\\_init\\_\\_ so that it is available in the instance.  </B></div>"
   ]
  },
  {
   "cell_type": "code",
   "execution_count": null,
   "id": "45d0ef85",
   "metadata": {},
   "outputs": [],
   "source": [
    "# your code here\n",
    "\n",
    "\n",
    "c = Counter(5)\n",
    "\n",
    "print(c.counterval)    # 5"
   ]
  },
  {
   "cell_type": "markdown",
   "id": "f6f82033",
   "metadata": {},
   "source": [
    "<U>Expected Output</U>:  "
   ]
  },
  {
   "cell_type": "markdown",
   "id": "d56797ef",
   "metadata": {},
   "source": [
    "<pre style=\"margin: 0; padding=0\"><DIV style=\"font-family: Courier; border: 1px solid #dbdbdb; padding: 7px\">5</DIV></pre>"
   ]
  },
  {
   "cell_type": "markdown",
   "id": "40250966",
   "metadata": {},
   "source": [
    " "
   ]
  },
  {
   "cell_type": "markdown",
   "id": "c8d40c05",
   "metadata": {},
   "source": [
    "<div style=\"background-color: #ccffcc; padding: 10px; border: 2px solid green\"><B>6.15:  Update <B>Counter</B> with an <B>.increment()</B> method that increments the attribute value each time it is called.  Call <B>.increment()</B> twice, then print the value of <B>.counterval</B> through the instance.  </B></div>"
   ]
  },
  {
   "cell_type": "code",
   "execution_count": null,
   "id": "1d575c23",
   "metadata": {},
   "outputs": [],
   "source": [
    "class Counter:\n",
    "    def __init__(self, val):\n",
    "        self.counterval = val\n",
    "\n",
    "    # your code here\n",
    "\n",
    "\n",
    "c = Counter(5)\n",
    "\n",
    "c.increment()\n",
    "c.increment()\n",
    "\n",
    "print(c.counterval)    # 7"
   ]
  },
  {
   "cell_type": "markdown",
   "id": "7f60469b",
   "metadata": {},
   "source": [
    "<U>Expected Output</U>:  "
   ]
  },
  {
   "cell_type": "markdown",
   "id": "b12b4aa0",
   "metadata": {},
   "source": [
    "<pre style=\"margin: 0; padding=0\"><DIV style=\"font-family: Courier; border: 1px solid #dbdbdb; padding: 7px\">7</DIV></pre>"
   ]
  },
  {
   "cell_type": "markdown",
   "id": "b5df9dca",
   "metadata": {},
   "source": [
    " "
   ]
  },
  {
   "cell_type": "markdown",
   "id": "137edfbe",
   "metadata": {},
   "source": [
    "<div style=\"background-color: #ccffcc; padding: 10px; border: 2px solid green\"><B>6.16:  Update Counter with a show\\_value() method that returns the attribute value.  </B></div>"
   ]
  },
  {
   "cell_type": "code",
   "execution_count": null,
   "id": "89b64a41",
   "metadata": {},
   "outputs": [],
   "source": [
    "class Counter:\n",
    "    def __init__(self, val):\n",
    "        self.counterval = val\n",
    "\n",
    "    def increment(self):\n",
    "        self.counterval = self.counterval + 1\n",
    "\n",
    "    # your code here\n",
    "\n",
    "\n",
    "c = Counter(5)\n",
    "\n",
    "c.increment()\n",
    "c.increment()\n",
    "\n",
    "print(c.show_value())    # 7\n"
   ]
  },
  {
   "cell_type": "markdown",
   "id": "6a5b0ce0",
   "metadata": {},
   "source": [
    "<U>Expected Output</U>:  "
   ]
  },
  {
   "cell_type": "markdown",
   "id": "50abdd75",
   "metadata": {},
   "source": [
    "<pre style=\"margin: 0; padding=0\"><DIV style=\"font-family: Courier; border: 1px solid #dbdbdb; padding: 7px\">7</DIV></pre>"
   ]
  },
  {
   "cell_type": "markdown",
   "id": "d532d75b",
   "metadata": {},
   "source": [
    " "
   ]
  },
  {
   "cell_type": "markdown",
   "id": "7d3b50d8",
   "metadata": {},
   "source": [
    "<div style=\"background-color: #ccffcc; padding: 10px; border: 2px solid green\"><B>6.17:  Set a class variable, 'increment\\_value' to 3 - this will specify how much the <B>increment()</B> method should increase the attribute.  Add this value to the <B>.counterval</B> attribute in <B>increment()</B>.  </B></div>"
   ]
  },
  {
   "cell_type": "code",
   "execution_count": null,
   "id": "aa7f5db7",
   "metadata": {},
   "outputs": [],
   "source": [
    "class Counter:\n",
    "    # your class variable here\n",
    "\n",
    "    def __init__(self, val):\n",
    "        self.counterval = val\n",
    "\n",
    "    def increment(self):\n",
    "        # increment .counterval here\n",
    "\n",
    "c = Counter(5)\n",
    "\n",
    "c.increment()\n",
    "c.increment()\n",
    "\n",
    "print(c.counterval)    # 11 (5 + 3 + 3)"
   ]
  },
  {
   "cell_type": "markdown",
   "id": "37f6fb43",
   "metadata": {},
   "source": [
    "<U>Expected Output</U>:  "
   ]
  },
  {
   "cell_type": "markdown",
   "id": "7a2cc1e0",
   "metadata": {},
   "source": [
    "<pre style=\"margin: 0; padding=0\"><DIV style=\"font-family: Courier; border: 1px solid #dbdbdb; padding: 7px\">7</DIV></pre>"
   ]
  },
  {
   "cell_type": "markdown",
   "id": "2def8b06",
   "metadata": {},
   "source": [
    " "
   ]
  },
  {
   "cell_type": "markdown",
   "id": "b7cda0dc",
   "metadata": {},
   "source": [
    "MODULES"
   ]
  },
  {
   "cell_type": "markdown",
   "id": "7ab5535d",
   "metadata": {},
   "source": [
    "<B>6.18:  <U>Create a module that holds a function</U>.  </B>"
   ]
  },
  {
   "cell_type": "markdown",
   "id": "110f3d75",
   "metadata": {},
   "source": [
    "Create a new file, <B>temputils.py</B>, that has the below functions <B>def ctof()</B> and <B>def ftoc()</B>.  Place this file in the same folder as this exercise file (<B>inclass\\_exercises</B> if this is a <B>.py</B> file; <B>notebooks\\_inclass\\_challege</B> if this is a Jupyter notebook).\n"
   ]
  },
  {
   "cell_type": "markdown",
   "id": "26abd837",
   "metadata": {},
   "source": [
    "Contents of <B>temputils.py</B>:"
   ]
  },
  {
   "cell_type": "markdown",
   "id": "5b5a1357",
   "metadata": {},
   "source": [
    "<pre style=\"margin: 0; padding=0\"><DIV style=\"font-family: Courier; border: 1px solid #dbdbdb; padding: 7px\">def ctof(temp):\n",
    "    \"\"\" function to convert celsius to fahrenheit \"\"\"\n",
    "    if not isinstance(temp, (int,float)):\n",
    "        raise TypeError('must be an int or float')\n",
    "    return (temp * 9 / 5) + 32\n",
    "\n",
    "\n",
    "def ftoc(temp):\n",
    "    \"\"\" function to convert fahrenheit to celsius \"\"\"\n",
    "    if not isinstance(temp, (int,float)):\n",
    "        raise TypeError('must be an int or float')\n",
    "    return (temp - 32) * 5 / 9</DIV></pre>"
   ]
  },
  {
   "cell_type": "code",
   "execution_count": null,
   "id": "948628a3",
   "metadata": {},
   "outputs": [],
   "source": [
    "import temputils as tu\n",
    "\n",
    "val = tu.ftoc(212)\n",
    "print(val)             # 100.0\n",
    "\n",
    "val2 = tu.ctof(0)\n",
    "print(val2)            # 32.0\n"
   ]
  },
  {
   "cell_type": "markdown",
   "id": "c44565bf",
   "metadata": {},
   "source": [
    "<U>Expected Output</U>:  "
   ]
  },
  {
   "cell_type": "markdown",
   "id": "147b73f5",
   "metadata": {},
   "source": [
    "<pre style=\"margin: 0; padding=0\"><DIV style=\"font-family: Courier; border: 1px solid #dbdbdb; padding: 7px\">100.0\n",
    "32.0</DIV></pre>"
   ]
  },
  {
   "cell_type": "markdown",
   "id": "a6d9317f",
   "metadata": {},
   "source": [
    " "
   ]
  },
  {
   "cell_type": "markdown",
   "id": "44a2310b",
   "metadata": {},
   "source": [
    "<B>6.19:  <U>Set PYTHONPATH environment variable to make <B>utils.py</B> importable from any directory.  </B>"
   ]
  },
  {
   "cell_type": "markdown",
   "id": "e7d10fa7",
   "metadata": {},
   "source": [
    "Move (don't copy) <B>temputils.py</B> to your Desktop.  This can be done through the PyCharm file view or your Finder or Windows Explorer windows.\n",
    "\n",
    "If you are using Jupyter Notebook, for this exercise you must first restart the kernel.  Click the circular arrow in the menu bar, or <B>Kernel -> Restart</B> (no outputs will be cleared from your notebook).\n",
    "\n",
    "Run the below exercise and note the <B>ModuleNotFoundError</B>, which indicates that the module can no longer be located.  This is because it is not in the same directory as this exercise file.\n"
   ]
  },
  {
   "cell_type": "code",
   "execution_count": null,
   "id": "ddac37bb",
   "metadata": {},
   "outputs": [],
   "source": [
    "import temputils as tu\n",
    "\n",
    "val = tu.ftoc(212)\n",
    "print(val)             # 100.0\n",
    "\n",
    "val2 = tu.ctof(0)\n",
    "print(val2)            # 32.0\n"
   ]
  },
  {
   "cell_type": "markdown",
   "id": "23e81de9",
   "metadata": {},
   "source": [
    "Now follow the directions under the slide <B>Setting the PYTHONPATH Environment Variable</B> to set or add your Desktop path there:\n",
    "\n",
    "The most common locations for <B>Desktop</B> are:\n",
    "\n",
    "<U>Windows</U>:  <B>C:\\Users\\<I>username</I>\\Desktop</B>\n",
    "<U>Mac</U>:  <B>/Users/<I>username</I>/Desktop</B>\n",
    "\n",
    "Where <I>username</I> is the name of your home directory.\n",
    "\n",
    "Finally, run the code again and see that the module was found in its new location.\n"
   ]
  },
  {
   "cell_type": "markdown",
   "id": "1c56d433",
   "metadata": {},
   "source": [
    "<U>Expected Output</U>:  "
   ]
  },
  {
   "cell_type": "markdown",
   "id": "1921b7d9",
   "metadata": {},
   "source": [
    "<pre style=\"margin: 0; padding=0\"><DIV style=\"font-family: Courier; border: 1px solid #dbdbdb; padding: 7px\">100.0\n",
    "32.0</DIV></pre>"
   ]
  },
  {
   "cell_type": "markdown",
   "id": "e5ca0584",
   "metadata": {},
   "source": [
    " "
   ]
  },
  {
   "cell_type": "markdown",
   "id": "f88fd62d",
   "metadata": {},
   "source": [
    "<B>6.20:  <U>Create a module that holds a class</U>.</B>"
   ]
  },
  {
   "cell_type": "markdown",
   "id": "47942f57",
   "metadata": {},
   "source": [
    "Add the below class to <B>temputils.py</B>.\n"
   ]
  },
  {
   "cell_type": "markdown",
   "id": "774fa426",
   "metadata": {},
   "source": [
    "<pre style=\"margin: 0; padding=0\"><DIV style=\"font-family: Courier; border: 1px solid #dbdbdb; padding: 7px\">class TempConvert:\n",
    "\n",
    "    def __init__(self, temp, scale='F'):\n",
    "        self.itemp = temp\n",
    "        self.scale = scale\n",
    "\n",
    "    def as_fahrenheit(self):\n",
    "        \"\"\" function to convert celsius to fahrenheit \"\"\"\n",
    "        if self.scale == 'F':\n",
    "            return self.itemp\n",
    "        return (self.itemp * 9 / 5) + 32\n",
    "\n",
    "    def as_celsius(self):\n",
    "        \"\"\" function to convert fahrenheit to celsius \"\"\"\n",
    "        if self.scale == 'C':\n",
    "            return self.itemp\n",
    "        return (self.itemp - 32) * 5 / 9\n",
    "</DIV></pre>"
   ]
  },
  {
   "cell_type": "markdown",
   "id": "3783569e",
   "metadata": {},
   "source": [
    "Then import the class and use it as indicated below.\n"
   ]
  },
  {
   "cell_type": "code",
   "execution_count": null,
   "id": "9a91d39c",
   "metadata": {},
   "outputs": [],
   "source": [
    "import temputils as tu\n",
    "\n",
    "\n",
    "# construct a TempConvert object as 32 degrees Fahrenheit\n",
    "\n",
    "# call .as_celsius() to see the value 0\n",
    "\n",
    "\n",
    "# construct a Tempconvert object as 100 degrees Celsius\n",
    "\n",
    "# call .as_fahrenheit() to see the value 212\n"
   ]
  },
  {
   "cell_type": "markdown",
   "id": "96fa48c3",
   "metadata": {},
   "source": [
    "<U>Expected Output</U>:  "
   ]
  },
  {
   "cell_type": "markdown",
   "id": "909981e7",
   "metadata": {},
   "source": [
    "<pre style=\"margin: 0; padding=0\"><DIV style=\"font-family: Courier; border: 1px solid #dbdbdb; padding: 7px\">0.0\n",
    "212.0</DIV></pre>"
   ]
  },
  {
   "cell_type": "markdown",
   "id": "e78aa093",
   "metadata": {},
   "source": [
    " "
   ]
  }
 ],
 "metadata": {},
 "nbformat": 4,
 "nbformat_minor": 5
}
